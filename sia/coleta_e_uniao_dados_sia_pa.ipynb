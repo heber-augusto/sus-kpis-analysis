{
  "nbformat": 4,
  "nbformat_minor": 0,
  "metadata": {
    "colab": {
      "name": "coleta-e-uniao-dados-sia-pa.ipynb",
      "provenance": [],
      "collapsed_sections": [
        "xtE2jR5e1yOA",
        "Skju7MOR12W2"
      ],
      "mount_file_id": "16ZLzDQodEXJ1mzubGLki4jHmTsMOy48Y",
      "authorship_tag": "ABX9TyNgAZUum8+jBNlG9JdKRmS6",
      "include_colab_link": true
    },
    "kernelspec": {
      "display_name": "Python 3",
      "name": "python3"
    },
    "language_info": {
      "name": "python"
    }
  },
  "cells": [
    {
      "cell_type": "markdown",
      "metadata": {
        "id": "view-in-github",
        "colab_type": "text"
      },
      "source": [
        "<a href=\"https://colab.research.google.com/github/heber-augusto/sus-kpis-analysis/blob/main/sia/coleta_e_uniao_dados_sia_pa.ipynb\" target=\"_parent\"><img src=\"https://colab.research.google.com/assets/colab-badge.svg\" alt=\"Open In Colab\"/></a>"
      ]
    },
    {
      "cell_type": "markdown",
      "source": [
        "# Apresentação\n",
        "Este notebook foi desenvolvido como parte do projeto Monitor Rosa, um conjunto de ferramentas, softwares e outros artefatos cujo principal objetivo é melhorar o cenário de diagnósticos de câncer de mama no Brasil, idealmente melhorando diminuindo a proporção de diagnósticos tardios/diagnósticos precoces.\n",
        "\n",
        "Os arquivos utilizados neste notebook foram coletados através dos scripts presentes [neste repositório](https://github.com/heber-augusto/devops-pysus-get-files). Os arquios foram armazenados em um bucket do Google Storage no formato parquet compactados (gzip)."
      ],
      "metadata": {
        "id": "42vplD1qX8C8"
      }
    },
    {
      "cell_type": "markdown",
      "source": [
        "# Instalação de bibliotecas e pacotes para leitura de arquivos"
      ],
      "metadata": {
        "id": "lISPGKlqZNL6"
      }
    },
    {
      "cell_type": "markdown",
      "metadata": {
        "id": "ynk2zJ0I-QOR"
      },
      "source": [
        "## Configurações iniciais para conectar com bucket no Google Storage\n",
        " - Autenticação do Google Colab\n",
        " - Definição do nome do projeto\n",
        "\n",
        " Para a execução dos comandos desta seção, o arquio gcp-leitura.json deve ser inserido na raiz do colab."
      ]
    },
    {
      "cell_type": "code",
      "metadata": {
        "id": "1TftIJsK9M7-"
      },
      "source": [
        "from google.colab import auth\n",
        "auth.authenticate_user()\n",
        "\n",
        "# id do projeto\n",
        "project_id = 'teak-ellipse-317015'\n",
        "# id do bucket dentro do projeto\n",
        "bucket_id = 'observatorio-oncologia'\n",
        "\n",
        "# nome da pasta local para mapear\n",
        "local_folder_name = 'colab'\n",
        "\n",
        "# nome da pasta do projeto\n",
        "project_folder_name = 'monitor'"
      ],
      "execution_count": 1,
      "outputs": []
    },
    {
      "cell_type": "markdown",
      "metadata": {
        "id": "2_B13GvM-Xtm"
      },
      "source": [
        "## Instalação para garantir montagem da pasta no bucket\n",
        "Instalação do gcsfuse para mapear pasta do bucket no google colab"
      ]
    },
    {
      "cell_type": "code",
      "metadata": {
        "colab": {
          "base_uri": "https://localhost:8080/"
        },
        "id": "XVpbrf9T-cUT",
        "outputId": "2750d15e-e6a7-49a7-fbc1-387531633b65"
      },
      "source": [
        "!echo \"deb http://packages.cloud.google.com/apt gcsfuse-bionic main\" > /etc/apt/sources.list.d/gcsfuse.list\n",
        "!curl https://packages.cloud.google.com/apt/doc/apt-key.gpg | apt-key add -\n",
        "!apt -qq update\n",
        "!apt -qq install gcsfuse"
      ],
      "execution_count": 2,
      "outputs": [
        {
          "output_type": "stream",
          "name": "stdout",
          "text": [
            "  % Total    % Received % Xferd  Average Speed   Time    Time     Time  Current\n",
            "                                 Dload  Upload   Total   Spent    Left  Speed\n",
            "\r  0     0    0     0    0     0      0      0 --:--:-- --:--:-- --:--:--     0\r100  2537  100  2537    0     0  57659      0 --:--:-- --:--:-- --:--:-- 57659\n",
            "OK\n",
            "20 packages can be upgraded. Run 'apt list --upgradable' to see them.\n",
            "The following package was automatically installed and is no longer required:\n",
            "  libnvidia-common-460\n",
            "Use 'apt autoremove' to remove it.\n",
            "The following NEW packages will be installed:\n",
            "  gcsfuse\n",
            "0 upgraded, 1 newly installed, 0 to remove and 20 not upgraded.\n",
            "Need to get 12.1 MB of archives.\n",
            "After this operation, 27.5 MB of additional disk space will be used.\n",
            "Selecting previously unselected package gcsfuse.\n",
            "(Reading database ... 155676 files and directories currently installed.)\n",
            "Preparing to unpack .../gcsfuse_0.41.5_amd64.deb ...\n",
            "Unpacking gcsfuse (0.41.5) ...\n",
            "Setting up gcsfuse (0.41.5) ...\n"
          ]
        }
      ]
    },
    {
      "cell_type": "markdown",
      "source": [
        "## Nome/caminho do arquivo json contendo credenciais de acesso ao storage do Google"
      ],
      "metadata": {
        "id": "Leik8iOrceAZ"
      }
    },
    {
      "cell_type": "code",
      "source": [
        "serice_account_json = '/content/gcp-leitura.json'"
      ],
      "metadata": {
        "id": "Xm0oBdhVI47r"
      },
      "execution_count": 3,
      "outputs": []
    },
    {
      "cell_type": "markdown",
      "metadata": {
        "id": "1dhsmK5a_Gek"
      },
      "source": [
        "## Montagem do bucket em uma pasta local do google colab"
      ]
    },
    {
      "cell_type": "code",
      "metadata": {
        "colab": {
          "base_uri": "https://localhost:8080/"
        },
        "id": "WUF134Mt-y4d",
        "outputId": "429ea981-95ca-4f0a-f05b-882360dbe524"
      },
      "source": [
        "!mkdir {local_folder_name}\n",
        "!gcsfuse --key-file {serice_account_json} --implicit-dirs {bucket_id} {local_folder_name}"
      ],
      "execution_count": 4,
      "outputs": [
        {
          "output_type": "stream",
          "name": "stdout",
          "text": [
            "2022/08/17 15:23:21.745587 Start gcsfuse/0.41.5 (Go version go1.18.4) for app \"\" using mount point: /content/colab\n",
            "2022/08/17 15:23:21.761718 Opening GCS connection...\n",
            "2022/08/17 15:23:22.160918 Mounting file system \"observatorio-oncologia\"...\n",
            "2022/08/17 15:23:22.196405 File system has been successfully mounted.\n"
          ]
        }
      ]
    },
    {
      "cell_type": "markdown",
      "source": [
        "## Função para facilitar coleta de arquivo"
      ],
      "metadata": {
        "id": "CeYSqEhKcwDC"
      }
    },
    {
      "cell_type": "code",
      "source": [
        "import glob\n",
        "import os\n",
        "\n",
        "def get_files(state, year, month, file_type, file_group):\n",
        "    initial_path = os.path.join(r'/content/',local_folder_name,project_folder_name)\n",
        "    internal_folder = f\"\"\"{state}/{year}/{month}/{file_type}/{file_group}\"\"\"\n",
        "    # print(f\"{initial_path}/{internal_folder}/*.parquet.gzip\")\n",
        "    return glob.glob(f\"{initial_path}/{internal_folder}/*.parquet.gzip\")    "
      ],
      "metadata": {
        "id": "rRWGqdIUY7nr"
      },
      "execution_count": 5,
      "outputs": []
    },
    {
      "cell_type": "markdown",
      "source": [
        "# SIA PA, AQ e AR: Leitura, filtro e transformação inicial dos arquivos"
      ],
      "metadata": {
        "id": "pHS-5WCngIHY"
      }
    },
    {
      "cell_type": "markdown",
      "source": [
        "## Informações sobre filtros pertinentes ao contexto de câncer de mama:\n",
        "\n",
        "### SIA – Procedimentos ambulatoriais (PA)\n",
        "\n",
        "Realizar filtro através da variável do código de procedimento ambulatorial “PA_PROC_ID” (10 caracteres)\n",
        " * Filtros:\n",
        "  * 0204030030\n",
        "  * 0204030188\n"
      ],
      "metadata": {
        "id": "XA0TpF6Gc3u9"
      }
    },
    {
      "cell_type": "markdown",
      "source": [
        "## Bibliotecas utilizadas na análise exploratória"
      ],
      "metadata": {
        "id": "c07ydk4ag432"
      }
    },
    {
      "cell_type": "code",
      "source": [
        "import pandas as pd\n",
        "import numpy as np "
      ],
      "metadata": {
        "id": "mUmzW3NXg-z1"
      },
      "execution_count": 6,
      "outputs": []
    },
    {
      "cell_type": "markdown",
      "source": [
        "## Variáveis de filtro"
      ],
      "metadata": {
        "id": "rN4lZn1reIaN"
      }
    },
    {
      "cell_type": "code",
      "source": [
        "# filtro pelo cid\n",
        "proc_id_filter = ['0204030030' , '0204030188']"
      ],
      "metadata": {
        "id": "Pl1XPDBheHFR"
      },
      "execution_count": 7,
      "outputs": []
    },
    {
      "cell_type": "markdown",
      "source": [
        "## Funções de filtro para arquivo SIA PA, AQ e AR"
      ],
      "metadata": {
        "id": "lPnM16Mngb_o"
      }
    },
    {
      "cell_type": "code",
      "source": [
        "def filter_pa_content(df):\n",
        "    \"\"\"\n",
        "\n",
        "    \"\"\"\n",
        "    return df[df.PA_PROC_ID.isin(proc_id_filter)]\n",
        "\n",
        "\n"
      ],
      "metadata": {
        "id": "DuP3uqOXgbhf"
      },
      "execution_count": 15,
      "outputs": []
    },
    {
      "cell_type": "markdown",
      "source": [
        "## Função para unir diversos arquivos em um único datraframe"
      ],
      "metadata": {
        "id": "jTa2XLlwq-li"
      }
    },
    {
      "cell_type": "code",
      "source": [
        "def create_cancer_dataframe(file_paths, filter_function=filter_pa_content):\n",
        "    \"\"\"\n",
        "\n",
        "    \"\"\"\n",
        "    filtered_contents = [\n",
        "      filter_function(pd.read_parquet(file_path))\n",
        "      for file_path in file_paths\n",
        "      ]\n",
        "\n",
        "    return pd.concat(\n",
        "        filtered_contents, \n",
        "        ignore_index=True)\n",
        "\n"
      ],
      "metadata": {
        "id": "rJVR5ROurGdl"
      },
      "execution_count": 9,
      "outputs": []
    },
    {
      "cell_type": "markdown",
      "source": [
        "## Função para retornar lista de arquivos (caminho completo)"
      ],
      "metadata": {
        "id": "orR1zHsZxz6T"
      }
    },
    {
      "cell_type": "code",
      "source": [
        "def get_file_paths(states, years, months, file_type, file_group):\n",
        "    \"\"\"\n",
        "\n",
        "    \"\"\"\n",
        "    file_paths = []\n",
        "    for state in states:\n",
        "        for year in years:\n",
        "            for month in months:\n",
        "                file_paths.extend(\n",
        "                    get_files(\n",
        "                        state,\n",
        "                        year,\n",
        "                        month,\n",
        "                        file_type,\n",
        "                        file_group)\n",
        "                )\n",
        "    return file_paths"
      ],
      "metadata": {
        "id": "vIFCMszCx0EZ"
      },
      "execution_count": 10,
      "outputs": []
    },
    {
      "cell_type": "markdown",
      "source": [
        "## SIA PA: Leitura e união de dados para o período desejado\n",
        "\n",
        "\n"
      ],
      "metadata": {
        "id": "6S-hjI9udMtM"
      }
    },
    {
      "cell_type": "markdown",
      "source": [
        "### Estado, anos e meses a serem lidos e processados"
      ],
      "metadata": {
        "id": "9ar53dWEh4yM"
      }
    },
    {
      "cell_type": "code",
      "source": [
        "states = ['SP',]\n",
        "start_year = 2015\n",
        "end_year = 2021\n",
        "years  = [f'{year + 2008:02d}' for year in range(end_year - start_year + 1)]\n",
        "months = [f'{month + 1:02d}' for month in range(12)]\n",
        "file_type = 'SIA'"
      ],
      "metadata": {
        "id": "LKXSGWB2tHkH"
      },
      "execution_count": 11,
      "outputs": []
    },
    {
      "cell_type": "markdown",
      "source": [
        "### Monta lista de arquivos a serem lidos"
      ],
      "metadata": {
        "id": "7gNtCfyIt05w"
      }
    },
    {
      "cell_type": "code",
      "source": [
        "file_paths_by_type = {}\n",
        "\n",
        "# Arquivos de produção ambulatorial\n",
        "file_paths_by_type['PA'] = get_file_paths(\n",
        "    states,\n",
        "    years,\n",
        "    months,\n",
        "    file_type,\n",
        "    'PA'\n",
        ")"
      ],
      "metadata": {
        "id": "NNoipA4fO1rH"
      },
      "execution_count": 12,
      "outputs": []
    },
    {
      "cell_type": "code",
      "source": [
        "print(f\"\"\"Identificados {len(file_paths_by_type['PA'])} arquivos de produção ambulatorial\"\"\")\n"
      ],
      "metadata": {
        "colab": {
          "base_uri": "https://localhost:8080/"
        },
        "id": "YSTDQAA_uPBb",
        "outputId": "229be39b-9e2b-4a0a-9788-6a3a6f25ec1b"
      },
      "execution_count": 13,
      "outputs": [
        {
          "output_type": "stream",
          "name": "stdout",
          "text": [
            "Identificados 109 arquivos de produção ambulatorial\n"
          ]
        }
      ]
    },
    {
      "cell_type": "markdown",
      "source": [
        "## Cria um único dataframe a partir dos conteúdos filtrados"
      ],
      "metadata": {
        "id": "dxCXJKY4rlJD"
      }
    },
    {
      "cell_type": "code",
      "metadata": {
        "id": "G25snj6ghnwl"
      },
      "source": [
        "cancer_dataframe_pa = create_cancer_dataframe(file_paths_by_type['PA'], filter_function=filter_pa_content)"
      ],
      "execution_count": null,
      "outputs": []
    },
    {
      "cell_type": "markdown",
      "source": [
        "## Dataframe de PA"
      ],
      "metadata": {
        "id": "xtE2jR5e1yOA"
      }
    },
    {
      "cell_type": "code",
      "source": [
        "cancer_dataframe_pa"
      ],
      "metadata": {
        "id": "wAIWTqOUjQNh"
      },
      "execution_count": null,
      "outputs": []
    },
    {
      "cell_type": "code",
      "source": [
        "cancer_dataframe_pa.info()"
      ],
      "metadata": {
        "id": "Q-mVYp8V8Frt"
      },
      "execution_count": null,
      "outputs": []
    },
    {
      "cell_type": "markdown",
      "source": [
        "## Cria arquivo de pacientes"
      ],
      "metadata": {
        "id": "wKmPaQ0nZ6vH"
      }
    },
    {
      "cell_type": "code",
      "source": [
        "cancer_dataframe_pa.to_csv(\n",
        "    'pa.csv')"
      ],
      "metadata": {
        "id": "718zgnHXZhPb"
      },
      "execution_count": null,
      "outputs": []
    },
    {
      "cell_type": "code",
      "source": [
        ""
      ],
      "metadata": {
        "id": "BAVvBt0pZ-VU"
      },
      "execution_count": null,
      "outputs": []
    }
  ]
}