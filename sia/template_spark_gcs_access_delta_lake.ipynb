{
  "cells": [
    {
      "cell_type": "markdown",
      "metadata": {
        "id": "view-in-github",
        "colab_type": "text"
      },
      "source": [
        "<a href=\"https://colab.research.google.com/github/heber-augusto/sus-kpis-analysis/blob/main/sia/template_spark_gcs_access_delta_lake.ipynb\" target=\"_parent\"><img src=\"https://colab.research.google.com/assets/colab-badge.svg\" alt=\"Open In Colab\"/></a>"
      ]
    },
    {
      "cell_type": "markdown",
      "source": [
        "# Configuração do ambiente\n",
        "\n",
        "**Lembre-se de baixar o arquivo json que garante acesso ao google storage**"
      ],
      "metadata": {
        "id": "eNviCQI6IDqh"
      }
    },
    {
      "cell_type": "code",
      "source": [
        "!rm -r sus-kpis-analysis\n",
        "!git clone https://github.com/heber-augusto/sus-kpis-analysis.git"
      ],
      "metadata": {
        "colab": {
          "base_uri": "https://localhost:8080/"
        },
        "id": "qxl5dgNHuCsK",
        "outputId": "26618cc2-deff-455b-8fb8-1a3ac915df76"
      },
      "execution_count": 1,
      "outputs": [
        {
          "output_type": "stream",
          "name": "stdout",
          "text": [
            "rm: cannot remove 'sus-kpis-analysis': No such file or directory\n",
            "Cloning into 'sus-kpis-analysis'...\n",
            "remote: Enumerating objects: 616, done.\u001b[K\n",
            "remote: Counting objects: 100% (399/399), done.\u001b[K\n",
            "remote: Compressing objects: 100% (258/258), done.\u001b[K\n",
            "remote: Total 616 (delta 202), reused 196 (delta 91), pack-reused 217\u001b[K\n",
            "Receiving objects: 100% (616/616), 2.85 MiB | 2.76 MiB/s, done.\n",
            "Resolving deltas: 100% (296/296), done.\n"
          ]
        }
      ]
    },
    {
      "cell_type": "markdown",
      "source": [
        "## Instalação de libs Python, inicialização de variáveis de ambiente e configuração/instalação do Spark"
      ],
      "metadata": {
        "id": "9NYsSZynDK9K"
      }
    },
    {
      "cell_type": "code",
      "source": [
        "!pip install -r /content/sus-kpis-analysis/sia/etls/requirements.txt\n",
        "\n",
        "%env PYTHONHASHSEED=1234\n",
        "%env JAVA_HOME=/usr/lib/jvm/java-8-openjdk-amd64\n",
        "%env SPARK_HOME=/content/spark-3.4.1-bin-hadoop3\n",
        "%env SPARK_VERSION=3.4.1\n",
        "\n",
        "!source /content/sus-kpis-analysis/sia/etls/bin/setup_spark_env.sh '/content/'"
      ],
      "metadata": {
        "colab": {
          "base_uri": "https://localhost:8080/"
        },
        "id": "6v3Wqjxhu4Gq",
        "outputId": "0b39ba44-156f-4670-bebc-ca868aaecb6d"
      },
      "execution_count": 2,
      "outputs": [
        {
          "output_type": "stream",
          "name": "stdout",
          "text": [
            "Collecting findspark (from -r /content/sus-kpis-analysis/sia/etls/requirements.txt (line 1))\n",
            "  Downloading findspark-2.0.1-py2.py3-none-any.whl (4.4 kB)\n",
            "Collecting pyspark (from -r /content/sus-kpis-analysis/sia/etls/requirements.txt (line 2))\n",
            "  Downloading pyspark-3.5.0.tar.gz (316.9 MB)\n",
            "\u001b[2K     \u001b[90m━━━━━━━━━━━━━━━━━━━━━━━━━━━━━━━━━━━━━━━\u001b[0m \u001b[32m316.9/316.9 MB\u001b[0m \u001b[31m4.4 MB/s\u001b[0m eta \u001b[36m0:00:00\u001b[0m\n",
            "\u001b[?25h  Preparing metadata (setup.py) ... \u001b[?25l\u001b[?25hdone\n",
            "Collecting imagehash (from -r /content/sus-kpis-analysis/sia/etls/requirements.txt (line 3))\n",
            "  Downloading ImageHash-4.3.1-py2.py3-none-any.whl (296 kB)\n",
            "\u001b[2K     \u001b[90m━━━━━━━━━━━━━━━━━━━━━━━━━━━━━━━━━━━━━━\u001b[0m \u001b[32m296.5/296.5 kB\u001b[0m \u001b[31m30.7 MB/s\u001b[0m eta \u001b[36m0:00:00\u001b[0m\n",
            "\u001b[?25hCollecting delta-spark==2.4.0 (from -r /content/sus-kpis-analysis/sia/etls/requirements.txt (line 4))\n",
            "  Downloading delta_spark-2.4.0-py3-none-any.whl (20 kB)\n",
            "Requirement already satisfied: google-cloud-storage in /usr/local/lib/python3.10/dist-packages (from -r /content/sus-kpis-analysis/sia/etls/requirements.txt (line 5)) (2.8.0)\n",
            "Collecting pyspark (from -r /content/sus-kpis-analysis/sia/etls/requirements.txt (line 2))\n",
            "  Downloading pyspark-3.4.1.tar.gz (310.8 MB)\n",
            "\u001b[2K     \u001b[90m━━━━━━━━━━━━━━━━━━━━━━━━━━━━━━━━━━━━━━━\u001b[0m \u001b[32m310.8/310.8 MB\u001b[0m \u001b[31m4.5 MB/s\u001b[0m eta \u001b[36m0:00:00\u001b[0m\n",
            "\u001b[?25h  Preparing metadata (setup.py) ... \u001b[?25l\u001b[?25hdone\n",
            "Requirement already satisfied: importlib-metadata>=1.0.0 in /usr/local/lib/python3.10/dist-packages (from delta-spark==2.4.0->-r /content/sus-kpis-analysis/sia/etls/requirements.txt (line 4)) (6.8.0)\n",
            "Requirement already satisfied: py4j==0.10.9.7 in /usr/local/lib/python3.10/dist-packages (from pyspark->-r /content/sus-kpis-analysis/sia/etls/requirements.txt (line 2)) (0.10.9.7)\n",
            "Requirement already satisfied: PyWavelets in /usr/local/lib/python3.10/dist-packages (from imagehash->-r /content/sus-kpis-analysis/sia/etls/requirements.txt (line 3)) (1.4.1)\n",
            "Requirement already satisfied: numpy in /usr/local/lib/python3.10/dist-packages (from imagehash->-r /content/sus-kpis-analysis/sia/etls/requirements.txt (line 3)) (1.23.5)\n",
            "Requirement already satisfied: pillow in /usr/local/lib/python3.10/dist-packages (from imagehash->-r /content/sus-kpis-analysis/sia/etls/requirements.txt (line 3)) (9.4.0)\n",
            "Requirement already satisfied: scipy in /usr/local/lib/python3.10/dist-packages (from imagehash->-r /content/sus-kpis-analysis/sia/etls/requirements.txt (line 3)) (1.11.2)\n",
            "Requirement already satisfied: google-auth<3.0dev,>=1.25.0 in /usr/local/lib/python3.10/dist-packages (from google-cloud-storage->-r /content/sus-kpis-analysis/sia/etls/requirements.txt (line 5)) (2.17.3)\n",
            "Requirement already satisfied: google-api-core!=2.0.*,!=2.1.*,!=2.2.*,!=2.3.0,<3.0.0dev,>=1.31.5 in /usr/local/lib/python3.10/dist-packages (from google-cloud-storage->-r /content/sus-kpis-analysis/sia/etls/requirements.txt (line 5)) (2.11.1)\n",
            "Requirement already satisfied: google-cloud-core<3.0dev,>=2.3.0 in /usr/local/lib/python3.10/dist-packages (from google-cloud-storage->-r /content/sus-kpis-analysis/sia/etls/requirements.txt (line 5)) (2.3.3)\n",
            "Requirement already satisfied: google-resumable-media>=2.3.2 in /usr/local/lib/python3.10/dist-packages (from google-cloud-storage->-r /content/sus-kpis-analysis/sia/etls/requirements.txt (line 5)) (2.6.0)\n",
            "Requirement already satisfied: requests<3.0.0dev,>=2.18.0 in /usr/local/lib/python3.10/dist-packages (from google-cloud-storage->-r /content/sus-kpis-analysis/sia/etls/requirements.txt (line 5)) (2.31.0)\n",
            "Requirement already satisfied: googleapis-common-protos<2.0.dev0,>=1.56.2 in /usr/local/lib/python3.10/dist-packages (from google-api-core!=2.0.*,!=2.1.*,!=2.2.*,!=2.3.0,<3.0.0dev,>=1.31.5->google-cloud-storage->-r /content/sus-kpis-analysis/sia/etls/requirements.txt (line 5)) (1.60.0)\n",
            "Requirement already satisfied: protobuf!=3.20.0,!=3.20.1,!=4.21.0,!=4.21.1,!=4.21.2,!=4.21.3,!=4.21.4,!=4.21.5,<5.0.0.dev0,>=3.19.5 in /usr/local/lib/python3.10/dist-packages (from google-api-core!=2.0.*,!=2.1.*,!=2.2.*,!=2.3.0,<3.0.0dev,>=1.31.5->google-cloud-storage->-r /content/sus-kpis-analysis/sia/etls/requirements.txt (line 5)) (3.20.3)\n",
            "Requirement already satisfied: cachetools<6.0,>=2.0.0 in /usr/local/lib/python3.10/dist-packages (from google-auth<3.0dev,>=1.25.0->google-cloud-storage->-r /content/sus-kpis-analysis/sia/etls/requirements.txt (line 5)) (5.3.1)\n",
            "Requirement already satisfied: pyasn1-modules>=0.2.1 in /usr/local/lib/python3.10/dist-packages (from google-auth<3.0dev,>=1.25.0->google-cloud-storage->-r /content/sus-kpis-analysis/sia/etls/requirements.txt (line 5)) (0.3.0)\n",
            "Requirement already satisfied: six>=1.9.0 in /usr/local/lib/python3.10/dist-packages (from google-auth<3.0dev,>=1.25.0->google-cloud-storage->-r /content/sus-kpis-analysis/sia/etls/requirements.txt (line 5)) (1.16.0)\n",
            "Requirement already satisfied: rsa<5,>=3.1.4 in /usr/local/lib/python3.10/dist-packages (from google-auth<3.0dev,>=1.25.0->google-cloud-storage->-r /content/sus-kpis-analysis/sia/etls/requirements.txt (line 5)) (4.9)\n",
            "Requirement already satisfied: google-crc32c<2.0dev,>=1.0 in /usr/local/lib/python3.10/dist-packages (from google-resumable-media>=2.3.2->google-cloud-storage->-r /content/sus-kpis-analysis/sia/etls/requirements.txt (line 5)) (1.5.0)\n",
            "Requirement already satisfied: zipp>=0.5 in /usr/local/lib/python3.10/dist-packages (from importlib-metadata>=1.0.0->delta-spark==2.4.0->-r /content/sus-kpis-analysis/sia/etls/requirements.txt (line 4)) (3.16.2)\n",
            "Requirement already satisfied: charset-normalizer<4,>=2 in /usr/local/lib/python3.10/dist-packages (from requests<3.0.0dev,>=2.18.0->google-cloud-storage->-r /content/sus-kpis-analysis/sia/etls/requirements.txt (line 5)) (3.2.0)\n",
            "Requirement already satisfied: idna<4,>=2.5 in /usr/local/lib/python3.10/dist-packages (from requests<3.0.0dev,>=2.18.0->google-cloud-storage->-r /content/sus-kpis-analysis/sia/etls/requirements.txt (line 5)) (3.4)\n",
            "Requirement already satisfied: urllib3<3,>=1.21.1 in /usr/local/lib/python3.10/dist-packages (from requests<3.0.0dev,>=2.18.0->google-cloud-storage->-r /content/sus-kpis-analysis/sia/etls/requirements.txt (line 5)) (2.0.4)\n",
            "Requirement already satisfied: certifi>=2017.4.17 in /usr/local/lib/python3.10/dist-packages (from requests<3.0.0dev,>=2.18.0->google-cloud-storage->-r /content/sus-kpis-analysis/sia/etls/requirements.txt (line 5)) (2023.7.22)\n",
            "Requirement already satisfied: pyasn1<0.6.0,>=0.4.6 in /usr/local/lib/python3.10/dist-packages (from pyasn1-modules>=0.2.1->google-auth<3.0dev,>=1.25.0->google-cloud-storage->-r /content/sus-kpis-analysis/sia/etls/requirements.txt (line 5)) (0.5.0)\n",
            "Building wheels for collected packages: pyspark\n",
            "  Building wheel for pyspark (setup.py) ... \u001b[?25l\u001b[?25hdone\n",
            "  Created wheel for pyspark: filename=pyspark-3.4.1-py2.py3-none-any.whl size=311285387 sha256=f1b8a68cba2c2d21d5ad69eea6f406fabe6fd5673417ff45a3f6f5e6995376d3\n",
            "  Stored in directory: /root/.cache/pip/wheels/0d/77/a3/ff2f74cc9ab41f8f594dabf0579c2a7c6de920d584206e0834\n",
            "Successfully built pyspark\n",
            "Installing collected packages: findspark, pyspark, imagehash, delta-spark\n",
            "Successfully installed delta-spark-2.4.0 findspark-2.0.1 imagehash-4.3.1 pyspark-3.4.1\n",
            "env: PYTHONHASHSEED=1234\n",
            "env: JAVA_HOME=/usr/lib/jvm/java-8-openjdk-amd64\n",
            "env: SPARK_HOME=/content/spark-3.4.1-bin-hadoop3\n",
            "env: SPARK_VERSION=3.4.1\n",
            "starting spark env setup \n",
            "installing and downloading packages\n",
            "setting enviroment variables\n"
          ]
        }
      ]
    },
    {
      "cell_type": "markdown",
      "metadata": {
        "id": "TT00Lo1mTJwu"
      },
      "source": [
        "## Inicializa variáveis de acesso ao delta lake criado no google storage\n",
        "\n",
        "- Local do arquivo de credencial do storage, diretorio do warehouse e path do spark:\n",
        "\n",
        "> O arquivo json_file_name deve ser enviado para o ambiente e deve ser utilizado um com as devidas permissões (em caso de escrita)\n",
        "\n",
        "> O caminho do warehouse pode ser alterado em caso de testes de escritas locais.\n",
        "\n",
        "> O caminho do spark é setado pelo script de configuração"
      ]
    },
    {
      "cell_type": "code",
      "execution_count": 3,
      "metadata": {
        "id": "LLT8gGOcekpW",
        "colab": {
          "base_uri": "https://localhost:8080/",
          "height": 0
        },
        "outputId": "d092bc53-4235-4233-b0c3-ee0c585d93f4"
      },
      "outputs": [
        {
          "output_type": "execute_result",
          "data": {
            "text/plain": [
              "'/content/spark-3.4.1-bin-hadoop3'"
            ],
            "application/vnd.google.colaboratory.intrinsic+json": {
              "type": "string"
            }
          },
          "metadata": {},
          "execution_count": 3
        }
      ],
      "source": [
        "import os\n",
        "\n",
        "# id do projeto\n",
        "project_id = 'teak-ellipse-317015'\n",
        "# id do bucket dentro do projeto\n",
        "bucket_id = 'observatorio-oncologia'\n",
        "\n",
        "# nome da pasta do projeto\n",
        "project_folder_name = 'monitor'\n",
        "\n",
        "dev_lake_name = \"lake-rosa-dev\"\n",
        "\n",
        "lake_zone = \"silver\"\n",
        "\n",
        "database_name = \"cancer_data\"\n",
        "\n",
        "\n",
        "json_filename = r'/content/gcp-leitura.json'\n",
        "# json_filename = r'/content/gcp-escrita.json'\n",
        "\n",
        "\n",
        "# warehouse_dir = f\"gs://{bucket_id}/{dev_lake_name}/\"\n",
        "warehouse_dir = f\"/content/{dev_lake_name}/\"\n",
        "\n",
        "spark_path = os.getenv('SPARK_HOME')\n",
        "spark_path"
      ]
    },
    {
      "cell_type": "markdown",
      "source": [
        "## Inclusão da pasta do repositório no python path\n",
        "\n",
        "Procedimento permite que funções e classes presentes no repositório sejam utilizadas"
      ],
      "metadata": {
        "id": "SpzMUcNg3k8d"
      }
    },
    {
      "cell_type": "code",
      "source": [
        "import sys\n",
        "sys.path.append('/content/sus-kpis-analysis')\n",
        "sys.path"
      ],
      "metadata": {
        "colab": {
          "base_uri": "https://localhost:8080/"
        },
        "id": "a-dOrv8t0IMZ",
        "outputId": "547a4caf-8fd2-4933-f753-ed929f5bf64e"
      },
      "execution_count": 4,
      "outputs": [
        {
          "output_type": "execute_result",
          "data": {
            "text/plain": [
              "['/content',\n",
              " '/env/python',\n",
              " '/usr/lib/python310.zip',\n",
              " '/usr/lib/python3.10',\n",
              " '/usr/lib/python3.10/lib-dynload',\n",
              " '',\n",
              " '/usr/local/lib/python3.10/dist-packages',\n",
              " '/usr/lib/python3/dist-packages',\n",
              " '/usr/local/lib/python3.10/dist-packages/IPython/extensions',\n",
              " '/root/.ipython',\n",
              " '/content/sus-kpis-analysis']"
            ]
          },
          "metadata": {},
          "execution_count": 4
        }
      ]
    },
    {
      "cell_type": "markdown",
      "source": [
        "## Importação de funções utilizadas pelo código"
      ],
      "metadata": {
        "id": "ptGWtMYSIXtw"
      }
    },
    {
      "cell_type": "code",
      "source": [
        "from sia.etls.lib.catalog_loader import DeltaLakeDatabaseGsCreator\n",
        "from sia.etls.lib.table_utilities import vacuum_tables_from_database\n",
        "from sia.etls.lib.gs_spark_session import create_gs_spark_session"
      ],
      "metadata": {
        "id": "GYbxgrEQz3Sn"
      },
      "execution_count": 5,
      "outputs": []
    },
    {
      "cell_type": "markdown",
      "source": [
        "## Cria Sessão Spark conectada ao Delta Lake presente no Google Storage"
      ],
      "metadata": {
        "id": "9LWOtjtk33d6"
      }
    },
    {
      "cell_type": "code",
      "source": [
        "spark = create_gs_spark_session(\n",
        "    gcs_project_id = project_folder_name,\n",
        "    gcs_json_keyfile=json_filename,\n",
        "    warehouse_dir=warehouse_dir,\n",
        "    spark_path=spark_path\n",
        ")\n"
      ],
      "metadata": {
        "id": "ETM5T_gkDvAP"
      },
      "execution_count": 6,
      "outputs": []
    },
    {
      "cell_type": "markdown",
      "source": [
        "## Refresh do catálogo para utilizar consultas"
      ],
      "metadata": {
        "id": "t8lBJqvC4Cak"
      }
    },
    {
      "cell_type": "code",
      "source": [
        "# Cliente do Google Cloud Storage\n",
        "from google.cloud import storage\n",
        "storage_client = storage.Client.from_service_account_json(json_filename)\n",
        "\n",
        "database_location = f'{dev_lake_name}/{lake_zone}'  # Substitua com o local do seu banco de dados Delta Lake\n",
        "\n",
        "db_creator = DeltaLakeDatabaseGsCreator(\n",
        "    spark_session = spark,\n",
        "    storage_client = storage_client,\n",
        "    gs_bucket_id = bucket_id,\n",
        "    database_location = database_location,\n",
        "    database_name = database_name)\n",
        "db_creator.create_database(use_db_folder_path = False)\n",
        "db_creator.recreate_tables()"
      ],
      "metadata": {
        "colab": {
          "base_uri": "https://localhost:8080/"
        },
        "id": "R4XDAfmRp4Jj",
        "outputId": "b3c1c641-6b35-42e8-d16c-b0689ba781ac"
      },
      "execution_count": 7,
      "outputs": [
        {
          "output_type": "stream",
          "name": "stdout",
          "text": [
            "Banco de dados cancer_data criado.\n",
            "listando conteúdos do bucket observatorio-oncologia do caminho lake-rosa-dev/silver e database cancer_data\n",
            "Tabela aq_filtered criada\n",
            "Tabela ar_filtered criada\n",
            "Tabela cadastro_municipios criada\n",
            "Tabela dados_estados_mensal criada\n",
            "Tabela dados_municipios_mensal criada\n",
            "Tabela demografia_municipios criada\n",
            "Tabela pacientes criada\n",
            "Tabela procedimentos criada\n",
            "Tabela procedimentos_e_pacientes criada\n",
            "Recriação das tabelas concluída.\n"
          ]
        }
      ]
    },
    {
      "cell_type": "code",
      "source": [],
      "metadata": {
        "id": "p9IvDKYW64wO"
      },
      "execution_count": 7,
      "outputs": []
    },
    {
      "cell_type": "markdown",
      "source": [
        "# Exemplos de consultas"
      ],
      "metadata": {
        "id": "xj_tPdPNIj7o"
      }
    },
    {
      "cell_type": "markdown",
      "source": [
        "## Listagem de bancos e tabelas"
      ],
      "metadata": {
        "id": "PeQru0rTIfct"
      }
    },
    {
      "cell_type": "code",
      "source": [
        "spark.sql(f\"SHOW DATABASES;\").show()"
      ],
      "metadata": {
        "colab": {
          "base_uri": "https://localhost:8080/"
        },
        "id": "qJybgzFHU5as",
        "outputId": "3b269a1a-591e-449e-ca2b-171bde3db5c0"
      },
      "execution_count": 8,
      "outputs": [
        {
          "output_type": "stream",
          "name": "stdout",
          "text": [
            "+-----------+\n",
            "|  namespace|\n",
            "+-----------+\n",
            "|cancer_data|\n",
            "|    default|\n",
            "+-----------+\n",
            "\n"
          ]
        }
      ]
    },
    {
      "cell_type": "code",
      "source": [
        "spark.sql(f\"SHOW TABLES FROM {database_name};\").show()"
      ],
      "metadata": {
        "colab": {
          "base_uri": "https://localhost:8080/"
        },
        "id": "BYbmd2NNH3iZ",
        "outputId": "9feb3025-7241-440a-8338-4b6a5da2de01"
      },
      "execution_count": 10,
      "outputs": [
        {
          "output_type": "stream",
          "name": "stdout",
          "text": [
            "+-----------+--------------------+-----------+\n",
            "|  namespace|           tableName|isTemporary|\n",
            "+-----------+--------------------+-----------+\n",
            "|cancer_data|         aq_filtered|      false|\n",
            "|cancer_data|         ar_filtered|      false|\n",
            "|cancer_data| cadastro_municipios|      false|\n",
            "|cancer_data|dados_estados_mensal|      false|\n",
            "|cancer_data|dados_municipios_...|      false|\n",
            "|cancer_data|demografia_munici...|      false|\n",
            "|cancer_data|           pacientes|      false|\n",
            "|cancer_data|       procedimentos|      false|\n",
            "|cancer_data|procedimentos_e_p...|      false|\n",
            "+-----------+--------------------+-----------+\n",
            "\n"
          ]
        }
      ]
    },
    {
      "cell_type": "markdown",
      "source": [
        "## Consultas em dados de cidades"
      ],
      "metadata": {
        "id": "7jaOKcAuJQJY"
      }
    },
    {
      "cell_type": "code",
      "source": [
        "spark.sql(f\"SELECT * FROM {database_name}.cadastro_municipios\").show()"
      ],
      "metadata": {
        "colab": {
          "base_uri": "https://localhost:8080/"
        },
        "id": "26KP_eaxJVX9",
        "outputId": "23078be6-798c-4827-fc12-c9b79b26ad4f"
      },
      "execution_count": 9,
      "outputs": [
        {
          "output_type": "stream",
          "name": "stdout",
          "text": [
            "+-------+--------------------+-----+--------+\n",
            "|     id|                nome|id_uf| nome_uf|\n",
            "+-------+--------------------+-----+--------+\n",
            "|1100015|Alta Floresta D'O...|   11|Rondônia|\n",
            "|1100023|           Ariquemes|   11|Rondônia|\n",
            "|1100031|              Cabixi|   11|Rondônia|\n",
            "|1100049|              Cacoal|   11|Rondônia|\n",
            "|1100056|          Cerejeiras|   11|Rondônia|\n",
            "|1100064|   Colorado do Oeste|   11|Rondônia|\n",
            "|1100072|          Corumbiara|   11|Rondônia|\n",
            "|1100080|       Costa Marques|   11|Rondônia|\n",
            "|1100098|     Espigão D'Oeste|   11|Rondônia|\n",
            "|1100106|       Guajará-Mirim|   11|Rondônia|\n",
            "|1100114|                Jaru|   11|Rondônia|\n",
            "|1100122|           Ji-Paraná|   11|Rondônia|\n",
            "|1100130|  Machadinho D'Oeste|   11|Rondônia|\n",
            "|1100148|Nova Brasilândia ...|   11|Rondônia|\n",
            "|1100155| Ouro Preto do Oeste|   11|Rondônia|\n",
            "|1100189|       Pimenta Bueno|   11|Rondônia|\n",
            "|1100205|         Porto Velho|   11|Rondônia|\n",
            "|1100254|   Presidente Médici|   11|Rondônia|\n",
            "|1100262|          Rio Crespo|   11|Rondônia|\n",
            "|1100288|      Rolim de Moura|   11|Rondônia|\n",
            "+-------+--------------------+-----+--------+\n",
            "only showing top 20 rows\n",
            "\n"
          ]
        }
      ]
    },
    {
      "cell_type": "code",
      "source": [
        "spark.sql(f\"SELECT * FROM {database_name}.demografia_municipios\").show()"
      ],
      "metadata": {
        "colab": {
          "base_uri": "https://localhost:8080/"
        },
        "id": "v0sQ3Qn9Jdbw",
        "outputId": "96fbb2ea-3476-4807-934f-75aad07156c5"
      },
      "execution_count": 11,
      "outputs": [
        {
          "output_type": "stream",
          "name": "stdout",
          "text": [
            "+-----------+----------+---------------+--------------+------------+--------------------+----+---------+-----------+\n",
            "|codigo_sexo|valor_sexo|codigo_situacao|valor_situacao|codigo_local|          nome_local| ano|populacao|faixa_idade|\n",
            "+-----------+----------+---------------+--------------+------------+--------------------+----+---------+-----------+\n",
            "|          4|    Homens|              0|         Total|     1100015|Alta Floresta D'O...|2010|    12656|      Total|\n",
            "|          4|    Homens|              0|         Total|     1100023|      Ariquemes - RO|2010|    45543|      Total|\n",
            "|          4|    Homens|              0|         Total|     1100031|         Cabixi - RO|2010|     3266|      Total|\n",
            "|          4|    Homens|              0|         Total|     1100049|         Cacoal - RO|2010|    39124|      Total|\n",
            "|          4|    Homens|              0|         Total|     1100056|     Cerejeiras - RO|2010|     8551|      Total|\n",
            "|          4|    Homens|              0|         Total|     1100064|Colorado do Oeste...|2010|     9330|      Total|\n",
            "|          4|    Homens|              0|         Total|     1100072|     Corumbiara - RO|2010|     4711|      Total|\n",
            "|          4|    Homens|              0|         Total|     1100080|  Costa Marques - RO|2010|     7202|      Total|\n",
            "|          4|    Homens|              0|         Total|     1100098|Espigão D'Oeste - RO|2010|    14606|      Total|\n",
            "|          4|    Homens|              0|         Total|     1100106|  Guajará-Mirim - RO|2010|    20947|      Total|\n",
            "|          4|    Homens|              0|         Total|     1100114|           Jaru - RO|2010|    26005|      Total|\n",
            "|          4|    Homens|              0|         Total|     1100122|      Ji-Paraná - RO|2010|    57824|      Total|\n",
            "|          4|    Homens|              0|         Total|     1100130|Machadinho D'Oest...|2010|    16536|      Total|\n",
            "|          4|    Homens|              0|         Total|     1100148|Nova Brasilândia ...|2010|    10344|      Total|\n",
            "|          4|    Homens|              0|         Total|     1100155|Ouro Preto do Oes...|2010|    18698|      Total|\n",
            "|          4|    Homens|              0|         Total|     1100189|  Pimenta Bueno - RO|2010|    17041|      Total|\n",
            "|          4|    Homens|              0|         Total|     1100205|    Porto Velho - RO|2010|   217618|      Total|\n",
            "|          4|    Homens|              0|         Total|     1100254|Presidente Médici...|2010|    11309|      Total|\n",
            "|          4|    Homens|              0|         Total|     1100262|     Rio Crespo - RO|2010|     1767|      Total|\n",
            "|          4|    Homens|              0|         Total|     1100288| Rolim de Moura - RO|2010|    25170|      Total|\n",
            "+-----------+----------+---------------+--------------+------------+--------------------+----+---------+-----------+\n",
            "only showing top 20 rows\n",
            "\n"
          ]
        }
      ]
    },
    {
      "cell_type": "code",
      "source": [],
      "metadata": {
        "id": "6Kfqmi_kag42"
      },
      "execution_count": null,
      "outputs": []
    }
  ],
  "metadata": {
    "colab": {
      "provenance": [],
      "authorship_tag": "ABX9TyMC4GQTq950Wvg2HzKGLjyZ",
      "include_colab_link": true
    },
    "kernelspec": {
      "display_name": "Python 3",
      "name": "python3"
    },
    "language_info": {
      "name": "python"
    }
  },
  "nbformat": 4,
  "nbformat_minor": 0
}