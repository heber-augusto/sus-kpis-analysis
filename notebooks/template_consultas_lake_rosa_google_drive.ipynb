{
  "cells": [
    {
      "cell_type": "markdown",
      "metadata": {
        "id": "view-in-github",
        "colab_type": "text"
      },
      "source": [
        "<a href=\"https://colab.research.google.com/github/heber-augusto/sus-kpis-analysis/blob/main/notebooks/template_consultas_lake_rosa_google_drive.ipynb\" target=\"_parent\"><img src=\"https://colab.research.google.com/assets/colab-badge.svg\" alt=\"Open In Colab\"/></a>"
      ]
    },
    {
      "cell_type": "markdown",
      "metadata": {
        "id": "eNviCQI6IDqh"
      },
      "source": [
        "# Configuração do ambiente e carregamento do catálogo\n",
        "\n",
        "**Lembre-se de baixar o arquivo json que garante acesso ao google storage**\n",
        " - monitor-rosa-escrita.json: acesso para criação de tabelas;\n",
        " - monitor-rosa-leitura.json: acesso para analises e consultas."
      ]
    },
    {
      "cell_type": "markdown",
      "metadata": {
        "id": "TnBLAcn1ZEik"
      },
      "source": [
        "## Escolha do ambiente\n",
        "São disponibilizadas duas opções de execução (dependendo do arquivo de credencial utilizado)\n",
        " - gcp-leitura.json: disponível para analises e usuários que não possuem permissão de escrita;\n",
        " - gcp-escrita.json: disponível para atualização de bases (testes de desenvolvimento ou ambiente de produção)."
      ]
    },
    {
      "cell_type": "code",
      "execution_count": 1,
      "metadata": {
        "id": "Fj3xNzUzZD8W",
        "colab": {
          "base_uri": "https://localhost:8080/",
          "height": 35
        },
        "outputId": "84ed4504-098d-4d1e-adaa-58230a8f908a"
      },
      "outputs": [
        {
          "output_type": "execute_result",
          "data": {
            "text/plain": [
              "'shared_drive'"
            ],
            "application/vnd.google.colaboratory.intrinsic+json": {
              "type": "string"
            }
          },
          "metadata": {},
          "execution_count": 1
        }
      ],
      "source": [
        "import os\n",
        "if os.path.isfile('/content/monitor-rosa-leitura.json'):\n",
        "    datalake_mode = 'leitura'\n",
        "elif os.path.isfile('/content/monitor-rosa-escrita.json'):\n",
        "    datalake_mode = 'escrita'\n",
        "else:\n",
        "    assert(os.path.isdir('/content/drive/Shareddrives/Monitor Rosa/datalake') == True)\n",
        "    datalake_mode = 'shared_drive'\n",
        "datalake_mode"
      ]
    },
    {
      "cell_type": "code",
      "execution_count": 2,
      "metadata": {
        "colab": {
          "base_uri": "https://localhost:8080/"
        },
        "id": "qxl5dgNHuCsK",
        "outputId": "0e4e607b-8869-43eb-c4f3-0fe05b4ff58c"
      },
      "outputs": [
        {
          "output_type": "stream",
          "name": "stdout",
          "text": [
            "rm: cannot remove 'sus-kpis-analysis': No such file or directory\n",
            "Cloning into 'sus-kpis-analysis'...\n",
            "remote: Enumerating objects: 1093, done.\u001b[K\n",
            "remote: Counting objects: 100% (454/454), done.\u001b[K\n",
            "remote: Compressing objects: 100% (295/295), done.\u001b[K\n",
            "remote: Total 1093 (delta 222), reused 280 (delta 139), pack-reused 639\u001b[K\n",
            "Receiving objects: 100% (1093/1093), 2.97 MiB | 9.04 MiB/s, done.\n",
            "Resolving deltas: 100% (539/539), done.\n"
          ]
        }
      ],
      "source": [
        "!rm -r sus-kpis-analysis\n",
        "!git clone https://github.com/heber-augusto/sus-kpis-analysis.git"
      ]
    },
    {
      "cell_type": "markdown",
      "metadata": {
        "id": "9NYsSZynDK9K"
      },
      "source": [
        "## Instalação de libs Python, inicialização de variáveis de ambiente e configuração/instalação do Spark"
      ]
    },
    {
      "cell_type": "code",
      "execution_count": 3,
      "metadata": {
        "colab": {
          "base_uri": "https://localhost:8080/"
        },
        "id": "6v3Wqjxhu4Gq",
        "outputId": "5e6edc80-91ca-4971-cdb8-b27d1e4330e9"
      },
      "outputs": [
        {
          "output_type": "stream",
          "name": "stdout",
          "text": [
            "Collecting findspark (from -r /content/sus-kpis-analysis/sia/etls/requirements.txt (line 1))\n",
            "  Downloading findspark-2.0.1-py2.py3-none-any.whl (4.4 kB)\n",
            "Collecting pyspark (from -r /content/sus-kpis-analysis/sia/etls/requirements.txt (line 2))\n",
            "  Downloading pyspark-3.5.0.tar.gz (316.9 MB)\n",
            "\u001b[2K     \u001b[90m━━━━━━━━━━━━━━━━━━━━━━━━━━━━━━━━━━━━━━━━\u001b[0m \u001b[32m316.9/316.9 MB\u001b[0m \u001b[31m2.2 MB/s\u001b[0m eta \u001b[36m0:00:00\u001b[0m\n",
            "\u001b[?25h  Preparing metadata (setup.py) ... \u001b[?25l\u001b[?25hdone\n",
            "Collecting imagehash (from -r /content/sus-kpis-analysis/sia/etls/requirements.txt (line 3))\n",
            "  Downloading ImageHash-4.3.1-py2.py3-none-any.whl (296 kB)\n",
            "\u001b[2K     \u001b[90m━━━━━━━━━━━━━━━━━━━━━━━━━━━━━━━━━━━━━━━━\u001b[0m \u001b[32m296.5/296.5 kB\u001b[0m \u001b[31m31.8 MB/s\u001b[0m eta \u001b[36m0:00:00\u001b[0m\n",
            "\u001b[?25hCollecting delta-spark==2.4.0 (from -r /content/sus-kpis-analysis/sia/etls/requirements.txt (line 4))\n",
            "  Downloading delta_spark-2.4.0-py3-none-any.whl (20 kB)\n",
            "Requirement already satisfied: google-cloud-storage in /usr/local/lib/python3.10/dist-packages (from -r /content/sus-kpis-analysis/sia/etls/requirements.txt (line 5)) (2.8.0)\n",
            "Requirement already satisfied: pytz in /usr/local/lib/python3.10/dist-packages (from -r /content/sus-kpis-analysis/sia/etls/requirements.txt (line 6)) (2023.3.post1)\n",
            "Requirement already satisfied: psutil in /usr/local/lib/python3.10/dist-packages (from -r /content/sus-kpis-analysis/sia/etls/requirements.txt (line 7)) (5.9.5)\n",
            "Collecting pyspark (from -r /content/sus-kpis-analysis/sia/etls/requirements.txt (line 2))\n",
            "  Downloading pyspark-3.4.2.tar.gz (311.1 MB)\n",
            "\u001b[2K     \u001b[90m━━━━━━━━━━━━━━━━━━━━━━━━━━━━━━━━━━━━━━━━\u001b[0m \u001b[32m311.1/311.1 MB\u001b[0m \u001b[31m3.8 MB/s\u001b[0m eta \u001b[36m0:00:00\u001b[0m\n",
            "\u001b[?25h  Preparing metadata (setup.py) ... \u001b[?25l\u001b[?25hdone\n",
            "Requirement already satisfied: importlib-metadata>=1.0.0 in /usr/local/lib/python3.10/dist-packages (from delta-spark==2.4.0->-r /content/sus-kpis-analysis/sia/etls/requirements.txt (line 4)) (7.0.1)\n",
            "Requirement already satisfied: py4j==0.10.9.7 in /usr/local/lib/python3.10/dist-packages (from pyspark->-r /content/sus-kpis-analysis/sia/etls/requirements.txt (line 2)) (0.10.9.7)\n",
            "Requirement already satisfied: PyWavelets in /usr/local/lib/python3.10/dist-packages (from imagehash->-r /content/sus-kpis-analysis/sia/etls/requirements.txt (line 3)) (1.5.0)\n",
            "Requirement already satisfied: numpy in /usr/local/lib/python3.10/dist-packages (from imagehash->-r /content/sus-kpis-analysis/sia/etls/requirements.txt (line 3)) (1.23.5)\n",
            "Requirement already satisfied: pillow in /usr/local/lib/python3.10/dist-packages (from imagehash->-r /content/sus-kpis-analysis/sia/etls/requirements.txt (line 3)) (9.4.0)\n",
            "Requirement already satisfied: scipy in /usr/local/lib/python3.10/dist-packages (from imagehash->-r /content/sus-kpis-analysis/sia/etls/requirements.txt (line 3)) (1.11.4)\n",
            "Requirement already satisfied: google-auth<3.0dev,>=1.25.0 in /usr/local/lib/python3.10/dist-packages (from google-cloud-storage->-r /content/sus-kpis-analysis/sia/etls/requirements.txt (line 5)) (2.17.3)\n",
            "Requirement already satisfied: google-api-core!=2.0.*,!=2.1.*,!=2.2.*,!=2.3.0,<3.0.0dev,>=1.31.5 in /usr/local/lib/python3.10/dist-packages (from google-cloud-storage->-r /content/sus-kpis-analysis/sia/etls/requirements.txt (line 5)) (2.11.1)\n",
            "Requirement already satisfied: google-cloud-core<3.0dev,>=2.3.0 in /usr/local/lib/python3.10/dist-packages (from google-cloud-storage->-r /content/sus-kpis-analysis/sia/etls/requirements.txt (line 5)) (2.3.3)\n",
            "Requirement already satisfied: google-resumable-media>=2.3.2 in /usr/local/lib/python3.10/dist-packages (from google-cloud-storage->-r /content/sus-kpis-analysis/sia/etls/requirements.txt (line 5)) (2.7.0)\n",
            "Requirement already satisfied: requests<3.0.0dev,>=2.18.0 in /usr/local/lib/python3.10/dist-packages (from google-cloud-storage->-r /content/sus-kpis-analysis/sia/etls/requirements.txt (line 5)) (2.31.0)\n",
            "Requirement already satisfied: googleapis-common-protos<2.0.dev0,>=1.56.2 in /usr/local/lib/python3.10/dist-packages (from google-api-core!=2.0.*,!=2.1.*,!=2.2.*,!=2.3.0,<3.0.0dev,>=1.31.5->google-cloud-storage->-r /content/sus-kpis-analysis/sia/etls/requirements.txt (line 5)) (1.62.0)\n",
            "Requirement already satisfied: protobuf!=3.20.0,!=3.20.1,!=4.21.0,!=4.21.1,!=4.21.2,!=4.21.3,!=4.21.4,!=4.21.5,<5.0.0.dev0,>=3.19.5 in /usr/local/lib/python3.10/dist-packages (from google-api-core!=2.0.*,!=2.1.*,!=2.2.*,!=2.3.0,<3.0.0dev,>=1.31.5->google-cloud-storage->-r /content/sus-kpis-analysis/sia/etls/requirements.txt (line 5)) (3.20.3)\n",
            "Requirement already satisfied: cachetools<6.0,>=2.0.0 in /usr/local/lib/python3.10/dist-packages (from google-auth<3.0dev,>=1.25.0->google-cloud-storage->-r /content/sus-kpis-analysis/sia/etls/requirements.txt (line 5)) (5.3.2)\n",
            "Requirement already satisfied: pyasn1-modules>=0.2.1 in /usr/local/lib/python3.10/dist-packages (from google-auth<3.0dev,>=1.25.0->google-cloud-storage->-r /content/sus-kpis-analysis/sia/etls/requirements.txt (line 5)) (0.3.0)\n",
            "Requirement already satisfied: six>=1.9.0 in /usr/local/lib/python3.10/dist-packages (from google-auth<3.0dev,>=1.25.0->google-cloud-storage->-r /content/sus-kpis-analysis/sia/etls/requirements.txt (line 5)) (1.16.0)\n",
            "Requirement already satisfied: rsa<5,>=3.1.4 in /usr/local/lib/python3.10/dist-packages (from google-auth<3.0dev,>=1.25.0->google-cloud-storage->-r /content/sus-kpis-analysis/sia/etls/requirements.txt (line 5)) (4.9)\n",
            "Requirement already satisfied: google-crc32c<2.0dev,>=1.0 in /usr/local/lib/python3.10/dist-packages (from google-resumable-media>=2.3.2->google-cloud-storage->-r /content/sus-kpis-analysis/sia/etls/requirements.txt (line 5)) (1.5.0)\n",
            "Requirement already satisfied: zipp>=0.5 in /usr/local/lib/python3.10/dist-packages (from importlib-metadata>=1.0.0->delta-spark==2.4.0->-r /content/sus-kpis-analysis/sia/etls/requirements.txt (line 4)) (3.17.0)\n",
            "Requirement already satisfied: charset-normalizer<4,>=2 in /usr/local/lib/python3.10/dist-packages (from requests<3.0.0dev,>=2.18.0->google-cloud-storage->-r /content/sus-kpis-analysis/sia/etls/requirements.txt (line 5)) (3.3.2)\n",
            "Requirement already satisfied: idna<4,>=2.5 in /usr/local/lib/python3.10/dist-packages (from requests<3.0.0dev,>=2.18.0->google-cloud-storage->-r /content/sus-kpis-analysis/sia/etls/requirements.txt (line 5)) (3.6)\n",
            "Requirement already satisfied: urllib3<3,>=1.21.1 in /usr/local/lib/python3.10/dist-packages (from requests<3.0.0dev,>=2.18.0->google-cloud-storage->-r /content/sus-kpis-analysis/sia/etls/requirements.txt (line 5)) (2.0.7)\n",
            "Requirement already satisfied: certifi>=2017.4.17 in /usr/local/lib/python3.10/dist-packages (from requests<3.0.0dev,>=2.18.0->google-cloud-storage->-r /content/sus-kpis-analysis/sia/etls/requirements.txt (line 5)) (2023.11.17)\n",
            "Requirement already satisfied: pyasn1<0.6.0,>=0.4.6 in /usr/local/lib/python3.10/dist-packages (from pyasn1-modules>=0.2.1->google-auth<3.0dev,>=1.25.0->google-cloud-storage->-r /content/sus-kpis-analysis/sia/etls/requirements.txt (line 5)) (0.5.1)\n",
            "Building wheels for collected packages: pyspark\n",
            "  Building wheel for pyspark (setup.py) ... \u001b[?25l\u001b[?25hdone\n",
            "  Created wheel for pyspark: filename=pyspark-3.4.2-py2.py3-none-any.whl size=311619832 sha256=dbf63d9ea623bea7a0800fbd2d2e20e271b957ac78d527b363a6617445e04490\n",
            "  Stored in directory: /root/.cache/pip/wheels/0a/46/b6/5ca3debe11084c0ebb093d2809b6ae2844a6deebb11409a391\n",
            "Successfully built pyspark\n",
            "Installing collected packages: findspark, pyspark, imagehash, delta-spark\n",
            "Successfully installed delta-spark-2.4.0 findspark-2.0.1 imagehash-4.3.1 pyspark-3.4.2\n",
            "env: PYTHONHASHSEED=1234\n",
            "env: JAVA_HOME=/usr/lib/jvm/java-8-openjdk-amd64\n",
            "env: SPARK_HOME=/content/spark-3.4.2-bin-hadoop3\n",
            "env: SPARK_VERSION=3.4.2\n",
            "starting spark env setup \n",
            "installing and downloading packages\n",
            "setting enviroment variables\n"
          ]
        }
      ],
      "source": [
        "!pip install -r /content/sus-kpis-analysis/sia/etls/requirements.txt\n",
        "\n",
        "%env PYTHONHASHSEED=1234\n",
        "%env JAVA_HOME=/usr/lib/jvm/java-8-openjdk-amd64\n",
        "%env SPARK_HOME=/content/spark-3.4.2-bin-hadoop3\n",
        "%env SPARK_VERSION=3.4.2\n",
        "\n",
        "!source /content/sus-kpis-analysis/sia/etls/bin/setup_spark_env.sh '/content/'"
      ]
    },
    {
      "cell_type": "code",
      "source": [
        "if datalake_mode != 'shared_drive':\n",
        "    %env XDG_CONFIG_HOME=/content\n",
        "    !fusermount -u /content/datalake\n",
        "    !source /content/sus-kpis-analysis/sia/etls/bin/mount_google_drive.sh '/content' 'acesso-leitura@monitor-rosa.iam.gserviceaccount.com' '0ABIY-a4qrdY9Uk9PVA'"
      ],
      "metadata": {
        "id": "-_O3K75fMh7K"
      },
      "execution_count": 4,
      "outputs": []
    },
    {
      "cell_type": "code",
      "source": [],
      "metadata": {
        "id": "i5C-BOwIXL_-"
      },
      "execution_count": 4,
      "outputs": []
    },
    {
      "cell_type": "markdown",
      "metadata": {
        "id": "TT00Lo1mTJwu"
      },
      "source": [
        "## Inicializa variáveis de acesso ao delta lake criado no google storage\n",
        "\n",
        "- Local do arquivo de credencial do storage, diretorio do warehouse e path do spark:\n",
        "\n",
        "> O arquivo json_file_name deve ser enviado para o ambiente e deve ser utilizado um com as devidas permissões (em caso de escrita)\n",
        "\n",
        "> O caminho do warehouse pode ser alterado em caso de testes de escritas locais.\n",
        "\n",
        "> O caminho do spark é setado pelo script de configuração"
      ]
    },
    {
      "cell_type": "code",
      "execution_count": 5,
      "metadata": {
        "colab": {
          "base_uri": "https://localhost:8080/",
          "height": 35
        },
        "id": "LLT8gGOcekpW",
        "outputId": "216bc3f6-01ce-4082-9c3a-dadffe473f61"
      },
      "outputs": [
        {
          "output_type": "execute_result",
          "data": {
            "text/plain": [
              "'/content/spark-3.4.2-bin-hadoop3'"
            ],
            "application/vnd.google.colaboratory.intrinsic+json": {
              "type": "string"
            }
          },
          "metadata": {},
          "execution_count": 5
        }
      ],
      "source": [
        "import os\n",
        "\n",
        "# id do projeto\n",
        "# project_id = 'teak-ellipse-317015'\n",
        "# id do bucket dentro do projeto\n",
        "# bucket_id = 'observatorio-oncologia'\n",
        "\n",
        "# nome da pasta do projeto\n",
        "project_folder_name = 'monitor'\n",
        "\n",
        "lake_prefix = \"lake-rosa-prd\"\n",
        "\n",
        "#lake_zone = \"bronze\"\n",
        "\n",
        "database_name = \"cancer_data\"\n",
        "\n",
        "if datalake_mode in ('leitura','shared_drive' ):\n",
        "    warehouse_dir = f\"/content/{lake_prefix}/\"\n",
        "\n",
        "if datalake_mode == 'escrita':\n",
        "    warehouse_dir = f\"/content/datalake/datalake/{lake_prefix}/\"\n",
        "\n",
        "spark_path = os.getenv('SPARK_HOME')\n",
        "spark_path"
      ]
    },
    {
      "cell_type": "markdown",
      "metadata": {
        "id": "SpzMUcNg3k8d"
      },
      "source": [
        "## Inclusão da pasta do repositório no python path\n",
        "\n",
        "Procedimento permite que funções e classes presentes no repositório sejam utilizadas"
      ]
    },
    {
      "cell_type": "code",
      "execution_count": 6,
      "metadata": {
        "colab": {
          "base_uri": "https://localhost:8080/"
        },
        "id": "a-dOrv8t0IMZ",
        "outputId": "2b629e38-aeec-49e2-e490-152fefcaeefd"
      },
      "outputs": [
        {
          "output_type": "execute_result",
          "data": {
            "text/plain": [
              "['/content',\n",
              " '/env/python',\n",
              " '/usr/lib/python310.zip',\n",
              " '/usr/lib/python3.10',\n",
              " '/usr/lib/python3.10/lib-dynload',\n",
              " '',\n",
              " '/usr/local/lib/python3.10/dist-packages',\n",
              " '/usr/lib/python3/dist-packages',\n",
              " '/usr/local/lib/python3.10/dist-packages/IPython/extensions',\n",
              " '/root/.ipython',\n",
              " '/content/sus-kpis-analysis']"
            ]
          },
          "metadata": {},
          "execution_count": 6
        }
      ],
      "source": [
        "import sys\n",
        "sys.path.append('/content/sus-kpis-analysis')\n",
        "sys.path"
      ]
    },
    {
      "cell_type": "markdown",
      "metadata": {
        "id": "ptGWtMYSIXtw"
      },
      "source": [
        "## Importação de funções utilizadas pelo código"
      ]
    },
    {
      "cell_type": "code",
      "execution_count": 7,
      "metadata": {
        "id": "GYbxgrEQz3Sn"
      },
      "outputs": [],
      "source": [
        "from sia.etls.lib.catalog_loader import DeltaLakeDatabaseFsCreator, load_entire_catalog_fs\n",
        "from sia.etls.lib.table_utilities import vacuum_tables_from_database, table_exists\n",
        "from sia.etls.lib.fs_spark_session import create_fs_spark_session\n",
        "from sia.etls.lib.bronze_files_utilities import get_pending_files_from_bronze\n",
        "from sia.etls.lib.delta_table_creators import ParquetToDelta"
      ]
    },
    {
      "cell_type": "markdown",
      "metadata": {
        "id": "9LWOtjtk33d6"
      },
      "source": [
        "## Cria Sessão Spark conectada ao Delta Lake presente no Google Storage"
      ]
    },
    {
      "cell_type": "code",
      "execution_count": 8,
      "metadata": {
        "id": "ETM5T_gkDvAP"
      },
      "outputs": [],
      "source": [
        "spark = create_fs_spark_session(\n",
        "    warehouse_dir=warehouse_dir,\n",
        "    spark_path=spark_path\n",
        ")\n"
      ]
    },
    {
      "cell_type": "markdown",
      "metadata": {
        "id": "t8lBJqvC4Cak"
      },
      "source": [
        "## Refresh do catálogo para utilizar consultas"
      ]
    },
    {
      "cell_type": "code",
      "source": [
        "if datalake_mode in ('leitura', 'escrita'):\n",
        "    gd_lake_prefix = f'/content/datalake/datalake/{lake_prefix}'\n",
        "else:\n",
        "    gd_lake_prefix = f'/content/drive/Shareddrives/Monitor Rosa/datalake/{lake_prefix}'\n",
        "\n",
        "# carrega catalogo de banco de dados, na zona bronze\n",
        "load_entire_catalog_fs(\n",
        "    spark_session = spark,\n",
        "    lake_prefix = gd_lake_prefix,\n",
        "    use_db_folder_path=(datalake_mode == 'escrita'))"
      ],
      "metadata": {
        "colab": {
          "base_uri": "https://localhost:8080/"
        },
        "id": "sHQkDg4MSr43",
        "outputId": "3f038e3f-6dbe-4647-c233-0e099ed993c9"
      },
      "execution_count": null,
      "outputs": [
        {
          "output_type": "stream",
          "name": "stdout",
          "text": [
            "['sia_bronze.db', 'cnes_bronze.db', 'sim_bronze.db', 'sih_bronze.db']\n",
            "Banco de dados sia_bronze criado.\n",
            "listando conteúdos do caminho /content/drive/Shareddrives/Monitor Rosa/datalake/lake-rosa-prd/bronze e database sia_bronze\n",
            "prefix: /content/drive/Shareddrives/Monitor Rosa/datalake/lake-rosa-prd/bronze/sia_bronze.db/\n",
            "table_list: ['bi', 'ar', 'aq', 'am', 'pa']\n"
          ]
        }
      ]
    },
    {
      "cell_type": "markdown",
      "metadata": {
        "id": "xj_tPdPNIj7o"
      },
      "source": [
        "# Exemplos de consultas"
      ]
    },
    {
      "cell_type": "markdown",
      "metadata": {
        "id": "PeQru0rTIfct"
      },
      "source": [
        "## Listagem de bancos e tabelas"
      ]
    },
    {
      "cell_type": "code",
      "execution_count": 18,
      "metadata": {
        "colab": {
          "base_uri": "https://localhost:8080/"
        },
        "id": "qJybgzFHU5as",
        "outputId": "7c5c81d2-4bc0-4876-b83a-1cef4922f079"
      },
      "outputs": [
        {
          "output_type": "stream",
          "name": "stdout",
          "text": [
            "+-----------+\n",
            "|  namespace|\n",
            "+-----------+\n",
            "|cancer_data|\n",
            "|cnes_bronze|\n",
            "|    default|\n",
            "| sia_bronze|\n",
            "| sih_bronze|\n",
            "| sim_bronze|\n",
            "+-----------+\n",
            "\n"
          ]
        }
      ],
      "source": [
        "databases = spark.sql(f\"SHOW DATABASES;\")\n",
        "databases.show()"
      ]
    },
    {
      "cell_type": "code",
      "execution_count": 19,
      "metadata": {
        "colab": {
          "base_uri": "https://localhost:8080/"
        },
        "id": "BYbmd2NNH3iZ",
        "outputId": "78487718-694b-4424-ba49-325ba62ce9c5"
      },
      "outputs": [
        {
          "output_type": "stream",
          "name": "stdout",
          "text": [
            "+-----------+-------------------------+-----------+\n",
            "|namespace  |tableName                |isTemporary|\n",
            "+-----------+-------------------------+-----------+\n",
            "|cancer_data|aq_filtered              |false      |\n",
            "|cancer_data|ar_filtered              |false      |\n",
            "|cancer_data|cadastro_municipios      |false      |\n",
            "|cancer_data|dados_estados_mensal     |false      |\n",
            "|cancer_data|dados_municipios_mensal  |false      |\n",
            "|cancer_data|demografia_municipios    |false      |\n",
            "|cancer_data|pacientes                |false      |\n",
            "|cancer_data|procedimentos            |false      |\n",
            "|cancer_data|procedimentos_e_pacientes|false      |\n",
            "+-----------+-------------------------+-----------+\n",
            "\n",
            "+-----------+---------+-----------+\n",
            "|namespace  |tableName|isTemporary|\n",
            "+-----------+---------+-----------+\n",
            "|cnes_bronze|dc       |false      |\n",
            "|cnes_bronze|ep       |false      |\n",
            "|cnes_bronze|eq       |false      |\n",
            "|cnes_bronze|hb       |false      |\n",
            "|cnes_bronze|in       |false      |\n",
            "|cnes_bronze|lt       |false      |\n",
            "|cnes_bronze|pf       |false      |\n",
            "|cnes_bronze|rc       |false      |\n",
            "|cnes_bronze|sr       |false      |\n",
            "+-----------+---------+-----------+\n",
            "\n",
            "+---------+---------+-----------+\n",
            "|namespace|tableName|isTemporary|\n",
            "+---------+---------+-----------+\n",
            "+---------+---------+-----------+\n",
            "\n",
            "+----------+---------+-----------+\n",
            "|namespace |tableName|isTemporary|\n",
            "+----------+---------+-----------+\n",
            "|sia_bronze|am       |false      |\n",
            "|sia_bronze|aq       |false      |\n",
            "|sia_bronze|ar       |false      |\n",
            "|sia_bronze|bi       |false      |\n",
            "|sia_bronze|pa       |false      |\n",
            "+----------+---------+-----------+\n",
            "\n",
            "+----------+---------+-----------+\n",
            "|namespace |tableName|isTemporary|\n",
            "+----------+---------+-----------+\n",
            "|sih_bronze|rd       |false      |\n",
            "+----------+---------+-----------+\n",
            "\n",
            "+----------+---------+-----------+\n",
            "|namespace |tableName|isTemporary|\n",
            "+----------+---------+-----------+\n",
            "|sim_bronze|dores    |false      |\n",
            "+----------+---------+-----------+\n",
            "\n"
          ]
        }
      ],
      "source": [
        "for row in databases.collect():\n",
        "    spark.sql(f\"SHOW TABLES FROM {row['namespace']};\").show(truncate=False)"
      ]
    },
    {
      "cell_type": "markdown",
      "metadata": {
        "id": "Uq2VIDHUhB-g"
      },
      "source": [
        "## Consultas em dados de Mortalidade (SIM:DORES)"
      ]
    },
    {
      "cell_type": "code",
      "execution_count": 15,
      "metadata": {
        "colab": {
          "base_uri": "https://localhost:8080/"
        },
        "id": "yDL31kDhVlY6",
        "outputId": "2fe63e16-4557-41a8-9a26-1fb486e8080a"
      },
      "outputs": [
        {
          "output_type": "stream",
          "name": "stdout",
          "text": [
            "+--------+\n",
            "|count(1)|\n",
            "+--------+\n",
            "|1556824 |\n",
            "+--------+\n",
            "\n"
          ]
        }
      ],
      "source": [
        "spark.sql(f\"\"\"\n",
        "    select count(*)\n",
        "    from sim_bronze.dores\n",
        "    where _filename like '%2020%'\n",
        "\"\"\").show(truncate=False)"
      ]
    },
    {
      "cell_type": "code",
      "execution_count": 23,
      "metadata": {
        "colab": {
          "base_uri": "https://localhost:8080/"
        },
        "id": "6CAQhLKJXEfX",
        "outputId": "b593bb94-795e-467f-d299-7adacf312351"
      },
      "outputs": [
        {
          "output_type": "stream",
          "name": "stdout",
          "text": [
            "+----------+---------------+----+-------+--------+\n",
            "|dia       |data_nascimento|SEXO|RACACOR|CAUSABAS|\n",
            "+----------+---------------+----+-------+--------+\n",
            "|2021-01-12|1954-01-02     |2   |2      |C509    |\n",
            "|2021-01-27|1956-01-13     |2   |4      |C509    |\n",
            "|2021-03-12|1956-04-18     |2   |1      |C508    |\n",
            "|2021-05-15|1982-10-27     |2   |4      |C509    |\n",
            "|2021-04-23|1944-08-25     |2   |1      |C509    |\n",
            "|2021-05-14|1956-08-15     |2   |1      |C509    |\n",
            "|2021-01-19|1950-12-18     |2   |1      |C509    |\n",
            "|2021-02-28|1961-09-04     |2   |1      |C509    |\n",
            "|2021-01-27|1967-09-15     |2   |4      |C509    |\n",
            "|2021-02-25|1946-12-22     |2   |1      |C509    |\n",
            "|2021-04-06|1973-04-24     |2   |1      |C509    |\n",
            "|2021-01-18|1970-10-11     |2   |4      |C509    |\n",
            "|2021-02-10|1959-01-25     |2   |1      |C509    |\n",
            "|2021-02-03|1942-07-27     |2   |1      |C509    |\n",
            "|2021-02-13|1946-10-28     |2   |1      |C509    |\n",
            "|2021-02-05|1958-03-16     |2   |1      |C509    |\n",
            "|2021-01-18|1983-07-08     |2   |4      |C509    |\n",
            "|2021-03-15|1965-12-19     |1   |4      |C509    |\n",
            "|2021-02-17|1952-01-26     |2   |4      |C508    |\n",
            "|2021-03-12|1988-07-22     |2   |4      |C509    |\n",
            "+----------+---------------+----+-------+--------+\n",
            "only showing top 20 rows\n",
            "\n"
          ]
        }
      ],
      "source": [
        "spark.sql(f\"\"\"\n",
        "    select to_date(DTOBITO,'ddMMyyyy') as dia,\n",
        "           to_date(DTNASC,'ddMMyyyy') as data_nascimento,\n",
        "          SEXO,\n",
        "          RACACOR,\n",
        "          CAUSABAS\n",
        "    from sim_bronze.dores\n",
        "    WHERE CAUSABAS like '%C50%'\n",
        "\n",
        "\"\"\").show(truncate=False)"
      ]
    },
    {
      "cell_type": "code",
      "execution_count": 24,
      "metadata": {
        "colab": {
          "base_uri": "https://localhost:8080/"
        },
        "id": "v9YQhrcaZpOu",
        "outputId": "f28e0028-f1fd-4416-c699-26c7e01f9e9d"
      },
      "outputs": [
        {
          "output_type": "stream",
          "name": "stdout",
          "text": [
            "+-------------------+----------+\n",
            "|mes_obito          |quantidade|\n",
            "+-------------------+----------+\n",
            "|2014-01-01 00:00:00|343       |\n",
            "|2014-02-01 00:00:00|317       |\n",
            "|2014-03-01 00:00:00|333       |\n",
            "|2014-04-01 00:00:00|322       |\n",
            "|2014-05-01 00:00:00|340       |\n",
            "|2014-06-01 00:00:00|294       |\n",
            "|2014-07-01 00:00:00|310       |\n",
            "|2014-08-01 00:00:00|303       |\n",
            "|2014-09-01 00:00:00|291       |\n",
            "|2014-10-01 00:00:00|327       |\n",
            "|2014-11-01 00:00:00|331       |\n",
            "|2014-12-01 00:00:00|334       |\n",
            "|2015-01-01 00:00:00|334       |\n",
            "|2015-02-01 00:00:00|268       |\n",
            "|2015-03-01 00:00:00|305       |\n",
            "|2015-04-01 00:00:00|318       |\n",
            "|2015-05-01 00:00:00|371       |\n",
            "|2015-06-01 00:00:00|361       |\n",
            "|2015-07-01 00:00:00|341       |\n",
            "|2015-08-01 00:00:00|343       |\n",
            "+-------------------+----------+\n",
            "only showing top 20 rows\n",
            "\n"
          ]
        }
      ],
      "source": [
        "df_sp = spark.sql(f\"\"\"\n",
        "    select date_trunc('MONTH', to_date(DTOBITO,'ddMMyyyy')) as mes_obito,\n",
        "           count(*) as quantidade\n",
        "    from sim_bronze.dores\n",
        "    WHERE CAUSABAS like '%C50%' AND _filename IN ('DOSP2014.parquet.gzip', 'DOSP2015.parquet.gzip')\n",
        "    GROUP BY mes_obito\n",
        "    ORDER BY mes_obito\n",
        "\n",
        "\"\"\")\n",
        "\n",
        "df_sp.show(truncate=False)"
      ]
    },
    {
      "cell_type": "code",
      "execution_count": 25,
      "metadata": {
        "colab": {
          "base_uri": "https://localhost:8080/"
        },
        "id": "embH6d_bc_gF",
        "outputId": "15a604f5-ef02-4e06-b8ff-06c1c6429cdb"
      },
      "outputs": [
        {
          "output_type": "stream",
          "name": "stderr",
          "text": [
            "/usr/local/lib/python3.10/dist-packages/pyspark/sql/pandas/conversion.py:251: FutureWarning: Passing unit-less datetime64 dtype to .astype is deprecated and will raise in a future version. Pass 'datetime64[ns]' instead\n",
            "  series = series.astype(t, copy=False)\n"
          ]
        }
      ],
      "source": [
        "df_sp_pd = df_sp.toPandas()"
      ]
    },
    {
      "cell_type": "code",
      "source": [
        "_ = \"\"\"df_sp_pd.plot.line(\n",
        "    x=\"mes_obito\",\n",
        "    y=\"quantidade\")\"\"\"\n",
        "\n",
        "import matplotlib.pyplot as plt\n",
        "import numpy as np\n",
        "\n",
        "# Data for plotting\n",
        "x = df_sp_pd['mes_obito']\n",
        "y = df_sp_pd['quantidade']\n",
        "\n",
        "fig, ax = plt.subplots()\n",
        "ax.plot(x, y)\n",
        "\n",
        "ax.set(\n",
        "    xlabel='mês',\n",
        "    ylabel='quantidade',\n",
        "    title='Quantidade de óbitos por mês')\n",
        "ax.grid()\n",
        "ax.set_ylim([0, 400])\n",
        "fig.savefig(\"test.png\")\n",
        "plt.show()\n"
      ],
      "metadata": {
        "colab": {
          "base_uri": "https://localhost:8080/",
          "height": 472
        },
        "id": "w0is4KhZURzJ",
        "outputId": "1de6790e-ca13-4b68-8288-8f6b06372a5c"
      },
      "execution_count": 26,
      "outputs": [
        {
          "output_type": "display_data",
          "data": {
            "text/plain": [
              "<Figure size 640x480 with 1 Axes>"
            ],
            "image/png": "[encoded data removed]"
          },
          "metadata": {}
        }
      ]
    },
    {
      "cell_type": "code",
      "execution_count": null,
      "metadata": {
        "colab": {
          "base_uri": "https://localhost:8080/",
          "height": 472
        },
        "id": "gvqHB9vxddd9",
        "outputId": "aa9aa5ec-1d19-41cc-fcfc-4e746e6c53f8"
      },
      "outputs": [
        {
          "data": {
            "image/png": "[encoded data removed]",
            "text/plain": [
              "<Figure size 640x480 with 1 Axes>"
            ]
          },
          "metadata": {},
          "output_type": "display_data"
        }
      ],
      "source": [
        "_ = \"\"\"df_sp_pd.plot.line(\n",
        "    x=\"mes_obito\",\n",
        "    y=\"quantidade\")\"\"\"\n",
        "\n",
        "import matplotlib.pyplot as plt\n",
        "import numpy as np\n",
        "\n",
        "# Data for plotting\n",
        "x = df_sp_pd['mes_obito']\n",
        "y = df_sp_pd['quantidade']\n",
        "\n",
        "fig, ax = plt.subplots()\n",
        "ax.plot(x, y)\n",
        "\n",
        "ax.set(\n",
        "    xlabel='mês',\n",
        "    ylabel='quantidade',\n",
        "    title='Quantidade de óbitos por mês')\n",
        "ax.grid()\n",
        "ax.set_ylim([0, 400])\n",
        "fig.savefig(\"test.png\")\n",
        "plt.show()\n"
      ]
    },
    {
      "cell_type": "markdown",
      "metadata": {
        "id": "7jaOKcAuJQJY"
      },
      "source": [
        "## Consultas em dados de cidades"
      ]
    },
    {
      "cell_type": "code",
      "execution_count": 27,
      "metadata": {
        "colab": {
          "base_uri": "https://localhost:8080/"
        },
        "id": "26KP_eaxJVX9",
        "outputId": "57e193ed-af4d-4027-91ea-b107cd768d64"
      },
      "outputs": [
        {
          "output_type": "stream",
          "name": "stdout",
          "text": [
            "+-------+--------------------+-----+---------+\n",
            "|     id|                nome|id_uf|  nome_uf|\n",
            "+-------+--------------------+-----+---------+\n",
            "|3500105|          Adamantina|   35|São Paulo|\n",
            "|3500204|              Adolfo|   35|São Paulo|\n",
            "|3500303|               Aguaí|   35|São Paulo|\n",
            "|3500402|      Águas da Prata|   35|São Paulo|\n",
            "|3500501|    Águas de Lindóia|   35|São Paulo|\n",
            "|3500550|Águas de Santa Bá...|   35|São Paulo|\n",
            "|3500600|  Águas de São Pedro|   35|São Paulo|\n",
            "|3500709|              Agudos|   35|São Paulo|\n",
            "|3500758|            Alambari|   35|São Paulo|\n",
            "|3500808|   Alfredo Marcondes|   35|São Paulo|\n",
            "|3500907|              Altair|   35|São Paulo|\n",
            "|3501004|         Altinópolis|   35|São Paulo|\n",
            "|3501103|         Alto Alegre|   35|São Paulo|\n",
            "|3501152|            Alumínio|   35|São Paulo|\n",
            "|3501202|    Álvares Florence|   35|São Paulo|\n",
            "|3501301|     Álvares Machado|   35|São Paulo|\n",
            "|3501400|  Álvaro de Carvalho|   35|São Paulo|\n",
            "|3501509|         Alvinlândia|   35|São Paulo|\n",
            "|3501608|           Americana|   35|São Paulo|\n",
            "|3501707| Américo Brasiliense|   35|São Paulo|\n",
            "+-------+--------------------+-----+---------+\n",
            "only showing top 20 rows\n",
            "\n"
          ]
        }
      ],
      "source": [
        "spark.sql(f\"SELECT * FROM cancer_data.cadastro_municipios WHERE nome_uf = 'São Paulo'\").show()"
      ]
    },
    {
      "cell_type": "code",
      "execution_count": 28,
      "metadata": {
        "colab": {
          "base_uri": "https://localhost:8080/"
        },
        "id": "v0sQ3Qn9Jdbw",
        "outputId": "dcd19929-a266-4d15-b014-ba7bac013bea"
      },
      "outputs": [
        {
          "output_type": "stream",
          "name": "stdout",
          "text": [
            "+-----------+----------+---------------+--------------+------------+--------------------+----+---------+-----------+\n",
            "|codigo_sexo|valor_sexo|codigo_situacao|valor_situacao|codigo_local|          nome_local| ano|populacao|faixa_idade|\n",
            "+-----------+----------+---------------+--------------+------------+--------------------+----+---------+-----------+\n",
            "|          4|    Homens|              0|         Total|     1100015|Alta Floresta D'O...|2010|    12656|      Total|\n",
            "|          4|    Homens|              0|         Total|     1100023|      Ariquemes - RO|2010|    45543|      Total|\n",
            "|          4|    Homens|              0|         Total|     1100031|         Cabixi - RO|2010|     3266|      Total|\n",
            "|          4|    Homens|              0|         Total|     1100049|         Cacoal - RO|2010|    39124|      Total|\n",
            "|          4|    Homens|              0|         Total|     1100056|     Cerejeiras - RO|2010|     8551|      Total|\n",
            "|          4|    Homens|              0|         Total|     1100064|Colorado do Oeste...|2010|     9330|      Total|\n",
            "|          4|    Homens|              0|         Total|     1100072|     Corumbiara - RO|2010|     4711|      Total|\n",
            "|          4|    Homens|              0|         Total|     1100080|  Costa Marques - RO|2010|     7202|      Total|\n",
            "|          4|    Homens|              0|         Total|     1100098|Espigão D'Oeste - RO|2010|    14606|      Total|\n",
            "|          4|    Homens|              0|         Total|     1100106|  Guajará-Mirim - RO|2010|    20947|      Total|\n",
            "|          4|    Homens|              0|         Total|     1100114|           Jaru - RO|2010|    26005|      Total|\n",
            "|          4|    Homens|              0|         Total|     1100122|      Ji-Paraná - RO|2010|    57824|      Total|\n",
            "|          4|    Homens|              0|         Total|     1100130|Machadinho D'Oest...|2010|    16536|      Total|\n",
            "|          4|    Homens|              0|         Total|     1100148|Nova Brasilândia ...|2010|    10344|      Total|\n",
            "|          4|    Homens|              0|         Total|     1100155|Ouro Preto do Oes...|2010|    18698|      Total|\n",
            "|          4|    Homens|              0|         Total|     1100189|  Pimenta Bueno - RO|2010|    17041|      Total|\n",
            "|          4|    Homens|              0|         Total|     1100205|    Porto Velho - RO|2010|   217618|      Total|\n",
            "|          4|    Homens|              0|         Total|     1100254|Presidente Médici...|2010|    11309|      Total|\n",
            "|          4|    Homens|              0|         Total|     1100262|     Rio Crespo - RO|2010|     1767|      Total|\n",
            "|          4|    Homens|              0|         Total|     1100288| Rolim de Moura - RO|2010|    25170|      Total|\n",
            "+-----------+----------+---------------+--------------+------------+--------------------+----+---------+-----------+\n",
            "only showing top 20 rows\n",
            "\n"
          ]
        }
      ],
      "source": [
        "spark.sql(f\"SELECT * FROM cancer_data.demografia_municipios\").show()"
      ]
    },
    {
      "cell_type": "markdown",
      "metadata": {
        "id": "Pyxbtui2jLT1"
      },
      "source": [
        "## Consultas SIA"
      ]
    },
    {
      "cell_type": "markdown",
      "metadata": {
        "id": "J-kZOLoBZ15z"
      },
      "source": [
        "### Exemplo SIA-PA\n",
        "Qual é a quantidade de atendimentos de São Paulo em Produção Ambulatorial, com CID relacionado a câncer de mama ao longo dos meses de 2023?"
      ]
    },
    {
      "cell_type": "code",
      "execution_count": 29,
      "metadata": {
        "colab": {
          "base_uri": "https://localhost:8080/"
        },
        "id": "UVMLze2bjOgE",
        "outputId": "380416c0-df88-412a-d03e-32bbb363ba8f"
      },
      "outputs": [
        {
          "output_type": "stream",
          "name": "stdout",
          "text": [
            "+---------+------+----------+\n",
            "|  nome_uf|PA_CMP|quantidade|\n",
            "+---------+------+----------+\n",
            "|São Paulo|202301|     54246|\n",
            "|São Paulo|202302|     55812|\n",
            "|São Paulo|202303|     56807|\n",
            "|São Paulo|202304|     53953|\n",
            "|São Paulo|202305|     55994|\n",
            "|São Paulo|202306|     56694|\n",
            "|São Paulo|202307|     58439|\n",
            "|São Paulo|202308|     59187|\n",
            "|São Paulo|202309|     53135|\n",
            "+---------+------+----------+\n",
            "\n"
          ]
        }
      ],
      "source": [
        "spark.sql(\"\"\"\n",
        "SELECT cadastro_cidades.nome_uf, PA_CMP, count(1) as quantidade\n",
        "FROM sia_bronze.pa pa\n",
        "LEFT JOIN cancer_data.cadastro_municipios as cadastro_cidades\n",
        "    ON int(pa.PA_UFMUN) = int(cadastro_cidades.id/10)\n",
        "WHERE nome_uf = 'São Paulo' and PA_CIDPRI like '%C50%' and PA_CMP >= '202301'\n",
        "GROUP BY PA_CMP, nome_uf\n",
        "ORDER BY PA_CMP\n",
        "\"\"\"\n",
        ").show()"
      ]
    },
    {
      "cell_type": "markdown",
      "metadata": {
        "id": "voEhBPAFZ80O"
      },
      "source": [
        "### Exemplo SIA-AQ\n",
        "Qual é a quantidade de pacientes e procedimentos de quimioterapia  de São Paulo em Produção, com CID relacionado a câncer de mama ao longo dos meses de 2023?"
      ]
    },
    {
      "cell_type": "code",
      "execution_count": 30,
      "metadata": {
        "colab": {
          "base_uri": "https://localhost:8080/"
        },
        "id": "ktG-aDAYaKq3",
        "outputId": "c7da4b04-efea-45d0-be2c-74663004257a"
      },
      "outputs": [
        {
          "output_type": "stream",
          "name": "stdout",
          "text": [
            "+---------+------+---------+----------+\n",
            "|  nome_uf|AP_CMP|pacientes|quantidade|\n",
            "+---------+------+---------+----------+\n",
            "|São Paulo|202301|    38003|     38621|\n",
            "|São Paulo|202302|    38280|     38879|\n",
            "|São Paulo|202303|    38452|     39055|\n",
            "|São Paulo|202304|    38147|     38736|\n",
            "|São Paulo|202305|    39415|     40051|\n",
            "|São Paulo|202306|    39669|     40248|\n",
            "|São Paulo|202307|    40182|     40775|\n",
            "|São Paulo|202308|    39599|     40292|\n",
            "|São Paulo|202309|    36343|     36904|\n",
            "+---------+------+---------+----------+\n",
            "\n"
          ]
        }
      ],
      "source": [
        "spark.sql(\"\"\"\n",
        "SELECT cadastro_cidades.nome_uf, AP_CMP, count(distinct(AP_CNSPCN)) as pacientes, count(1) as quantidade\n",
        "FROM sia_bronze.aq aq\n",
        "LEFT JOIN cancer_data.cadastro_municipios as cadastro_cidades\n",
        "    ON int(aq.AP_UFMUN) = int(cadastro_cidades.id/10)\n",
        "WHERE nome_uf = 'São Paulo' and AP_CIDPRI like '%C50%' and AP_CMP >= '202301'\n",
        "GROUP BY AP_CMP, nome_uf\n",
        "ORDER BY AP_CMP\n",
        "\"\"\"\n",
        ").show()"
      ]
    },
    {
      "cell_type": "code",
      "execution_count": null,
      "metadata": {
        "id": "jo4qpDBXHiXa",
        "colab": {
          "base_uri": "https://localhost:8080/"
        },
        "outputId": "411a0be1-ab86-4f7c-c3dc-aa379fcee8b8"
      },
      "outputs": [
        {
          "output_type": "stream",
          "name": "stdout",
          "text": [
            "+------+---------+----------+\n",
            "|AP_CMP|pacientes|quantidade|\n",
            "+------+---------+----------+\n",
            "|200801|    72754|     73511|\n",
            "|200802|    77080|     78386|\n",
            "|200803|    75830|     78249|\n",
            "|200804|    76031|     76270|\n",
            "|200805|    79134|     79889|\n",
            "|200806|    80105|     80896|\n",
            "|200807|    78251|     78762|\n",
            "|200808|    81568|     82381|\n",
            "|200809|    83575|     84462|\n",
            "|200810|    80193|     80763|\n",
            "|200811|    81573|     82291|\n",
            "|200812|    81273|     81972|\n",
            "|200901|    81322|     81923|\n",
            "|200902|    82411|     83154|\n",
            "|200903|    84080|     85034|\n",
            "|200904|    83104|     83919|\n",
            "|200905|    85526|     86337|\n",
            "|200906|    87165|     88004|\n",
            "|200907|    87534|     88214|\n",
            "|200908|    88866|     89736|\n",
            "+------+---------+----------+\n",
            "only showing top 20 rows\n",
            "\n",
            "1:04:33.373543\n"
          ]
        }
      ],
      "source": [
        "from datetime import datetime\n",
        "dt = datetime.now()\n",
        "spark.sql(\"\"\"\n",
        "SELECT AP_CMP, count(distinct(AP_CNSPCN)) as pacientes, count(1) as quantidade\n",
        "FROM sia_bronze.aq aq\n",
        "WHERE AP_CIDPRI like '%C50%' and AP_CMP >= '200801'\n",
        "GROUP BY AP_CMP\n",
        "ORDER BY AP_CMP\n",
        "\"\"\"\n",
        ").show()\n",
        "print(datetime.now() - dt)"
      ]
    }
  ],
  "metadata": {
    "colab": {
      "provenance": [],
      "mount_file_id": "1PfTcPmeVVPapXb6fWlI38VqNzl8czlIx",
      "authorship_tag": "ABX9TyPaU0MZY3L024QdmE4/3vGV",
      "include_colab_link": true
    },
    "kernelspec": {
      "display_name": "Python 3",
      "name": "python3"
    },
    "language_info": {
      "name": "python"
    }
  },
  "nbformat": 4,
  "nbformat_minor": 0
}