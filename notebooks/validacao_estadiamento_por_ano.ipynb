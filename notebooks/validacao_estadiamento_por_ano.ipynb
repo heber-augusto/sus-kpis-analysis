{
  "cells": [
    {
      "cell_type": "markdown",
      "metadata": {
        "id": "eNviCQI6IDqh"
      },
      "source": [
        "# Configuração do ambiente e carregamento do catálogo\n",
        "\n",
        "**Lembre-se de baixar o arquivo json que garante acesso ao google storage**\n",
        " - monitor-rosa-escrita.json: acesso para criação de tabelas;\n",
        " - monitor-rosa-leitura.json: acesso para analises e consultas.\n",
        "\n",
        "**Se o seu usuário possui acesso ao drive compartilhado, remova os comentários a seguir**"
      ]
    },
    {
      "cell_type": "code",
      "source": [
        "from google.colab import drive\n",
        "drive.mount('/content/drive')"
      ],
      "metadata": {
        "colab": {
          "base_uri": "https://localhost:8080/"
        },
        "id": "enmrocYf_raz",
        "outputId": "2e7a58d2-1d1e-4f34-e65b-0b24e8efc76d"
      },
      "execution_count": 1,
      "outputs": [
        {
          "output_type": "stream",
          "name": "stdout",
          "text": [
            "Mounted at /content/drive\n"
          ]
        }
      ]
    },
    {
      "cell_type": "markdown",
      "metadata": {
        "id": "TnBLAcn1ZEik"
      },
      "source": [
        "## Escolha do ambiente\n",
        "São disponibilizadas duas opções de execução (dependendo do arquivo de credencial utilizado)\n",
        " - gcp-leitura.json: disponível para analises e usuários que não possuem permissão de escrita;\n",
        " - gcp-escrita.json: disponível para atualização de bases (testes de desenvolvimento ou ambiente de produção)."
      ]
    },
    {
      "cell_type": "code",
      "execution_count": 2,
      "metadata": {
        "id": "Fj3xNzUzZD8W",
        "colab": {
          "base_uri": "https://localhost:8080/",
          "height": 70
        },
        "outputId": "07e9c3d3-c507-4210-a5f6-ca7f72ae5fff"
      },
      "outputs": [
        {
          "output_type": "stream",
          "name": "stdout",
          "text": [
            "env: SERVICE_ACCOUNT_USER=''\n",
            "env: SERVICE_ACCOUNT_JSON=''\n"
          ]
        },
        {
          "output_type": "execute_result",
          "data": {
            "text/plain": [
              "'shared_drive'"
            ],
            "application/vnd.google.colaboratory.intrinsic+json": {
              "type": "string"
            }
          },
          "metadata": {},
          "execution_count": 2
        }
      ],
      "source": [
        "import os\n",
        "if os.path.isfile('/content/monitor-rosa-leitura.json'):\n",
        "    datalake_mode = 'leitura'\n",
        "    %env SERVICE_ACCOUNT_USER=acesso-leitura@monitor-rosa.iam.gserviceaccount.com\n",
        "    %env SERVICE_ACCOUNT_JSON=/content/monitor-rosa-leitura.json\n",
        "elif os.path.isfile('/content/monitor-rosa-escrita.json'):\n",
        "    datalake_mode = 'escrita'\n",
        "    %env SERVICE_ACCOUNT_USER=acesso-escrita@monitor-rosa.iam.gserviceaccount.com\n",
        "    %env SERVICE_ACCOUNT_JSON=/content/monitor-rosa-escrita.json\n",
        "else:\n",
        "    assert(os.path.isdir('/content/drive/Shareddrives/monitor-rosa-gold') == True)\n",
        "    datalake_mode = 'shared_drive'\n",
        "    %env SERVICE_ACCOUNT_USER=''\n",
        "    %env SERVICE_ACCOUNT_JSON=''\n",
        "datalake_mode"
      ]
    },
    {
      "cell_type": "code",
      "execution_count": 3,
      "metadata": {
        "colab": {
          "base_uri": "https://localhost:8080/"
        },
        "id": "qxl5dgNHuCsK",
        "outputId": "142e3662-98eb-4714-fd74-e15899d0a0f6"
      },
      "outputs": [
        {
          "output_type": "stream",
          "name": "stdout",
          "text": [
            "rm: cannot remove 'sus-kpis-analysis': No such file or directory\n",
            "Cloning into 'sus-kpis-analysis'...\n",
            "remote: Enumerating objects: 2021, done.\u001b[K\n",
            "remote: Counting objects: 100% (49/49), done.\u001b[K\n",
            "remote: Compressing objects: 100% (34/34), done.\u001b[K\n",
            "remote: Total 2021 (delta 28), reused 15 (delta 15), pack-reused 1972 (from 2)\u001b[K\n",
            "Receiving objects: 100% (2021/2021), 4.87 MiB | 29.18 MiB/s, done.\n",
            "Resolving deltas: 100% (987/987), done.\n"
          ]
        }
      ],
      "source": [
        "!rm -r sus-kpis-analysis\n",
        "!git clone https://github.com/heber-augusto/sus-kpis-analysis.git"
      ]
    },
    {
      "cell_type": "markdown",
      "metadata": {
        "id": "9NYsSZynDK9K"
      },
      "source": [
        "## Instalação de libs Python, inicialização de variáveis de ambiente e configuração/instalação do Spark"
      ]
    },
    {
      "cell_type": "code",
      "execution_count": 10,
      "metadata": {
        "colab": {
          "base_uri": "https://localhost:8080/"
        },
        "id": "6v3Wqjxhu4Gq",
        "outputId": "a4cde734-3a12-40b9-ef56-af1ed97a8b60"
      },
      "outputs": [
        {
          "output_type": "stream",
          "name": "stdout",
          "text": [
            "Requirement already satisfied: findspark in /usr/local/lib/python3.11/dist-packages (from -r /content/sus-kpis-analysis/sia/etls/requirements.txt (line 1)) (2.0.1)\n",
            "Requirement already satisfied: pyspark==3.5.5 in /usr/local/lib/python3.11/dist-packages (from -r /content/sus-kpis-analysis/sia/etls/requirements.txt (line 2)) (3.5.5)\n",
            "Requirement already satisfied: imagehash in /usr/local/lib/python3.11/dist-packages (from -r /content/sus-kpis-analysis/sia/etls/requirements.txt (line 3)) (4.3.2)\n",
            "Requirement already satisfied: delta-spark==3.3.1 in /usr/local/lib/python3.11/dist-packages (from -r /content/sus-kpis-analysis/sia/etls/requirements.txt (line 4)) (3.3.1)\n",
            "Requirement already satisfied: google-cloud-storage in /usr/local/lib/python3.11/dist-packages (from -r /content/sus-kpis-analysis/sia/etls/requirements.txt (line 5)) (2.19.0)\n",
            "Requirement already satisfied: pytz in /usr/local/lib/python3.11/dist-packages (from -r /content/sus-kpis-analysis/sia/etls/requirements.txt (line 6)) (2025.2)\n",
            "Requirement already satisfied: psutil in /usr/local/lib/python3.11/dist-packages (from -r /content/sus-kpis-analysis/sia/etls/requirements.txt (line 7)) (5.9.5)\n",
            "Requirement already satisfied: google-api-python-client in /usr/local/lib/python3.11/dist-packages (from -r /content/sus-kpis-analysis/sia/etls/requirements.txt (line 8)) (2.170.0)\n",
            "Requirement already satisfied: py4j==0.10.9.7 in /usr/local/lib/python3.11/dist-packages (from pyspark==3.5.5->-r /content/sus-kpis-analysis/sia/etls/requirements.txt (line 2)) (0.10.9.7)\n",
            "Requirement already satisfied: importlib-metadata>=1.0.0 in /usr/local/lib/python3.11/dist-packages (from delta-spark==3.3.1->-r /content/sus-kpis-analysis/sia/etls/requirements.txt (line 4)) (8.7.0)\n",
            "Requirement already satisfied: PyWavelets in /usr/local/lib/python3.11/dist-packages (from imagehash->-r /content/sus-kpis-analysis/sia/etls/requirements.txt (line 3)) (1.8.0)\n",
            "Requirement already satisfied: numpy in /usr/local/lib/python3.11/dist-packages (from imagehash->-r /content/sus-kpis-analysis/sia/etls/requirements.txt (line 3)) (2.0.2)\n",
            "Requirement already satisfied: pillow in /usr/local/lib/python3.11/dist-packages (from imagehash->-r /content/sus-kpis-analysis/sia/etls/requirements.txt (line 3)) (11.2.1)\n",
            "Requirement already satisfied: scipy in /usr/local/lib/python3.11/dist-packages (from imagehash->-r /content/sus-kpis-analysis/sia/etls/requirements.txt (line 3)) (1.15.3)\n",
            "Requirement already satisfied: google-auth<3.0dev,>=2.26.1 in /usr/local/lib/python3.11/dist-packages (from google-cloud-storage->-r /content/sus-kpis-analysis/sia/etls/requirements.txt (line 5)) (2.38.0)\n",
            "Requirement already satisfied: google-api-core<3.0.0dev,>=2.15.0 in /usr/local/lib/python3.11/dist-packages (from google-cloud-storage->-r /content/sus-kpis-analysis/sia/etls/requirements.txt (line 5)) (2.24.2)\n",
            "Requirement already satisfied: google-cloud-core<3.0dev,>=2.3.0 in /usr/local/lib/python3.11/dist-packages (from google-cloud-storage->-r /content/sus-kpis-analysis/sia/etls/requirements.txt (line 5)) (2.4.3)\n",
            "Requirement already satisfied: google-resumable-media>=2.7.2 in /usr/local/lib/python3.11/dist-packages (from google-cloud-storage->-r /content/sus-kpis-analysis/sia/etls/requirements.txt (line 5)) (2.7.2)\n",
            "Requirement already satisfied: requests<3.0.0dev,>=2.18.0 in /usr/local/lib/python3.11/dist-packages (from google-cloud-storage->-r /content/sus-kpis-analysis/sia/etls/requirements.txt (line 5)) (2.32.3)\n",
            "Requirement already satisfied: google-crc32c<2.0dev,>=1.0 in /usr/local/lib/python3.11/dist-packages (from google-cloud-storage->-r /content/sus-kpis-analysis/sia/etls/requirements.txt (line 5)) (1.7.1)\n",
            "Requirement already satisfied: httplib2<1.0.0,>=0.19.0 in /usr/local/lib/python3.11/dist-packages (from google-api-python-client->-r /content/sus-kpis-analysis/sia/etls/requirements.txt (line 8)) (0.22.0)\n",
            "Requirement already satisfied: google-auth-httplib2<1.0.0,>=0.2.0 in /usr/local/lib/python3.11/dist-packages (from google-api-python-client->-r /content/sus-kpis-analysis/sia/etls/requirements.txt (line 8)) (0.2.0)\n",
            "Requirement already satisfied: uritemplate<5,>=3.0.1 in /usr/local/lib/python3.11/dist-packages (from google-api-python-client->-r /content/sus-kpis-analysis/sia/etls/requirements.txt (line 8)) (4.1.1)\n",
            "Requirement already satisfied: googleapis-common-protos<2.0.0,>=1.56.2 in /usr/local/lib/python3.11/dist-packages (from google-api-core<3.0.0dev,>=2.15.0->google-cloud-storage->-r /content/sus-kpis-analysis/sia/etls/requirements.txt (line 5)) (1.70.0)\n",
            "Requirement already satisfied: protobuf!=3.20.0,!=3.20.1,!=4.21.0,!=4.21.1,!=4.21.2,!=4.21.3,!=4.21.4,!=4.21.5,<7.0.0,>=3.19.5 in /usr/local/lib/python3.11/dist-packages (from google-api-core<3.0.0dev,>=2.15.0->google-cloud-storage->-r /content/sus-kpis-analysis/sia/etls/requirements.txt (line 5)) (5.29.5)\n",
            "Requirement already satisfied: proto-plus<2.0.0,>=1.22.3 in /usr/local/lib/python3.11/dist-packages (from google-api-core<3.0.0dev,>=2.15.0->google-cloud-storage->-r /content/sus-kpis-analysis/sia/etls/requirements.txt (line 5)) (1.26.1)\n",
            "Requirement already satisfied: cachetools<6.0,>=2.0.0 in /usr/local/lib/python3.11/dist-packages (from google-auth<3.0dev,>=2.26.1->google-cloud-storage->-r /content/sus-kpis-analysis/sia/etls/requirements.txt (line 5)) (5.5.2)\n",
            "Requirement already satisfied: pyasn1-modules>=0.2.1 in /usr/local/lib/python3.11/dist-packages (from google-auth<3.0dev,>=2.26.1->google-cloud-storage->-r /content/sus-kpis-analysis/sia/etls/requirements.txt (line 5)) (0.4.2)\n",
            "Requirement already satisfied: rsa<5,>=3.1.4 in /usr/local/lib/python3.11/dist-packages (from google-auth<3.0dev,>=2.26.1->google-cloud-storage->-r /content/sus-kpis-analysis/sia/etls/requirements.txt (line 5)) (4.9.1)\n",
            "Requirement already satisfied: pyparsing!=3.0.0,!=3.0.1,!=3.0.2,!=3.0.3,<4,>=2.4.2 in /usr/local/lib/python3.11/dist-packages (from httplib2<1.0.0,>=0.19.0->google-api-python-client->-r /content/sus-kpis-analysis/sia/etls/requirements.txt (line 8)) (3.2.3)\n",
            "Requirement already satisfied: zipp>=3.20 in /usr/local/lib/python3.11/dist-packages (from importlib-metadata>=1.0.0->delta-spark==3.3.1->-r /content/sus-kpis-analysis/sia/etls/requirements.txt (line 4)) (3.22.0)\n",
            "Requirement already satisfied: charset-normalizer<4,>=2 in /usr/local/lib/python3.11/dist-packages (from requests<3.0.0dev,>=2.18.0->google-cloud-storage->-r /content/sus-kpis-analysis/sia/etls/requirements.txt (line 5)) (3.4.2)\n",
            "Requirement already satisfied: idna<4,>=2.5 in /usr/local/lib/python3.11/dist-packages (from requests<3.0.0dev,>=2.18.0->google-cloud-storage->-r /content/sus-kpis-analysis/sia/etls/requirements.txt (line 5)) (3.10)\n",
            "Requirement already satisfied: urllib3<3,>=1.21.1 in /usr/local/lib/python3.11/dist-packages (from requests<3.0.0dev,>=2.18.0->google-cloud-storage->-r /content/sus-kpis-analysis/sia/etls/requirements.txt (line 5)) (2.4.0)\n",
            "Requirement already satisfied: certifi>=2017.4.17 in /usr/local/lib/python3.11/dist-packages (from requests<3.0.0dev,>=2.18.0->google-cloud-storage->-r /content/sus-kpis-analysis/sia/etls/requirements.txt (line 5)) (2025.4.26)\n",
            "Requirement already satisfied: pyasn1<0.7.0,>=0.6.1 in /usr/local/lib/python3.11/dist-packages (from pyasn1-modules>=0.2.1->google-auth<3.0dev,>=2.26.1->google-cloud-storage->-r /content/sus-kpis-analysis/sia/etls/requirements.txt (line 5)) (0.6.1)\n",
            "env: PYTHONHASHSEED=1234\n",
            "env: JAVA_HOME=/usr/lib/jvm/java-8-openjdk-amd64\n",
            "env: SPARK_HOME=/content/spark-3.5.5-bin-hadoop3\n",
            "env: SPARK_VERSION=3.5.5\n",
            "starting spark env setup \n",
            "installing and downloading packages\n",
            "W: Skipping acquire of configured file 'main/source/Sources' as repository 'https://r2u.stat.illinois.edu/ubuntu jammy InRelease' does not seem to provide it (sources.list entry misspelt?)\n",
            "setting enviroment variables\n",
            "spark env setup completed with success\n"
          ]
        }
      ],
      "source": [
        "!pip install -r /content/sus-kpis-analysis/sia/etls/requirements.txt\n",
        "\n",
        "%env PYTHONHASHSEED=1234\n",
        "%env JAVA_HOME=/usr/lib/jvm/java-8-openjdk-amd64\n",
        "%env SPARK_HOME=/content/spark-3.5.5-bin-hadoop3\n",
        "%env SPARK_VERSION=3.5.5\n",
        "\n",
        "!source /content/sus-kpis-analysis/sia/etls/bin/setup_spark_env.sh '/content/'"
      ]
    },
    {
      "cell_type": "code",
      "source": [
        "if datalake_mode != 'shared_drive':\n",
        "    %env XDG_CONFIG_HOME=/content/datalake\n",
        "    !source /content/sus-kpis-analysis/sia/etls/bin/install-google-drive-ocamlfuse.sh\n",
        "    !source /content/sus-kpis-analysis/sia/etls/bin/mount_google_drive_v2.sh '/content/datalake' $SERVICE_ACCOUNT_USER '0ABIY-a4qrdY9Uk9PVA' 'monitor-rosa-bronze' $SERVICE_ACCOUNT_JSON '/content'\n",
        "    !source /content/sus-kpis-analysis/sia/etls/bin/mount_google_drive_v2.sh '/content/datalake' $SERVICE_ACCOUNT_USER '0ALl0owLNr53oUk9PVA' 'monitor-rosa-silver' $SERVICE_ACCOUNT_JSON '/content'\n",
        "    !source /content/sus-kpis-analysis/sia/etls/bin/mount_google_drive_v2.sh '/content/datalake' $SERVICE_ACCOUNT_USER '0AMHp9pBeLvZiUk9PVA' 'monitor-rosa-gold' $SERVICE_ACCOUNT_JSON '/content'\n"
      ],
      "metadata": {
        "id": "-_O3K75fMh7K"
      },
      "execution_count": 11,
      "outputs": []
    },
    {
      "cell_type": "markdown",
      "metadata": {
        "id": "TT00Lo1mTJwu"
      },
      "source": [
        "## Inicializa variáveis de acesso ao delta lake criado no google storage\n",
        "\n",
        "- Local do arquivo de credencial do storage, diretorio do warehouse e path do spark:\n",
        "\n",
        "> O arquivo json_file_name deve ser enviado para o ambiente e deve ser utilizado um com as devidas permissões (em caso de escrita)\n",
        "\n",
        "> O caminho do warehouse pode ser alterado em caso de testes de escritas locais.\n",
        "\n",
        "> O caminho do spark é setado pelo script de configuração"
      ]
    },
    {
      "cell_type": "code",
      "execution_count": 13,
      "metadata": {
        "colab": {
          "base_uri": "https://localhost:8080/",
          "height": 35
        },
        "id": "LLT8gGOcekpW",
        "outputId": "56673743-05a8-4f86-d49d-fd09c76b10b4"
      },
      "outputs": [
        {
          "output_type": "execute_result",
          "data": {
            "text/plain": [
              "'/content/spark-3.5.5-bin-hadoop3'"
            ],
            "application/vnd.google.colaboratory.intrinsic+json": {
              "type": "string"
            }
          },
          "metadata": {},
          "execution_count": 13
        }
      ],
      "source": [
        "import os\n",
        "\n",
        "lake_prefix = \"temp-output\"\n",
        "\n",
        "if datalake_mode in ('leitura','shared_drive',):\n",
        "    warehouse_dir = f\"/content/datalake/{lake_prefix}/\"\n",
        "\n",
        "if datalake_mode == 'escrita':\n",
        "    warehouse_dir = f\"/content/datalake/\"\n",
        "\n",
        "spark_path = os.getenv('SPARK_HOME')\n",
        "spark_path"
      ]
    },
    {
      "cell_type": "markdown",
      "metadata": {
        "id": "SpzMUcNg3k8d"
      },
      "source": [
        "## Inclusão da pasta do repositório no python path\n",
        "\n",
        "Procedimento permite que funções e classes presentes no repositório sejam utilizadas"
      ]
    },
    {
      "cell_type": "code",
      "execution_count": 14,
      "metadata": {
        "colab": {
          "base_uri": "https://localhost:8080/"
        },
        "id": "a-dOrv8t0IMZ",
        "outputId": "732521b2-b203-4b6e-c467-9983d191dd77"
      },
      "outputs": [
        {
          "output_type": "execute_result",
          "data": {
            "text/plain": [
              "['/content',\n",
              " '/env/python',\n",
              " '/usr/lib/python311.zip',\n",
              " '/usr/lib/python3.11',\n",
              " '/usr/lib/python3.11/lib-dynload',\n",
              " '',\n",
              " '/usr/local/lib/python3.11/dist-packages',\n",
              " '/usr/lib/python3/dist-packages',\n",
              " '/usr/local/lib/python3.11/dist-packages/IPython/extensions',\n",
              " '/usr/local/lib/python3.11/dist-packages/setuptools/_vendor',\n",
              " '/root/.ipython',\n",
              " '/content/sus-kpis-analysis',\n",
              " '/content/sus-kpis-analysis']"
            ]
          },
          "metadata": {},
          "execution_count": 14
        }
      ],
      "source": [
        "import sys\n",
        "sys.path.append('/content/sus-kpis-analysis')\n",
        "sys.path"
      ]
    },
    {
      "cell_type": "markdown",
      "metadata": {
        "id": "ptGWtMYSIXtw"
      },
      "source": [
        "## Importação de funções utilizadas pelo código"
      ]
    },
    {
      "cell_type": "code",
      "execution_count": 15,
      "metadata": {
        "id": "GYbxgrEQz3Sn"
      },
      "outputs": [],
      "source": [
        "from sia.etls.lib.catalog_loader import DeltaLakeDatabaseFsCreator, load_entire_catalog_fs, load_entire_catalog_fs_v2\n",
        "from sia.etls.lib.table_utilities import vacuum_tables_from_database, table_exists\n",
        "from sia.etls.lib.fs_spark_session import create_fs_spark_session\n",
        "from sia.etls.lib.bronze_files_utilities import get_pending_files_from_bronze\n",
        "from sia.etls.lib.delta_table_creators import ParquetToDelta"
      ]
    },
    {
      "cell_type": "markdown",
      "metadata": {
        "id": "9LWOtjtk33d6"
      },
      "source": [
        "## Cria Sessão Spark conectada ao Delta Lake presente no Google Storage"
      ]
    },
    {
      "cell_type": "code",
      "execution_count": 16,
      "metadata": {
        "id": "ETM5T_gkDvAP"
      },
      "outputs": [],
      "source": [
        "spark = create_fs_spark_session(\n",
        "    warehouse_dir=warehouse_dir,\n",
        "    spark_path=spark_path\n",
        ")\n"
      ]
    },
    {
      "cell_type": "markdown",
      "metadata": {
        "id": "t8lBJqvC4Cak"
      },
      "source": [
        "## Refresh do catálogo para utilizar consultas"
      ]
    },
    {
      "cell_type": "code",
      "source": [
        "zone_names = ['monitor-rosa-bronze', 'monitor-rosa-silver', 'monitor-rosa-gold']\n",
        "zone_names = ['monitor-rosa-silver', 'monitor-rosa-gold']\n",
        "if datalake_mode in ('leitura', 'escrita'):\n",
        "    zone_paths = [f'/content/datalake/{zone_name}/databases' for zone_name in zone_names]\n",
        "else:\n",
        "    zone_paths = [f'/content/drive/Shareddrives/{zone_name}/databases' for zone_name in zone_names]\n",
        "\n",
        "\n",
        "# carrega catalogo de banco de dados, na zona bronze\n",
        "database_filter = None #['cnes_bronze.db',]\n",
        "table_filter = None #['cnes_bronze.sr',]\n",
        "\n",
        "for databases_path in zone_paths:\n",
        "    load_entire_catalog_fs_v2(\n",
        "        spark_session = spark,\n",
        "        databases_path = databases_path,\n",
        "        use_db_folder_path=(datalake_mode == 'escrita'),\n",
        "        database_filter=database_filter,\n",
        "        table_filter=table_filter\n",
        "    )"
      ],
      "metadata": {
        "colab": {
          "base_uri": "https://localhost:8080/"
        },
        "id": "nvYjAMOAyNmj",
        "outputId": "e1dd83c4-52a8-43e9-b73a-6ba3f857481a"
      },
      "execution_count": 17,
      "outputs": [
        {
          "output_type": "stream",
          "name": "stdout",
          "text": [
            "['cancer_data.db', 'ibge_silver.db', 'cancer_mama_silver.db']\n",
            "Banco de dados cancer_data criado.\n",
            "listando conteúdos do caminho /content/drive/Shareddrives/monitor-rosa-silver/databases e database cancer_data\n",
            "prefix: /content/drive/Shareddrives/monitor-rosa-silver/databases/cancer_data.db/\n",
            "table_list: ['aq_filtered', 'ar_filtered', 'dados_estados_mensal', 'dados_municipios_mensal', 'pacientes', 'procedimentos', 'procedimentos_e_pacientes', 'demografia_municipios', 'cadastro_municipios']\n",
            "Tabela aq_filtered criada\n",
            "Tabela aq_filtered criada com comando CREATE TABLE IF NOT EXISTS cancer_data.aq_filtered USING delta LOCATION '/content/drive/Shareddrives/monitor-rosa-silver/databases/cancer_data.db/aq_filtered'\n",
            "Tabela ar_filtered criada\n",
            "Tabela ar_filtered criada com comando CREATE TABLE IF NOT EXISTS cancer_data.ar_filtered USING delta LOCATION '/content/drive/Shareddrives/monitor-rosa-silver/databases/cancer_data.db/ar_filtered'\n",
            "Tabela dados_estados_mensal criada\n",
            "Tabela dados_estados_mensal criada com comando CREATE TABLE IF NOT EXISTS cancer_data.dados_estados_mensal USING delta LOCATION '/content/drive/Shareddrives/monitor-rosa-silver/databases/cancer_data.db/dados_estados_mensal'\n",
            "Tabela dados_municipios_mensal criada\n",
            "Tabela dados_municipios_mensal criada com comando CREATE TABLE IF NOT EXISTS cancer_data.dados_municipios_mensal USING delta LOCATION '/content/drive/Shareddrives/monitor-rosa-silver/databases/cancer_data.db/dados_municipios_mensal'\n",
            "Tabela pacientes criada\n",
            "Tabela pacientes criada com comando CREATE TABLE IF NOT EXISTS cancer_data.pacientes USING delta LOCATION '/content/drive/Shareddrives/monitor-rosa-silver/databases/cancer_data.db/pacientes'\n",
            "Tabela procedimentos criada\n",
            "Tabela procedimentos criada com comando CREATE TABLE IF NOT EXISTS cancer_data.procedimentos USING delta LOCATION '/content/drive/Shareddrives/monitor-rosa-silver/databases/cancer_data.db/procedimentos'\n",
            "Tabela procedimentos_e_pacientes criada\n",
            "Tabela procedimentos_e_pacientes criada com comando CREATE TABLE IF NOT EXISTS cancer_data.procedimentos_e_pacientes USING delta LOCATION '/content/drive/Shareddrives/monitor-rosa-silver/databases/cancer_data.db/procedimentos_e_pacientes'\n",
            "Tabela demografia_municipios criada\n",
            "Tabela demografia_municipios criada com comando CREATE TABLE IF NOT EXISTS cancer_data.demografia_municipios USING delta LOCATION '/content/drive/Shareddrives/monitor-rosa-silver/databases/cancer_data.db/demografia_municipios'\n",
            "Tabela cadastro_municipios criada\n",
            "Tabela cadastro_municipios criada com comando CREATE TABLE IF NOT EXISTS cancer_data.cadastro_municipios USING delta LOCATION '/content/drive/Shareddrives/monitor-rosa-silver/databases/cancer_data.db/cadastro_municipios'\n",
            "Recriação das tabelas concluída.\n",
            "Banco de dados ibge_silver criado.\n",
            "listando conteúdos do caminho /content/drive/Shareddrives/monitor-rosa-silver/databases e database ibge_silver\n",
            "prefix: /content/drive/Shareddrives/monitor-rosa-silver/databases/ibge_silver.db/\n",
            "table_list: ['cadastro_municipios', 'demografia_municipios']\n",
            "Tabela cadastro_municipios criada\n",
            "Tabela cadastro_municipios criada com comando CREATE TABLE IF NOT EXISTS ibge_silver.cadastro_municipios USING delta LOCATION '/content/drive/Shareddrives/monitor-rosa-silver/databases/ibge_silver.db/cadastro_municipios'\n",
            "Tabela demografia_municipios criada\n",
            "Tabela demografia_municipios criada com comando CREATE TABLE IF NOT EXISTS ibge_silver.demografia_municipios USING delta LOCATION '/content/drive/Shareddrives/monitor-rosa-silver/databases/ibge_silver.db/demografia_municipios'\n",
            "Recriação das tabelas concluída.\n",
            "Banco de dados cancer_mama_silver criado.\n",
            "listando conteúdos do caminho /content/drive/Shareddrives/monitor-rosa-silver/databases e database cancer_mama_silver\n",
            "prefix: /content/drive/Shareddrives/monitor-rosa-silver/databases/cancer_mama_silver.db/\n",
            "table_list: ['ar_filtered', 'aq_filtered']\n",
            "Tabela ar_filtered criada\n",
            "Tabela ar_filtered criada com comando CREATE TABLE IF NOT EXISTS cancer_mama_silver.ar_filtered USING delta LOCATION '/content/drive/Shareddrives/monitor-rosa-silver/databases/cancer_mama_silver.db/ar_filtered'\n",
            "Tabela aq_filtered criada\n",
            "Tabela aq_filtered criada com comando CREATE TABLE IF NOT EXISTS cancer_mama_silver.aq_filtered USING delta LOCATION '/content/drive/Shareddrives/monitor-rosa-silver/databases/cancer_mama_silver.db/aq_filtered'\n",
            "Recriação das tabelas concluída.\n",
            "['cancer_mama.db']\n",
            "Banco de dados cancer_mama criado.\n",
            "listando conteúdos do caminho /content/drive/Shareddrives/monitor-rosa-gold/databases e database cancer_mama\n",
            "prefix: /content/drive/Shareddrives/monitor-rosa-gold/databases/cancer_mama.db/\n",
            "table_list: ['procedimentos', 'pacientes', 'procedimentos_e_pacientes', 'dados_municipios_mensal', 'dados_estados_mensal']\n",
            "Tabela procedimentos criada\n",
            "Tabela procedimentos criada com comando CREATE TABLE IF NOT EXISTS cancer_mama.procedimentos USING delta LOCATION '/content/drive/Shareddrives/monitor-rosa-gold/databases/cancer_mama.db/procedimentos'\n",
            "Tabela pacientes criada\n",
            "Tabela pacientes criada com comando CREATE TABLE IF NOT EXISTS cancer_mama.pacientes USING delta LOCATION '/content/drive/Shareddrives/monitor-rosa-gold/databases/cancer_mama.db/pacientes'\n",
            "Tabela procedimentos_e_pacientes criada\n",
            "Tabela procedimentos_e_pacientes criada com comando CREATE TABLE IF NOT EXISTS cancer_mama.procedimentos_e_pacientes USING delta LOCATION '/content/drive/Shareddrives/monitor-rosa-gold/databases/cancer_mama.db/procedimentos_e_pacientes'\n",
            "Tabela dados_municipios_mensal criada\n",
            "Tabela dados_municipios_mensal criada com comando CREATE TABLE IF NOT EXISTS cancer_mama.dados_municipios_mensal USING delta LOCATION '/content/drive/Shareddrives/monitor-rosa-gold/databases/cancer_mama.db/dados_municipios_mensal'\n",
            "Tabela dados_estados_mensal criada\n",
            "Tabela dados_estados_mensal criada com comando CREATE TABLE IF NOT EXISTS cancer_mama.dados_estados_mensal USING delta LOCATION '/content/drive/Shareddrives/monitor-rosa-gold/databases/cancer_mama.db/dados_estados_mensal'\n",
            "Recriação das tabelas concluída.\n"
          ]
        }
      ]
    },
    {
      "cell_type": "markdown",
      "metadata": {
        "id": "xj_tPdPNIj7o"
      },
      "source": [
        "# Exemplos de consultas"
      ]
    },
    {
      "cell_type": "markdown",
      "metadata": {
        "id": "PeQru0rTIfct"
      },
      "source": [
        "## Listagem de bancos e tabelas"
      ]
    },
    {
      "cell_type": "code",
      "execution_count": 18,
      "metadata": {
        "colab": {
          "base_uri": "https://localhost:8080/"
        },
        "id": "qJybgzFHU5as",
        "outputId": "864158b7-000d-4691-bc64-6487f8577c07"
      },
      "outputs": [
        {
          "output_type": "stream",
          "name": "stdout",
          "text": [
            "+------------------+\n",
            "|         namespace|\n",
            "+------------------+\n",
            "|       cancer_data|\n",
            "|       cancer_mama|\n",
            "|cancer_mama_silver|\n",
            "|           default|\n",
            "|       ibge_silver|\n",
            "+------------------+\n",
            "\n"
          ]
        }
      ],
      "source": [
        "databases = spark.sql(f\"SHOW DATABASES;\")\n",
        "databases.show()"
      ]
    },
    {
      "cell_type": "code",
      "execution_count": 19,
      "metadata": {
        "colab": {
          "base_uri": "https://localhost:8080/"
        },
        "id": "BYbmd2NNH3iZ",
        "outputId": "0f968ac3-a1c1-4161-d48b-7d3e238244ea"
      },
      "outputs": [
        {
          "output_type": "stream",
          "name": "stdout",
          "text": [
            "+-----------+-------------------------+-----------+\n",
            "|namespace  |tableName                |isTemporary|\n",
            "+-----------+-------------------------+-----------+\n",
            "|cancer_data|aq_filtered              |false      |\n",
            "|cancer_data|ar_filtered              |false      |\n",
            "|cancer_data|cadastro_municipios      |false      |\n",
            "|cancer_data|dados_estados_mensal     |false      |\n",
            "|cancer_data|dados_municipios_mensal  |false      |\n",
            "|cancer_data|demografia_municipios    |false      |\n",
            "|cancer_data|pacientes                |false      |\n",
            "|cancer_data|procedimentos            |false      |\n",
            "|cancer_data|procedimentos_e_pacientes|false      |\n",
            "+-----------+-------------------------+-----------+\n",
            "\n",
            "+-----------+-------------------------+-----------+\n",
            "|namespace  |tableName                |isTemporary|\n",
            "+-----------+-------------------------+-----------+\n",
            "|cancer_mama|dados_estados_mensal     |false      |\n",
            "|cancer_mama|dados_municipios_mensal  |false      |\n",
            "|cancer_mama|pacientes                |false      |\n",
            "|cancer_mama|procedimentos            |false      |\n",
            "|cancer_mama|procedimentos_e_pacientes|false      |\n",
            "+-----------+-------------------------+-----------+\n",
            "\n",
            "+------------------+-----------+-----------+\n",
            "|namespace         |tableName  |isTemporary|\n",
            "+------------------+-----------+-----------+\n",
            "|cancer_mama_silver|aq_filtered|false      |\n",
            "|cancer_mama_silver|ar_filtered|false      |\n",
            "+------------------+-----------+-----------+\n",
            "\n",
            "+---------+---------+-----------+\n",
            "|namespace|tableName|isTemporary|\n",
            "+---------+---------+-----------+\n",
            "+---------+---------+-----------+\n",
            "\n",
            "+-----------+---------------------+-----------+\n",
            "|namespace  |tableName            |isTemporary|\n",
            "+-----------+---------------------+-----------+\n",
            "|ibge_silver|cadastro_municipios  |false      |\n",
            "|ibge_silver|demografia_municipios|false      |\n",
            "+-----------+---------------------+-----------+\n",
            "\n"
          ]
        }
      ],
      "source": [
        "for row in databases.collect():\n",
        "    spark.sql(f\"SHOW TABLES FROM {row['namespace']};\").show(truncate=False)"
      ]
    },
    {
      "cell_type": "code",
      "source": [
        "dados_estad_mensal_df = spark.sql(f\"\"\"\n",
        "    SELECT\n",
        "        year(to_date(data, 'yyyyMM')) AS ano\n",
        "        ,primeiro_estadiamento\n",
        "        --SUM(custo) AS custo_estadiamento\n",
        "        ,COUNT(DISTINCT(paciente)) AS numero_pacientes\n",
        "        --,SUM(DISTINCT(obito)) AS obitos\n",
        "        --,SUM(DISTINCT(indicacao_obito)) AS obito_futuro\n",
        "        --,COUNT(1) AS numero_procedimentos\n",
        "    FROM\n",
        "        (SELECT * FROM cancer_mama.procedimentos_e_pacientes ORDER BY data)\n",
        "    GROUP BY ano, primeiro_estadiamento\n",
        "\"\"\")\n"
      ],
      "metadata": {
        "id": "yQBZRW1oRWYl"
      },
      "execution_count": 20,
      "outputs": []
    },
    {
      "cell_type": "code",
      "source": [
        "df = dados_estad_mensal_df.toPandas()"
      ],
      "metadata": {
        "id": "8g3VEuI8UphS"
      },
      "execution_count": 21,
      "outputs": []
    },
    {
      "cell_type": "code",
      "source": [
        "# prompt: Usando o DataFrame df: stacked percentage of numero_pacientes by ano and estadiamento, using 0 in the bottom, and 1, 2, 3, 4 ordered to the top\n",
        "\n",
        "import pandas as pd\n",
        "import altair as alt\n",
        "\n",
        "# Create a DataFrame (replace with your actual data)\n",
        "# Assuming your DataFrame is named 'df'\n",
        "\n",
        "# Convert 'primeiro_estadiamento' to numeric, handling errors\n",
        "df['primeiro_estadiamento'] = pd.to_numeric(df['primeiro_estadiamento'], errors='coerce')\n",
        "\n",
        "# Group by 'ano' and 'primeiro_estadiamento'\n",
        "grouped_data = df.groupby(['ano', 'primeiro_estadiamento'])['numero_pacientes'].sum().reset_index()\n",
        "\n",
        "# Calculate the total number of patients for each year\n",
        "total_patients = grouped_data.groupby('ano')['numero_pacientes'].sum()\n",
        "\n",
        "# Calculate the percentage for each group within each year\n",
        "grouped_data['percentage'] = grouped_data.apply(lambda x: (x['numero_pacientes'] / total_patients[x['ano']]) * 100, axis=1)\n",
        "\n",
        "# Create the stacked percentage chart using Altair\n",
        "chart = alt.Chart(grouped_data).mark_bar().encode(\n",
        "    x='ano:N',  # Categorical x-axis for years\n",
        "    y=alt.Y('percentage:Q', stack='normalize', axis=alt.Axis(format='%')), # Stacked percentage with percentage formatting\n",
        "    color=alt.Color('primeiro_estadiamento:N', sort='ascending'),  # Color by stage\n",
        "    order=alt.Order('primeiro_estadiamento:N', sort='ascending')  # Order bars by stage\n",
        ").properties(\n",
        "    title='Stacked Percentage of Patients by Year and Stage'\n",
        ")\n",
        "chart\n"
      ],
      "metadata": {
        "id": "hwhuFiPRWIib",
        "outputId": "4ffeca06-b8ca-4d3e-a3ea-4b7a2779e167",
        "colab": {
          "base_uri": "https://localhost:8080/",
          "height": 398
        }
      },
      "execution_count": 22,
      "outputs": [
        {
          "output_type": "execute_result",
          "data": {
            "text/html": [
              "\n",
              "<style>\n",
              "  #altair-viz-585531c5053d4da5911bd831003d31b1.vega-embed {\n",
              "    width: 100%;\n",
              "    display: flex;\n",
              "  }\n",
              "\n",
              "  #altair-viz-585531c5053d4da5911bd831003d31b1.vega-embed details,\n",
              "  #altair-viz-585531c5053d4da5911bd831003d31b1.vega-embed details summary {\n",
              "    position: relative;\n",
              "  }\n",
              "</style>\n",
              "<div id=\"altair-viz-585531c5053d4da5911bd831003d31b1\"></div>\n",
              "<script type=\"text/javascript\">\n",
              "  var VEGA_DEBUG = (typeof VEGA_DEBUG == \"undefined\") ? {} : VEGA_DEBUG;\n",
              "  (function(spec, embedOpt){\n",
              "    let outputDiv = document.currentScript.previousElementSibling;\n",
              "    if (outputDiv.id !== \"altair-viz-585531c5053d4da5911bd831003d31b1\") {\n",
              "      outputDiv = document.getElementById(\"altair-viz-585531c5053d4da5911bd831003d31b1\");\n",
              "    }\n",
              "\n",
              "    const paths = {\n",
              "      \"vega\": \"https://cdn.jsdelivr.net/npm/vega@5?noext\",\n",
              "      \"vega-lib\": \"https://cdn.jsdelivr.net/npm/vega-lib?noext\",\n",
              "      \"vega-lite\": \"https://cdn.jsdelivr.net/npm/vega-lite@5.20.1?noext\",\n",
              "      \"vega-embed\": \"https://cdn.jsdelivr.net/npm/vega-embed@6?noext\",\n",
              "    };\n",
              "\n",
              "    function maybeLoadScript(lib, version) {\n",
              "      var key = `${lib.replace(\"-\", \"\")}_version`;\n",
              "      return (VEGA_DEBUG[key] == version) ?\n",
              "        Promise.resolve(paths[lib]) :\n",
              "        new Promise(function(resolve, reject) {\n",
              "          var s = document.createElement('script');\n",
              "          document.getElementsByTagName(\"head\")[0].appendChild(s);\n",
              "          s.async = true;\n",
              "          s.onload = () => {\n",
              "            VEGA_DEBUG[key] = version;\n",
              "            return resolve(paths[lib]);\n",
              "          };\n",
              "          s.onerror = () => reject(`Error loading script: ${paths[lib]}`);\n",
              "          s.src = paths[lib];\n",
              "        });\n",
              "    }\n",
              "\n",
              "    function showError(err) {\n",
              "      outputDiv.innerHTML = `<div class=\"error\" style=\"color:red;\">${err}</div>`;\n",
              "      throw err;\n",
              "    }\n",
              "\n",
              "    function displayChart(vegaEmbed) {\n",
              "      vegaEmbed(outputDiv, spec, embedOpt)\n",
              "        .catch(err => showError(`Javascript Error: ${err.message}<br>This usually means there's a typo in your chart specification. See the javascript console for the full traceback.`));\n",
              "    }\n",
              "\n",
              "    if(typeof define === \"function\" && define.amd) {\n",
              "      requirejs.config({paths});\n",
              "      let deps = [\"vega-embed\"];\n",
              "      require(deps, displayChart, err => showError(`Error loading script: ${err.message}`));\n",
              "    } else {\n",
              "      maybeLoadScript(\"vega\", \"5\")\n",
              "        .then(() => maybeLoadScript(\"vega-lite\", \"5.20.1\"))\n",
              "        .then(() => maybeLoadScript(\"vega-embed\", \"6\"))\n",
              "        .catch(showError)\n",
              "        .then(() => displayChart(vegaEmbed));\n",
              "    }\n",
              "  })({\"config\": {\"view\": {\"continuousWidth\": 300, \"continuousHeight\": 300}}, \"data\": {\"name\": \"data-d65a62f2497e98ae8c689f57d7f44373\"}, \"mark\": {\"type\": \"bar\"}, \"encoding\": {\"color\": {\"field\": \"primeiro_estadiamento\", \"sort\": \"ascending\", \"type\": \"nominal\"}, \"order\": {\"field\": \"primeiro_estadiamento\", \"sort\": \"ascending\", \"type\": \"nominal\"}, \"x\": {\"field\": \"ano\", \"type\": \"nominal\"}, \"y\": {\"axis\": {\"format\": \"%\"}, \"field\": \"percentage\", \"stack\": \"normalize\", \"type\": \"quantitative\"}}, \"title\": \"Stacked Percentage of Patients by Year and Stage\", \"$schema\": \"https://vega.github.io/schema/vega-lite/v5.20.1.json\", \"datasets\": {\"data-d65a62f2497e98ae8c689f57d7f44373\": [{\"ano\": 2008, \"primeiro_estadiamento\": 0.0, \"numero_pacientes\": 4556, \"percentage\": 3.8145952644093906}, {\"ano\": 2008, \"primeiro_estadiamento\": 1.0, \"numero_pacientes\": 23212, \"percentage\": 19.43467631199973}, {\"ano\": 2008, \"primeiro_estadiamento\": 2.0, \"numero_pacientes\": 46115, \"percentage\": 38.6106366589638}, {\"ano\": 2008, \"primeiro_estadiamento\": 3.0, \"numero_pacientes\": 32727, \"percentage\": 27.401286044408725}, {\"ano\": 2008, \"primeiro_estadiamento\": 4.0, \"numero_pacientes\": 12826, \"percentage\": 10.73880572021836}, {\"ano\": 2009, \"primeiro_estadiamento\": 0.0, \"numero_pacientes\": 4755, \"percentage\": 3.7812820573991464}, {\"ano\": 2009, \"primeiro_estadiamento\": 1.0, \"numero_pacientes\": 24910, \"percentage\": 19.808987602484272}, {\"ano\": 2009, \"primeiro_estadiamento\": 2.0, \"numero_pacientes\": 47662, \"percentage\": 37.90188547208372}, {\"ano\": 2009, \"primeiro_estadiamento\": 3.0, \"numero_pacientes\": 36430, \"percentage\": 28.969948549116904}, {\"ano\": 2009, \"primeiro_estadiamento\": 4.0, \"numero_pacientes\": 11994, \"percentage\": 9.537896318915953}, {\"ano\": 2010, \"primeiro_estadiamento\": 0.0, \"numero_pacientes\": 5046, \"percentage\": 3.798611842996733}, {\"ano\": 2010, \"primeiro_estadiamento\": 1.0, \"numero_pacientes\": 26817, \"percentage\": 20.18774748189524}, {\"ano\": 2010, \"primeiro_estadiamento\": 2.0, \"numero_pacientes\": 49217, \"percentage\": 37.050392207049185}, {\"ano\": 2010, \"primeiro_estadiamento\": 3.0, \"numero_pacientes\": 40052, \"percentage\": 30.15101100588687}, {\"ano\": 2010, \"primeiro_estadiamento\": 4.0, \"numero_pacientes\": 11706, \"percentage\": 8.81223746217197}, {\"ano\": 2011, \"primeiro_estadiamento\": 0.0, \"numero_pacientes\": 5230, \"percentage\": 3.7317160185515523}, {\"ano\": 2011, \"primeiro_estadiamento\": 1.0, \"numero_pacientes\": 29106, \"percentage\": 20.767748840528004}, {\"ano\": 2011, \"primeiro_estadiamento\": 2.0, \"numero_pacientes\": 51064, \"percentage\": 36.43524794862647}, {\"ano\": 2011, \"primeiro_estadiamento\": 3.0, \"numero_pacientes\": 43125, \"percentage\": 30.77060292543703}, {\"ano\": 2011, \"primeiro_estadiamento\": 4.0, \"numero_pacientes\": 11625, \"percentage\": 8.294684266856938}, {\"ano\": 2012, \"primeiro_estadiamento\": 0.0, \"numero_pacientes\": 5959, \"percentage\": 3.9567342168866695}, {\"ano\": 2012, \"primeiro_estadiamento\": 1.0, \"numero_pacientes\": 32043, \"percentage\": 21.27632732198348}, {\"ano\": 2012, \"primeiro_estadiamento\": 2.0, \"numero_pacientes\": 54223, \"percentage\": 36.00369180101458}, {\"ano\": 2012, \"primeiro_estadiamento\": 3.0, \"numero_pacientes\": 46231, \"percentage\": 30.6970598390481}, {\"ano\": 2012, \"primeiro_estadiamento\": 4.0, \"numero_pacientes\": 12148, \"percentage\": 8.06618682106717}, {\"ano\": 2013, \"primeiro_estadiamento\": 0.0, \"numero_pacientes\": 6436, \"percentage\": 4.016375028082175}, {\"ano\": 2013, \"primeiro_estadiamento\": 1.0, \"numero_pacientes\": 34597, \"percentage\": 21.590199945083747}, {\"ano\": 2013, \"primeiro_estadiamento\": 2.0, \"numero_pacientes\": 56779, \"percentage\": 35.43283991912334}, {\"ano\": 2013, \"primeiro_estadiamento\": 3.0, \"numero_pacientes\": 49709, \"percentage\": 31.020818252165448}, {\"ano\": 2013, \"primeiro_estadiamento\": 4.0, \"numero_pacientes\": 12723, \"percentage\": 7.939766855545294}, {\"ano\": 2014, \"primeiro_estadiamento\": 0.0, \"numero_pacientes\": 6166, \"percentage\": 3.613772893772894}, {\"ano\": 2014, \"primeiro_estadiamento\": 1.0, \"numero_pacientes\": 37036, \"percentage\": 21.706080586080585}, {\"ano\": 2014, \"primeiro_estadiamento\": 2.0, \"numero_pacientes\": 60197, \"percentage\": 35.280293040293046}, {\"ano\": 2014, \"primeiro_estadiamento\": 3.0, \"numero_pacientes\": 53364, \"percentage\": 31.275604395604397}, {\"ano\": 2014, \"primeiro_estadiamento\": 4.0, \"numero_pacientes\": 13862, \"percentage\": 8.124249084249085}, {\"ano\": 2015, \"primeiro_estadiamento\": 0.0, \"numero_pacientes\": 5982, \"percentage\": 3.4553467765692596}, {\"ano\": 2015, \"primeiro_estadiamento\": 1.0, \"numero_pacientes\": 37014, \"percentage\": 21.38017478902283}, {\"ano\": 2015, \"primeiro_estadiamento\": 2.0, \"numero_pacientes\": 60019, \"percentage\": 34.66841494197767}, {\"ano\": 2015, \"primeiro_estadiamento\": 3.0, \"numero_pacientes\": 55542, \"percentage\": 32.08239228756433}, {\"ano\": 2015, \"primeiro_estadiamento\": 4.0, \"numero_pacientes\": 14566, \"percentage\": 8.413671204865905}, {\"ano\": 2016, \"primeiro_estadiamento\": 0.0, \"numero_pacientes\": 6212, \"percentage\": 3.5197661044031077}, {\"ano\": 2016, \"primeiro_estadiamento\": 1.0, \"numero_pacientes\": 37478, \"percentage\": 21.235317781844763}, {\"ano\": 2016, \"primeiro_estadiamento\": 2.0, \"numero_pacientes\": 60379, \"percentage\": 34.2111972984152}, {\"ano\": 2016, \"primeiro_estadiamento\": 3.0, \"numero_pacientes\": 57128, \"percentage\": 32.369156151374874}, {\"ano\": 2016, \"primeiro_estadiamento\": 4.0, \"numero_pacientes\": 15292, \"percentage\": 8.664562663962059}, {\"ano\": 2017, \"primeiro_estadiamento\": 0.0, \"numero_pacientes\": 6680, \"percentage\": 3.5848449071589563}, {\"ano\": 2017, \"primeiro_estadiamento\": 1.0, \"numero_pacientes\": 39295, \"percentage\": 21.087796501019643}, {\"ano\": 2017, \"primeiro_estadiamento\": 2.0, \"numero_pacientes\": 63440, \"percentage\": 34.04529354942578}, {\"ano\": 2017, \"primeiro_estadiamento\": 3.0, \"numero_pacientes\": 60973, \"percentage\": 32.72136953955136}, {\"ano\": 2017, \"primeiro_estadiamento\": 4.0, \"numero_pacientes\": 15952, \"percentage\": 8.560695502844263}, {\"ano\": 2018, \"primeiro_estadiamento\": 0.0, \"numero_pacientes\": 6802, \"percentage\": 3.4792838874680307}, {\"ano\": 2018, \"primeiro_estadiamento\": 1.0, \"numero_pacientes\": 40906, \"percentage\": 20.923785166240407}, {\"ano\": 2018, \"primeiro_estadiamento\": 2.0, \"numero_pacientes\": 65775, \"percentage\": 33.644501278772374}, {\"ano\": 2018, \"primeiro_estadiamento\": 3.0, \"numero_pacientes\": 64753, \"percentage\": 33.12173913043478}, {\"ano\": 2018, \"primeiro_estadiamento\": 4.0, \"numero_pacientes\": 17264, \"percentage\": 8.830690537084399}, {\"ano\": 2019, \"primeiro_estadiamento\": 0.0, \"numero_pacientes\": 6966, \"percentage\": 3.383935294260523}, {\"ano\": 2019, \"primeiro_estadiamento\": 1.0, \"numero_pacientes\": 42539, \"percentage\": 20.6645454324646}, {\"ano\": 2019, \"primeiro_estadiamento\": 2.0, \"numero_pacientes\": 68810, \"percentage\": 33.42644094143936}, {\"ano\": 2019, \"primeiro_estadiamento\": 3.0, \"numero_pacientes\": 69063, \"percentage\": 33.549342984139315}, {\"ano\": 2019, \"primeiro_estadiamento\": 4.0, \"numero_pacientes\": 18477, \"percentage\": 8.975735347696194}, {\"ano\": 2020, \"primeiro_estadiamento\": 0.0, \"numero_pacientes\": 6979, \"percentage\": 3.3060161061108477}, {\"ano\": 2020, \"primeiro_estadiamento\": 1.0, \"numero_pacientes\": 42619, \"percentage\": 20.189009947891996}, {\"ano\": 2020, \"primeiro_estadiamento\": 2.0, \"numero_pacientes\": 70329, \"percentage\": 33.31549028896258}, {\"ano\": 2020, \"primeiro_estadiamento\": 3.0, \"numero_pacientes\": 71848, \"percentage\": 34.035054476551394}, {\"ano\": 2020, \"primeiro_estadiamento\": 4.0, \"numero_pacientes\": 19325, \"percentage\": 9.154429180483184}, {\"ano\": 2021, \"primeiro_estadiamento\": 0.0, \"numero_pacientes\": 7012, \"percentage\": 3.218905792377822}, {\"ano\": 2021, \"primeiro_estadiamento\": 1.0, \"numero_pacientes\": 42437, \"percentage\": 19.480990460801145}, {\"ano\": 2021, \"primeiro_estadiamento\": 2.0, \"numero_pacientes\": 71704, \"percentage\": 32.91620378446368}, {\"ano\": 2021, \"primeiro_estadiamento\": 3.0, \"numero_pacientes\": 75324, \"percentage\": 34.5779891478989}, {\"ano\": 2021, \"primeiro_estadiamento\": 4.0, \"numero_pacientes\": 21361, \"percentage\": 9.80591081445845}, {\"ano\": 2022, \"primeiro_estadiamento\": 0.0, \"numero_pacientes\": 6833, \"percentage\": 3.015831681901038}, {\"ano\": 2022, \"primeiro_estadiamento\": 1.0, \"numero_pacientes\": 43368, \"percentage\": 19.141019812773923}, {\"ano\": 2022, \"primeiro_estadiamento\": 2.0, \"numero_pacientes\": 73119, \"percentage\": 32.27200303657573}, {\"ano\": 2022, \"primeiro_estadiamento\": 3.0, \"numero_pacientes\": 78851, \"percentage\": 34.801894328930004}, {\"ano\": 2022, \"primeiro_estadiamento\": 4.0, \"numero_pacientes\": 24400, \"percentage\": 10.769251139819307}, {\"ano\": 2023, \"primeiro_estadiamento\": 0.0, \"numero_pacientes\": 7170, \"percentage\": 2.9808923552791313}, {\"ano\": 2023, \"primeiro_estadiamento\": 1.0, \"numero_pacientes\": 45781, \"percentage\": 19.033226348261355}, {\"ano\": 2023, \"primeiro_estadiamento\": 2.0, \"numero_pacientes\": 75696, \"percentage\": 31.470240965859013}, {\"ano\": 2023, \"primeiro_estadiamento\": 3.0, \"numero_pacientes\": 84277, \"percentage\": 35.03774965493157}, {\"ano\": 2023, \"primeiro_estadiamento\": 4.0, \"numero_pacientes\": 27608, \"percentage\": 11.477890675668935}, {\"ano\": 2024, \"primeiro_estadiamento\": 0.0, \"numero_pacientes\": 8302, \"percentage\": 3.214104584222161}, {\"ano\": 2024, \"primeiro_estadiamento\": 1.0, \"numero_pacientes\": 49457, \"percentage\": 19.14718988459111}, {\"ano\": 2024, \"primeiro_estadiamento\": 2.0, \"numero_pacientes\": 80128, \"percentage\": 31.02141316845981}, {\"ano\": 2024, \"primeiro_estadiamento\": 3.0, \"numero_pacientes\": 88466, \"percentage\": 34.24945508886987}, {\"ano\": 2024, \"primeiro_estadiamento\": 4.0, \"numero_pacientes\": 31946, \"percentage\": 12.367837273857042}, {\"ano\": 2025, \"primeiro_estadiamento\": 0.0, \"numero_pacientes\": 3992, \"percentage\": 2.41958457333002}, {\"ano\": 2025, \"primeiro_estadiamento\": 1.0, \"numero_pacientes\": 32472, \"percentage\": 19.681550667628358}, {\"ano\": 2025, \"primeiro_estadiamento\": 2.0, \"numero_pacientes\": 52947, \"percentage\": 32.09161933970555}, {\"ano\": 2025, \"primeiro_estadiamento\": 3.0, \"numero_pacientes\": 55522, \"percentage\": 33.652348366841025}, {\"ano\": 2025, \"primeiro_estadiamento\": 4.0, \"numero_pacientes\": 20054, \"percentage\": 12.154897052495045}]}}, {\"mode\": \"vega-lite\"});\n",
              "</script>"
            ],
            "text/plain": [
              "alt.Chart(...)"
            ]
          },
          "metadata": {},
          "execution_count": 22
        }
      ]
    },
    {
      "cell_type": "code",
      "source": [
        "# prompt: # prompt: Usando o DataFrame df crie uma tabela com o percentual de numero_pacientes por ano e estadiamento, coloque os valores percentuais em colunas, seguindo a sequencia 0, 1, 2 , 3 e 4. Cada ano deve ser uma linha.\n",
        "\n",
        "import pandas as pd\n",
        "# Pivot the table to have stages as columns and years as rows\n",
        "pivot_df = pd.pivot_table(grouped_data, values='percentage', index='ano', columns='primeiro_estadiamento', aggfunc='sum', fill_value=0)\n",
        "\n",
        "# Rename columns for clarity (optional)\n",
        "pivot_df = pivot_df.rename(columns={0: '0%', 1: '1%', 2: '2%', 3: '3%', 4: '4%'})\n",
        "\n",
        "# Display the resulting table\n",
        "pivot_df\n"
      ],
      "metadata": {
        "id": "_nN6rKkvZDNr",
        "outputId": "d144e7a3-81a1-4319-d671-d19f1cacdbe9",
        "colab": {
          "base_uri": "https://localhost:8080/",
          "height": 645
        }
      },
      "execution_count": 31,
      "outputs": [
        {
          "output_type": "execute_result",
          "data": {
            "text/plain": [
              "primeiro_estadiamento        0%         1%         2%         3%         4%\n",
              "ano                                                                        \n",
              "2008                   3.814595  19.434676  38.610637  27.401286  10.738806\n",
              "2009                   3.781282  19.808988  37.901885  28.969949   9.537896\n",
              "2010                   3.798612  20.187747  37.050392  30.151011   8.812237\n",
              "2011                   3.731716  20.767749  36.435248  30.770603   8.294684\n",
              "2012                   3.956734  21.276327  36.003692  30.697060   8.066187\n",
              "2013                   4.016375  21.590200  35.432840  31.020818   7.939767\n",
              "2014                   3.613773  21.706081  35.280293  31.275604   8.124249\n",
              "2015                   3.455347  21.380175  34.668415  32.082392   8.413671\n",
              "2016                   3.519766  21.235318  34.211197  32.369156   8.664563\n",
              "2017                   3.584845  21.087797  34.045294  32.721370   8.560696\n",
              "2018                   3.479284  20.923785  33.644501  33.121739   8.830691\n",
              "2019                   3.383935  20.664545  33.426441  33.549343   8.975735\n",
              "2020                   3.306016  20.189010  33.315490  34.035054   9.154429\n",
              "2021                   3.218906  19.480990  32.916204  34.577989   9.805911\n",
              "2022                   3.015832  19.141020  32.272003  34.801894  10.769251\n",
              "2023                   2.980892  19.033226  31.470241  35.037750  11.477891\n",
              "2024                   3.214105  19.147190  31.021413  34.249455  12.367837\n",
              "2025                   2.419585  19.681551  32.091619  33.652348  12.154897"
            ],
            "text/html": [
              "\n",
              "  <div id=\"df-b42d42fe-c912-4af1-ace0-1aa7f7d423ab\" class=\"colab-df-container\">\n",
              "    <div>\n",
              "<style scoped>\n",
              "    .dataframe tbody tr th:only-of-type {\n",
              "        vertical-align: middle;\n",
              "    }\n",
              "\n",
              "    .dataframe tbody tr th {\n",
              "        vertical-align: top;\n",
              "    }\n",
              "\n",
              "    .dataframe thead th {\n",
              "        text-align: right;\n",
              "    }\n",
              "</style>\n",
              "<table border=\"1\" class=\"dataframe\">\n",
              "  <thead>\n",
              "    <tr style=\"text-align: right;\">\n",
              "      <th>primeiro_estadiamento</th>\n",
              "      <th>0%</th>\n",
              "      <th>1%</th>\n",
              "      <th>2%</th>\n",
              "      <th>3%</th>\n",
              "      <th>4%</th>\n",
              "    </tr>\n",
              "    <tr>\n",
              "      <th>ano</th>\n",
              "      <th></th>\n",
              "      <th></th>\n",
              "      <th></th>\n",
              "      <th></th>\n",
              "      <th></th>\n",
              "    </tr>\n",
              "  </thead>\n",
              "  <tbody>\n",
              "    <tr>\n",
              "      <th>2008</th>\n",
              "      <td>3.814595</td>\n",
              "      <td>19.434676</td>\n",
              "      <td>38.610637</td>\n",
              "      <td>27.401286</td>\n",
              "      <td>10.738806</td>\n",
              "    </tr>\n",
              "    <tr>\n",
              "      <th>2009</th>\n",
              "      <td>3.781282</td>\n",
              "      <td>19.808988</td>\n",
              "      <td>37.901885</td>\n",
              "      <td>28.969949</td>\n",
              "      <td>9.537896</td>\n",
              "    </tr>\n",
              "    <tr>\n",
              "      <th>2010</th>\n",
              "      <td>3.798612</td>\n",
              "      <td>20.187747</td>\n",
              "      <td>37.050392</td>\n",
              "      <td>30.151011</td>\n",
              "      <td>8.812237</td>\n",
              "    </tr>\n",
              "    <tr>\n",
              "      <th>2011</th>\n",
              "      <td>3.731716</td>\n",
              "      <td>20.767749</td>\n",
              "      <td>36.435248</td>\n",
              "      <td>30.770603</td>\n",
              "      <td>8.294684</td>\n",
              "    </tr>\n",
              "    <tr>\n",
              "      <th>2012</th>\n",
              "      <td>3.956734</td>\n",
              "      <td>21.276327</td>\n",
              "      <td>36.003692</td>\n",
              "      <td>30.697060</td>\n",
              "      <td>8.066187</td>\n",
              "    </tr>\n",
              "    <tr>\n",
              "      <th>2013</th>\n",
              "      <td>4.016375</td>\n",
              "      <td>21.590200</td>\n",
              "      <td>35.432840</td>\n",
              "      <td>31.020818</td>\n",
              "      <td>7.939767</td>\n",
              "    </tr>\n",
              "    <tr>\n",
              "      <th>2014</th>\n",
              "      <td>3.613773</td>\n",
              "      <td>21.706081</td>\n",
              "      <td>35.280293</td>\n",
              "      <td>31.275604</td>\n",
              "      <td>8.124249</td>\n",
              "    </tr>\n",
              "    <tr>\n",
              "      <th>2015</th>\n",
              "      <td>3.455347</td>\n",
              "      <td>21.380175</td>\n",
              "      <td>34.668415</td>\n",
              "      <td>32.082392</td>\n",
              "      <td>8.413671</td>\n",
              "    </tr>\n",
              "    <tr>\n",
              "      <th>2016</th>\n",
              "      <td>3.519766</td>\n",
              "      <td>21.235318</td>\n",
              "      <td>34.211197</td>\n",
              "      <td>32.369156</td>\n",
              "      <td>8.664563</td>\n",
              "    </tr>\n",
              "    <tr>\n",
              "      <th>2017</th>\n",
              "      <td>3.584845</td>\n",
              "      <td>21.087797</td>\n",
              "      <td>34.045294</td>\n",
              "      <td>32.721370</td>\n",
              "      <td>8.560696</td>\n",
              "    </tr>\n",
              "    <tr>\n",
              "      <th>2018</th>\n",
              "      <td>3.479284</td>\n",
              "      <td>20.923785</td>\n",
              "      <td>33.644501</td>\n",
              "      <td>33.121739</td>\n",
              "      <td>8.830691</td>\n",
              "    </tr>\n",
              "    <tr>\n",
              "      <th>2019</th>\n",
              "      <td>3.383935</td>\n",
              "      <td>20.664545</td>\n",
              "      <td>33.426441</td>\n",
              "      <td>33.549343</td>\n",
              "      <td>8.975735</td>\n",
              "    </tr>\n",
              "    <tr>\n",
              "      <th>2020</th>\n",
              "      <td>3.306016</td>\n",
              "      <td>20.189010</td>\n",
              "      <td>33.315490</td>\n",
              "      <td>34.035054</td>\n",
              "      <td>9.154429</td>\n",
              "    </tr>\n",
              "    <tr>\n",
              "      <th>2021</th>\n",
              "      <td>3.218906</td>\n",
              "      <td>19.480990</td>\n",
              "      <td>32.916204</td>\n",
              "      <td>34.577989</td>\n",
              "      <td>9.805911</td>\n",
              "    </tr>\n",
              "    <tr>\n",
              "      <th>2022</th>\n",
              "      <td>3.015832</td>\n",
              "      <td>19.141020</td>\n",
              "      <td>32.272003</td>\n",
              "      <td>34.801894</td>\n",
              "      <td>10.769251</td>\n",
              "    </tr>\n",
              "    <tr>\n",
              "      <th>2023</th>\n",
              "      <td>2.980892</td>\n",
              "      <td>19.033226</td>\n",
              "      <td>31.470241</td>\n",
              "      <td>35.037750</td>\n",
              "      <td>11.477891</td>\n",
              "    </tr>\n",
              "    <tr>\n",
              "      <th>2024</th>\n",
              "      <td>3.214105</td>\n",
              "      <td>19.147190</td>\n",
              "      <td>31.021413</td>\n",
              "      <td>34.249455</td>\n",
              "      <td>12.367837</td>\n",
              "    </tr>\n",
              "    <tr>\n",
              "      <th>2025</th>\n",
              "      <td>2.419585</td>\n",
              "      <td>19.681551</td>\n",
              "      <td>32.091619</td>\n",
              "      <td>33.652348</td>\n",
              "      <td>12.154897</td>\n",
              "    </tr>\n",
              "  </tbody>\n",
              "</table>\n",
              "</div>\n",
              "    <div class=\"colab-df-buttons\">\n",
              "\n",
              "  <div class=\"colab-df-container\">\n",
              "    <button class=\"colab-df-convert\" onclick=\"convertToInteractive('df-b42d42fe-c912-4af1-ace0-1aa7f7d423ab')\"\n",
              "            title=\"Convert this dataframe to an interactive table.\"\n",
              "            style=\"display:none;\">\n",
              "\n",
              "  <svg xmlns=\"http://www.w3.org/2000/svg\" height=\"24px\" viewBox=\"0 -960 960 960\">\n",
              "    <path d=\"M120-120v-720h720v720H120Zm60-500h600v-160H180v160Zm220 220h160v-160H400v160Zm0 220h160v-160H400v160ZM180-400h160v-160H180v160Zm440 0h160v-160H620v160ZM180-180h160v-160H180v160Zm440 0h160v-160H620v160Z\"/>\n",
              "  </svg>\n",
              "    </button>\n",
              "\n",
              "  <style>\n",
              "    .colab-df-container {\n",
              "      display:flex;\n",
              "      gap: 12px;\n",
              "    }\n",
              "\n",
              "    .colab-df-convert {\n",
              "      background-color: #E8F0FE;\n",
              "      border: none;\n",
              "      border-radius: 50%;\n",
              "      cursor: pointer;\n",
              "      display: none;\n",
              "      fill: #1967D2;\n",
              "      height: 32px;\n",
              "      padding: 0 0 0 0;\n",
              "      width: 32px;\n",
              "    }\n",
              "\n",
              "    .colab-df-convert:hover {\n",
              "      background-color: #E2EBFA;\n",
              "      box-shadow: 0px 1px 2px rgba(60, 64, 67, 0.3), 0px 1px 3px 1px rgba(60, 64, 67, 0.15);\n",
              "      fill: #174EA6;\n",
              "    }\n",
              "\n",
              "    .colab-df-buttons div {\n",
              "      margin-bottom: 4px;\n",
              "    }\n",
              "\n",
              "    [theme=dark] .colab-df-convert {\n",
              "      background-color: #3B4455;\n",
              "      fill: #D2E3FC;\n",
              "    }\n",
              "\n",
              "    [theme=dark] .colab-df-convert:hover {\n",
              "      background-color: #434B5C;\n",
              "      box-shadow: 0px 1px 3px 1px rgba(0, 0, 0, 0.15);\n",
              "      filter: drop-shadow(0px 1px 2px rgba(0, 0, 0, 0.3));\n",
              "      fill: #FFFFFF;\n",
              "    }\n",
              "  </style>\n",
              "\n",
              "    <script>\n",
              "      const buttonEl =\n",
              "        document.querySelector('#df-b42d42fe-c912-4af1-ace0-1aa7f7d423ab button.colab-df-convert');\n",
              "      buttonEl.style.display =\n",
              "        google.colab.kernel.accessAllowed ? 'block' : 'none';\n",
              "\n",
              "      async function convertToInteractive(key) {\n",
              "        const element = document.querySelector('#df-b42d42fe-c912-4af1-ace0-1aa7f7d423ab');\n",
              "        const dataTable =\n",
              "          await google.colab.kernel.invokeFunction('convertToInteractive',\n",
              "                                                    [key], {});\n",
              "        if (!dataTable) return;\n",
              "\n",
              "        const docLinkHtml = 'Like what you see? Visit the ' +\n",
              "          '<a target=\"_blank\" href=https://colab.research.google.com/notebooks/data_table.ipynb>data table notebook</a>'\n",
              "          + ' to learn more about interactive tables.';\n",
              "        element.innerHTML = '';\n",
              "        dataTable['output_type'] = 'display_data';\n",
              "        await google.colab.output.renderOutput(dataTable, element);\n",
              "        const docLink = document.createElement('div');\n",
              "        docLink.innerHTML = docLinkHtml;\n",
              "        element.appendChild(docLink);\n",
              "      }\n",
              "    </script>\n",
              "  </div>\n",
              "\n",
              "\n",
              "    <div id=\"df-12c5485a-1af7-40fa-82c6-72bdaa7fbda6\">\n",
              "      <button class=\"colab-df-quickchart\" onclick=\"quickchart('df-12c5485a-1af7-40fa-82c6-72bdaa7fbda6')\"\n",
              "                title=\"Suggest charts\"\n",
              "                style=\"display:none;\">\n",
              "\n",
              "<svg xmlns=\"http://www.w3.org/2000/svg\" height=\"24px\"viewBox=\"0 0 24 24\"\n",
              "     width=\"24px\">\n",
              "    <g>\n",
              "        <path d=\"M19 3H5c-1.1 0-2 .9-2 2v14c0 1.1.9 2 2 2h14c1.1 0 2-.9 2-2V5c0-1.1-.9-2-2-2zM9 17H7v-7h2v7zm4 0h-2V7h2v10zm4 0h-2v-4h2v4z\"/>\n",
              "    </g>\n",
              "</svg>\n",
              "      </button>\n",
              "\n",
              "<style>\n",
              "  .colab-df-quickchart {\n",
              "      --bg-color: #E8F0FE;\n",
              "      --fill-color: #1967D2;\n",
              "      --hover-bg-color: #E2EBFA;\n",
              "      --hover-fill-color: #174EA6;\n",
              "      --disabled-fill-color: #AAA;\n",
              "      --disabled-bg-color: #DDD;\n",
              "  }\n",
              "\n",
              "  [theme=dark] .colab-df-quickchart {\n",
              "      --bg-color: #3B4455;\n",
              "      --fill-color: #D2E3FC;\n",
              "      --hover-bg-color: #434B5C;\n",
              "      --hover-fill-color: #FFFFFF;\n",
              "      --disabled-bg-color: #3B4455;\n",
              "      --disabled-fill-color: #666;\n",
              "  }\n",
              "\n",
              "  .colab-df-quickchart {\n",
              "    background-color: var(--bg-color);\n",
              "    border: none;\n",
              "    border-radius: 50%;\n",
              "    cursor: pointer;\n",
              "    display: none;\n",
              "    fill: var(--fill-color);\n",
              "    height: 32px;\n",
              "    padding: 0;\n",
              "    width: 32px;\n",
              "  }\n",
              "\n",
              "  .colab-df-quickchart:hover {\n",
              "    background-color: var(--hover-bg-color);\n",
              "    box-shadow: 0 1px 2px rgba(60, 64, 67, 0.3), 0 1px 3px 1px rgba(60, 64, 67, 0.15);\n",
              "    fill: var(--button-hover-fill-color);\n",
              "  }\n",
              "\n",
              "  .colab-df-quickchart-complete:disabled,\n",
              "  .colab-df-quickchart-complete:disabled:hover {\n",
              "    background-color: var(--disabled-bg-color);\n",
              "    fill: var(--disabled-fill-color);\n",
              "    box-shadow: none;\n",
              "  }\n",
              "\n",
              "  .colab-df-spinner {\n",
              "    border: 2px solid var(--fill-color);\n",
              "    border-color: transparent;\n",
              "    border-bottom-color: var(--fill-color);\n",
              "    animation:\n",
              "      spin 1s steps(1) infinite;\n",
              "  }\n",
              "\n",
              "  @keyframes spin {\n",
              "    0% {\n",
              "      border-color: transparent;\n",
              "      border-bottom-color: var(--fill-color);\n",
              "      border-left-color: var(--fill-color);\n",
              "    }\n",
              "    20% {\n",
              "      border-color: transparent;\n",
              "      border-left-color: var(--fill-color);\n",
              "      border-top-color: var(--fill-color);\n",
              "    }\n",
              "    30% {\n",
              "      border-color: transparent;\n",
              "      border-left-color: var(--fill-color);\n",
              "      border-top-color: var(--fill-color);\n",
              "      border-right-color: var(--fill-color);\n",
              "    }\n",
              "    40% {\n",
              "      border-color: transparent;\n",
              "      border-right-color: var(--fill-color);\n",
              "      border-top-color: var(--fill-color);\n",
              "    }\n",
              "    60% {\n",
              "      border-color: transparent;\n",
              "      border-right-color: var(--fill-color);\n",
              "    }\n",
              "    80% {\n",
              "      border-color: transparent;\n",
              "      border-right-color: var(--fill-color);\n",
              "      border-bottom-color: var(--fill-color);\n",
              "    }\n",
              "    90% {\n",
              "      border-color: transparent;\n",
              "      border-bottom-color: var(--fill-color);\n",
              "    }\n",
              "  }\n",
              "</style>\n",
              "\n",
              "      <script>\n",
              "        async function quickchart(key) {\n",
              "          const quickchartButtonEl =\n",
              "            document.querySelector('#' + key + ' button');\n",
              "          quickchartButtonEl.disabled = true;  // To prevent multiple clicks.\n",
              "          quickchartButtonEl.classList.add('colab-df-spinner');\n",
              "          try {\n",
              "            const charts = await google.colab.kernel.invokeFunction(\n",
              "                'suggestCharts', [key], {});\n",
              "          } catch (error) {\n",
              "            console.error('Error during call to suggestCharts:', error);\n",
              "          }\n",
              "          quickchartButtonEl.classList.remove('colab-df-spinner');\n",
              "          quickchartButtonEl.classList.add('colab-df-quickchart-complete');\n",
              "        }\n",
              "        (() => {\n",
              "          let quickchartButtonEl =\n",
              "            document.querySelector('#df-12c5485a-1af7-40fa-82c6-72bdaa7fbda6 button');\n",
              "          quickchartButtonEl.style.display =\n",
              "            google.colab.kernel.accessAllowed ? 'block' : 'none';\n",
              "        })();\n",
              "      </script>\n",
              "    </div>\n",
              "\n",
              "  <div id=\"id_8467ad6a-1890-4090-a86f-2d879cf2b2d8\">\n",
              "    <style>\n",
              "      .colab-df-generate {\n",
              "        background-color: #E8F0FE;\n",
              "        border: none;\n",
              "        border-radius: 50%;\n",
              "        cursor: pointer;\n",
              "        display: none;\n",
              "        fill: #1967D2;\n",
              "        height: 32px;\n",
              "        padding: 0 0 0 0;\n",
              "        width: 32px;\n",
              "      }\n",
              "\n",
              "      .colab-df-generate:hover {\n",
              "        background-color: #E2EBFA;\n",
              "        box-shadow: 0px 1px 2px rgba(60, 64, 67, 0.3), 0px 1px 3px 1px rgba(60, 64, 67, 0.15);\n",
              "        fill: #174EA6;\n",
              "      }\n",
              "\n",
              "      [theme=dark] .colab-df-generate {\n",
              "        background-color: #3B4455;\n",
              "        fill: #D2E3FC;\n",
              "      }\n",
              "\n",
              "      [theme=dark] .colab-df-generate:hover {\n",
              "        background-color: #434B5C;\n",
              "        box-shadow: 0px 1px 3px 1px rgba(0, 0, 0, 0.15);\n",
              "        filter: drop-shadow(0px 1px 2px rgba(0, 0, 0, 0.3));\n",
              "        fill: #FFFFFF;\n",
              "      }\n",
              "    </style>\n",
              "    <button class=\"colab-df-generate\" onclick=\"generateWithVariable('pivot_df')\"\n",
              "            title=\"Generate code using this dataframe.\"\n",
              "            style=\"display:none;\">\n",
              "\n",
              "  <svg xmlns=\"http://www.w3.org/2000/svg\" height=\"24px\"viewBox=\"0 0 24 24\"\n",
              "       width=\"24px\">\n",
              "    <path d=\"M7,19H8.4L18.45,9,17,7.55,7,17.6ZM5,21V16.75L18.45,3.32a2,2,0,0,1,2.83,0l1.4,1.43a1.91,1.91,0,0,1,.58,1.4,1.91,1.91,0,0,1-.58,1.4L9.25,21ZM18.45,9,17,7.55Zm-12,3A5.31,5.31,0,0,0,4.9,8.1,5.31,5.31,0,0,0,1,6.5,5.31,5.31,0,0,0,4.9,4.9,5.31,5.31,0,0,0,6.5,1,5.31,5.31,0,0,0,8.1,4.9,5.31,5.31,0,0,0,12,6.5,5.46,5.46,0,0,0,6.5,12Z\"/>\n",
              "  </svg>\n",
              "    </button>\n",
              "    <script>\n",
              "      (() => {\n",
              "      const buttonEl =\n",
              "        document.querySelector('#id_8467ad6a-1890-4090-a86f-2d879cf2b2d8 button.colab-df-generate');\n",
              "      buttonEl.style.display =\n",
              "        google.colab.kernel.accessAllowed ? 'block' : 'none';\n",
              "\n",
              "      buttonEl.onclick = () => {\n",
              "        google.colab.notebook.generateWithVariable('pivot_df');\n",
              "      }\n",
              "      })();\n",
              "    </script>\n",
              "  </div>\n",
              "\n",
              "    </div>\n",
              "  </div>\n"
            ],
            "application/vnd.google.colaboratory.intrinsic+json": {
              "type": "dataframe",
              "variable_name": "pivot_df",
              "summary": "{\n  \"name\": \"pivot_df\",\n  \"rows\": 18,\n  \"fields\": [\n    {\n      \"column\": \"ano\",\n      \"properties\": {\n        \"dtype\": \"int32\",\n        \"num_unique_values\": 18,\n        \"samples\": [\n          2008,\n          2009,\n          2016\n        ],\n        \"semantic_type\": \"\",\n        \"description\": \"\"\n      }\n    },\n    {\n      \"column\": \"0%\",\n      \"properties\": {\n        \"dtype\": \"number\",\n        \"std\": 0.3966267855712509,\n        \"min\": 2.41958457333002,\n        \"max\": 4.016375028082175,\n        \"num_unique_values\": 18,\n        \"samples\": [\n          3.8145952644093906,\n          3.7812820573991464,\n          3.5197661044031077\n        ],\n        \"semantic_type\": \"\",\n        \"description\": \"\"\n      }\n    },\n    {\n      \"column\": \"1%\",\n      \"properties\": {\n        \"dtype\": \"number\",\n        \"std\": 0.915348315174003,\n        \"min\": 19.033226348261355,\n        \"max\": 21.706080586080585,\n        \"num_unique_values\": 18,\n        \"samples\": [\n          19.43467631199973,\n          19.808987602484272,\n          21.235317781844763\n        ],\n        \"semantic_type\": \"\",\n        \"description\": \"\"\n      }\n    },\n    {\n      \"column\": \"2%\",\n      \"properties\": {\n        \"dtype\": \"number\",\n        \"std\": 2.176591651043988,\n        \"min\": 31.02141316845981,\n        \"max\": 38.6106366589638,\n        \"num_unique_values\": 18,\n        \"samples\": [\n          38.6106366589638,\n          37.90188547208372,\n          34.2111972984152\n        ],\n        \"semantic_type\": \"\",\n        \"description\": \"\"\n      }\n    },\n    {\n      \"column\": \"3%\",\n      \"properties\": {\n        \"dtype\": \"number\",\n        \"std\": 2.1324088614147803,\n        \"min\": 27.401286044408725,\n        \"max\": 35.03774965493157,\n        \"num_unique_values\": 18,\n        \"samples\": [\n          27.401286044408725,\n          28.969948549116904,\n          32.369156151374874\n        ],\n        \"semantic_type\": \"\",\n        \"description\": \"\"\n      }\n    },\n    {\n      \"column\": \"4%\",\n      \"properties\": {\n        \"dtype\": \"number\",\n        \"std\": 1.4210924671341,\n        \"min\": 7.939766855545294,\n        \"max\": 12.367837273857042,\n        \"num_unique_values\": 18,\n        \"samples\": [\n          10.73880572021836,\n          9.537896318915953,\n          8.664562663962059\n        ],\n        \"semantic_type\": \"\",\n        \"description\": \"\"\n      }\n    }\n  ]\n}"
            }
          },
          "metadata": {},
          "execution_count": 31
        }
      ]
    },
    {
      "cell_type": "code",
      "source": [
        "spark.sql(f\"\"\"\n",
        "  SELECT\n",
        "      COUNT(DISTINCT(paciente)) AS numero_pacientes, count(1)\n",
        "  FROM cancer_mama.pacientes AS c\n",
        "  where data_primeiro_estadiamento = '202501'\n",
        "\"\"\").show()"
      ],
      "metadata": {
        "id": "FZLwzdhhG7fY",
        "outputId": "cf1a52fe-dca7-4239-f31d-651af8c73fad",
        "colab": {
          "base_uri": "https://localhost:8080/"
        }
      },
      "execution_count": 24,
      "outputs": [
        {
          "output_type": "stream",
          "name": "stdout",
          "text": [
            "+----------------+--------+\n",
            "|numero_pacientes|count(1)|\n",
            "+----------------+--------+\n",
            "|            4076|    4076|\n",
            "+----------------+--------+\n",
            "\n"
          ]
        }
      ]
    },
    {
      "cell_type": "code",
      "source": [
        "spark.sql(f\"\"\"\n",
        "  SELECT\n",
        "      COUNT(DISTINCT(paciente)) AS numero_pacientes, count(1)\n",
        "  FROM cancer_mama.procedimentos AS c\n",
        "  where data = '202501'\n",
        "\"\"\").show()"
      ],
      "metadata": {
        "id": "jpjpKtRzDoaB",
        "outputId": "db090921-5f85-40b2-871f-ffef65d84fc1",
        "colab": {
          "base_uri": "https://localhost:8080/"
        }
      },
      "execution_count": 25,
      "outputs": [
        {
          "output_type": "stream",
          "name": "stdout",
          "text": [
            "+----------------+--------+\n",
            "|numero_pacientes|count(1)|\n",
            "+----------------+--------+\n",
            "|          154351|  166837|\n",
            "+----------------+--------+\n",
            "\n"
          ]
        }
      ]
    },
    {
      "cell_type": "code",
      "source": [
        "spark.sql(f\"\"\"\n",
        "    SELECT\n",
        "        COUNT(DISTINCT(paciente)) AS numero_pacientes\n",
        "    FROM\n",
        "        cancer_mama.procedimentos_e_pacientes\n",
        "    where data = '202501'\n",
        "\n",
        "\"\"\").show()"
      ],
      "metadata": {
        "id": "QGxIaJlabKTt",
        "outputId": "41c21fb3-4a77-4d95-8b9e-fdf7619a3ceb",
        "colab": {
          "base_uri": "https://localhost:8080/"
        }
      },
      "execution_count": 26,
      "outputs": [
        {
          "output_type": "stream",
          "name": "stdout",
          "text": [
            "+----------------+\n",
            "|numero_pacientes|\n",
            "+----------------+\n",
            "|          154351|\n",
            "+----------------+\n",
            "\n"
          ]
        }
      ]
    },
    {
      "cell_type": "code",
      "source": [
        "\n",
        "spark.sql(f\"\"\"\n",
        "  SELECT\n",
        "      COUNT(DISTINCT(c.paciente)) AS numero_pacientes, count(1)\n",
        "  FROM cancer_mama.procedimentos AS c\n",
        "  LEFT JOIN cancer_mama.pacientes AS p\n",
        "  ON c.paciente = p.paciente\n",
        "  where data = '202501'\n",
        "\"\"\").show()"
      ],
      "metadata": {
        "id": "ymskWRxHD7Th",
        "outputId": "18a44789-e0cc-4084-a42c-01ce2ce230c2",
        "colab": {
          "base_uri": "https://localhost:8080/"
        }
      },
      "execution_count": 27,
      "outputs": [
        {
          "output_type": "stream",
          "name": "stdout",
          "text": [
            "+----------------+--------+\n",
            "|numero_pacientes|count(1)|\n",
            "+----------------+--------+\n",
            "|          154351|  166837|\n",
            "+----------------+--------+\n",
            "\n"
          ]
        }
      ]
    },
    {
      "cell_type": "code",
      "source": [
        "spark.sql(f\"\"\"\n",
        "  SELECT\n",
        "      COUNT(DISTINCT(c.paciente)) AS numero_pacientes, count(1)\n",
        "  FROM cancer_mama.procedimentos AS c\n",
        "  full outer JOIN cancer_mama.pacientes AS p\n",
        "  ON c.paciente = p.paciente\n",
        "  where data = '202501'\n",
        "\"\"\").show()"
      ],
      "metadata": {
        "id": "upQmUMrtE99h",
        "outputId": "784bd6f6-b0b9-432b-d1e3-a36166f7c4fe",
        "colab": {
          "base_uri": "https://localhost:8080/"
        }
      },
      "execution_count": 28,
      "outputs": [
        {
          "output_type": "stream",
          "name": "stdout",
          "text": [
            "+----------------+--------+\n",
            "|numero_pacientes|count(1)|\n",
            "+----------------+--------+\n",
            "|          154351|  166837|\n",
            "+----------------+--------+\n",
            "\n"
          ]
        }
      ]
    },
    {
      "cell_type": "code",
      "source": [
        "spark.sql(f\"\"\"\n",
        "    SELECT\n",
        "        SUM(numero_pacientes) AS numero_pacientes\n",
        "    FROM\n",
        "        cancer_mama.dados_estados_mensal\n",
        "    where data = '202501'\n",
        "\n",
        "\"\"\").show()"
      ],
      "metadata": {
        "id": "8eaaGyxr7I4n",
        "outputId": "912c7579-ccc2-433a-bd07-36a89233e3a0",
        "colab": {
          "base_uri": "https://localhost:8080/"
        }
      },
      "execution_count": 32,
      "outputs": [
        {
          "output_type": "stream",
          "name": "stdout",
          "text": [
            "+----------------+\n",
            "|numero_pacientes|\n",
            "+----------------+\n",
            "|          154871|\n",
            "+----------------+\n",
            "\n"
          ]
        }
      ]
    },
    {
      "cell_type": "code",
      "source": [
        "spark.sql(f\"\"\"\n",
        "    SELECT\n",
        "        count(distinct(pp.paciente)) AS numero_pacientes, cadastro_cidades.nome_uf\n",
        "    FROM\n",
        "        cancer_mama.procedimentos_e_pacientes pp\n",
        "    LEFT JOIN ibge_silver.cadastro_municipios AS cadastro_cidades\n",
        "    ON int(pp.municipio) = int(cadastro_cidades.id / 10)\n",
        "    where data = '202501'\n",
        "    group by nome_uf\n",
        "    order by 1\n",
        "\n",
        "\"\"\").show()"
      ],
      "metadata": {
        "id": "4bforto-M45n",
        "outputId": "5b558f36-6ecf-4662-ec03-fb71cef6fff1",
        "colab": {
          "base_uri": "https://localhost:8080/"
        }
      },
      "execution_count": 33,
      "outputs": [
        {
          "output_type": "stream",
          "name": "stdout",
          "text": [
            "+----------------+-------------------+\n",
            "|numero_pacientes|            nome_uf|\n",
            "+----------------+-------------------+\n",
            "|               5|               NULL|\n",
            "|              26|              Amapá|\n",
            "|             297|            Roraima|\n",
            "|             425|               Acre|\n",
            "|            1105|          Tocantins|\n",
            "|            1370|        Mato Grosso|\n",
            "|            1403|           Rondônia|\n",
            "|            1608|            Paraíba|\n",
            "|            1615|            Sergipe|\n",
            "|            1649|              Goiás|\n",
            "|            1826|           Amazonas|\n",
            "|            2003|   Distrito Federal|\n",
            "|            2268|               Pará|\n",
            "|            2380|              Piauí|\n",
            "|            2499|            Alagoas|\n",
            "|            2504| Mato Grosso do Sul|\n",
            "|            3345|           Maranhão|\n",
            "|            3450|Rio Grande do Norte|\n",
            "|            4087|     Espírito Santo|\n",
            "|            4912|         Pernambuco|\n",
            "+----------------+-------------------+\n",
            "only showing top 20 rows\n",
            "\n"
          ]
        }
      ]
    },
    {
      "cell_type": "code",
      "source": [
        "spark.sql(f\"\"\"\n",
        "    SELECT\n",
        "        SUM(numero_pacientes) AS numero_pacientes, estado\n",
        "    FROM\n",
        "        cancer_mama.dados_estados_mensal\n",
        "    where data = '202501'\n",
        "    group by estado\n",
        "    order by 1\n",
        "\n",
        "\"\"\").show()"
      ],
      "metadata": {
        "id": "cCXRGlgCM02b",
        "outputId": "b71aaf9b-b7a8-4d34-bcd8-5f1a2738197c",
        "colab": {
          "base_uri": "https://localhost:8080/"
        }
      },
      "execution_count": 36,
      "outputs": [
        {
          "output_type": "stream",
          "name": "stdout",
          "text": [
            "+----------------+-------------------+\n",
            "|numero_pacientes|             estado|\n",
            "+----------------+-------------------+\n",
            "|               5|               NULL|\n",
            "|              26|              Amapá|\n",
            "|             297|            Roraima|\n",
            "|             425|               Acre|\n",
            "|            1106|          Tocantins|\n",
            "|            1370|        Mato Grosso|\n",
            "|            1403|           Rondônia|\n",
            "|            1608|            Paraíba|\n",
            "|            1618|            Sergipe|\n",
            "|            1653|              Goiás|\n",
            "|            1826|           Amazonas|\n",
            "|            2003|   Distrito Federal|\n",
            "|            2296|               Pará|\n",
            "|            2397|              Piauí|\n",
            "|            2500|            Alagoas|\n",
            "|            2505| Mato Grosso do Sul|\n",
            "|            3355|           Maranhão|\n",
            "|            3501|Rio Grande do Norte|\n",
            "|            4089|     Espírito Santo|\n",
            "|            4912|         Pernambuco|\n",
            "+----------------+-------------------+\n",
            "only showing top 20 rows\n",
            "\n"
          ]
        }
      ]
    },
    {
      "cell_type": "code",
      "source": [
        "spark.sql(f\"\"\"\n",
        "    SELECT\n",
        "        SUM(numero_pacientes) AS numero_pacientes, cadastro_cidades.nome_uf as estado\n",
        "    FROM\n",
        "        cancer_mama.dados_municipios_mensal mm\n",
        "        LEFT JOIN ibge_silver.cadastro_municipios AS cadastro_cidades\n",
        "        ON int(mm.municipio) = int(cadastro_cidades.id / 10)\n",
        "    where data = '202501'\n",
        "    group by estado\n",
        "    order by 1\n",
        "\n",
        "\"\"\").show()"
      ],
      "metadata": {
        "id": "GhJ0FOJxQS-t",
        "outputId": "f8e4112e-1907-4479-8489-96026a9e9011",
        "colab": {
          "base_uri": "https://localhost:8080/"
        }
      },
      "execution_count": 37,
      "outputs": [
        {
          "output_type": "stream",
          "name": "stdout",
          "text": [
            "+----------------+-------------------+\n",
            "|numero_pacientes|             estado|\n",
            "+----------------+-------------------+\n",
            "|               5|               NULL|\n",
            "|              26|              Amapá|\n",
            "|             297|            Roraima|\n",
            "|             425|               Acre|\n",
            "|            1106|          Tocantins|\n",
            "|            1370|        Mato Grosso|\n",
            "|            1403|           Rondônia|\n",
            "|            1608|            Paraíba|\n",
            "|            1618|            Sergipe|\n",
            "|            1653|              Goiás|\n",
            "|            1826|           Amazonas|\n",
            "|            2003|   Distrito Federal|\n",
            "|            2296|               Pará|\n",
            "|            2397|              Piauí|\n",
            "|            2500|            Alagoas|\n",
            "|            2505| Mato Grosso do Sul|\n",
            "|            3355|           Maranhão|\n",
            "|            3501|Rio Grande do Norte|\n",
            "|            4089|     Espírito Santo|\n",
            "|            4912|         Pernambuco|\n",
            "+----------------+-------------------+\n",
            "only showing top 20 rows\n",
            "\n"
          ]
        }
      ]
    },
    {
      "cell_type": "code",
      "source": [
        "spark.sql(f\"\"\"\n",
        "    SELECT a.estado, b.nome_uf, a.numero_pacientes, b.numero_pacientes_b, a.numero_pacientes - b.numero_pacientes_b as diferenca\n",
        "    FROM\n",
        "\n",
        "    (SELECT\n",
        "        SUM(numero_pacientes) AS numero_pacientes, cadastro_cidades.nome_uf as estado\n",
        "    FROM\n",
        "        cancer_mama.dados_municipios_mensal mm\n",
        "        LEFT JOIN ibge_silver.cadastro_municipios AS cadastro_cidades\n",
        "        ON int(mm.municipio) = int(cadastro_cidades.id / 10)\n",
        "    where data = '202501'\n",
        "    group by estado\n",
        "    order by 1) A\n",
        "\n",
        "    LEFT JOIN\n",
        "\n",
        "    (    SELECT\n",
        "        count(distinct(pp.paciente)) AS numero_pacientes_b, cadastro_cidades.nome_uf\n",
        "    FROM\n",
        "        cancer_mama.procedimentos_e_pacientes pp\n",
        "    LEFT JOIN ibge_silver.cadastro_municipios AS cadastro_cidades\n",
        "    ON int(pp.municipio) = int(cadastro_cidades.id / 10)\n",
        "    where data = '202501'\n",
        "    group by nome_uf\n",
        "    order by 1) B\n",
        "\n",
        "    ON A.estado = B.nome_uf\n",
        "    where a.numero_pacientes != b.numero_pacientes_b\n",
        "    order by diferenca\n",
        "\n",
        "\"\"\").show()"
      ],
      "metadata": {
        "id": "jy-SgVxxa7xH",
        "outputId": "3ecf2299-22f9-4fae-a03c-baef87b9a75f",
        "colab": {
          "base_uri": "https://localhost:8080/"
        }
      },
      "execution_count": 51,
      "outputs": [
        {
          "output_type": "stream",
          "name": "stdout",
          "text": [
            "+-------------------+-------------------+----------------+------------------+---------+\n",
            "|             estado|            nome_uf|numero_pacientes|numero_pacientes_b|diferenca|\n",
            "+-------------------+-------------------+----------------+------------------+---------+\n",
            "|            Alagoas|            Alagoas|            2500|              2499|        1|\n",
            "|          Tocantins|          Tocantins|            1106|              1105|        1|\n",
            "| Mato Grosso do Sul| Mato Grosso do Sul|            2505|              2504|        1|\n",
            "|     Espírito Santo|     Espírito Santo|            4089|              4087|        2|\n",
            "|     Santa Catarina|     Santa Catarina|            9224|              9221|        3|\n",
            "|            Sergipe|            Sergipe|            1618|              1615|        3|\n",
            "|              Goiás|              Goiás|            1653|              1649|        4|\n",
            "|           Maranhão|           Maranhão|            3355|              3345|       10|\n",
            "|              Piauí|              Piauí|            2397|              2380|       17|\n",
            "|              Bahia|              Bahia|            8426|              8405|       21|\n",
            "|     Rio de Janeiro|     Rio de Janeiro|           12474|             12451|       23|\n",
            "|             Paraná|             Paraná|           12802|             12775|       27|\n",
            "|               Pará|               Pará|            2296|              2268|       28|\n",
            "|  Rio Grande do Sul|  Rio Grande do Sul|           16048|             16012|       36|\n",
            "|          São Paulo|          São Paulo|           34073|             34033|       40|\n",
            "|Rio Grande do Norte|Rio Grande do Norte|            3501|              3450|       51|\n",
            "|              Ceará|              Ceará|            6381|              6306|       75|\n",
            "|       Minas Gerais|       Minas Gerais|           16548|             16436|      112|\n",
            "+-------------------+-------------------+----------------+------------------+---------+\n",
            "\n"
          ]
        }
      ]
    },
    {
      "cell_type": "code",
      "source": [
        "spark.sql(f\"\"\"\n",
        "    SELECT\n",
        "        count(distinct(pp.paciente)) AS numero_pacientes, cadastro_cidades.nome_uf\n",
        "    FROM\n",
        "        cancer_mama.procedimentos_e_pacientes pp\n",
        "    LEFT JOIN ibge_silver.cadastro_municipios AS cadastro_cidades\n",
        "    ON int(pp.municipio) = int(cadastro_cidades.id / 10)\n",
        "    where data = '202501'  and cadastro_cidades.nome_uf = 'Minas Gerais'\n",
        "    group by nome_uf\n",
        "    order by 1\n",
        "\n",
        "\"\"\").show()"
      ],
      "metadata": {
        "id": "pFLTJKC4a7k5",
        "outputId": "e9b0b644-a74e-4ce5-c319-391dc880d7fa",
        "colab": {
          "base_uri": "https://localhost:8080/"
        }
      },
      "execution_count": 52,
      "outputs": [
        {
          "output_type": "stream",
          "name": "stdout",
          "text": [
            "+----------------+------------+\n",
            "|numero_pacientes|     nome_uf|\n",
            "+----------------+------------+\n",
            "|           16436|Minas Gerais|\n",
            "+----------------+------------+\n",
            "\n"
          ]
        }
      ]
    },
    {
      "cell_type": "code",
      "source": [
        "spark.sql(f\"\"\"\n",
        "    SELECT\n",
        "        count(distinct(pp.paciente)) AS numero_pacientes, cadastro_cidades.nome_uf, cadastro_cidades.id as cidade\n",
        "    FROM\n",
        "        cancer_mama.procedimentos_e_pacientes pp\n",
        "    LEFT JOIN ibge_silver.cadastro_municipios AS cadastro_cidades\n",
        "    ON int(pp.municipio) = int(cadastro_cidades.id / 10)\n",
        "    where data = '202501' and cadastro_cidades.nome_uf = 'Minas Gerais'\n",
        "    group by nome_uf, cidade\n",
        "    order by 3\n",
        "\n",
        "\"\"\").show()"
      ],
      "metadata": {
        "id": "cW58KUCGRCfp",
        "outputId": "305af0dc-e02d-4b6a-beec-b70470457dfa",
        "colab": {
          "base_uri": "https://localhost:8080/"
        }
      },
      "execution_count": 53,
      "outputs": [
        {
          "output_type": "stream",
          "name": "stdout",
          "text": [
            "+----------------+------------+-------+\n",
            "|numero_pacientes|     nome_uf| cidade|\n",
            "+----------------+------------+-------+\n",
            "|               7|Minas Gerais|3100104|\n",
            "|              23|Minas Gerais|3100203|\n",
            "|               2|Minas Gerais|3100302|\n",
            "|               6|Minas Gerais|3100401|\n",
            "|               6|Minas Gerais|3100500|\n",
            "|               3|Minas Gerais|3100609|\n",
            "|               1|Minas Gerais|3100708|\n",
            "|               4|Minas Gerais|3100807|\n",
            "|               9|Minas Gerais|3100906|\n",
            "|               6|Minas Gerais|3101003|\n",
            "|              13|Minas Gerais|3101102|\n",
            "|               5|Minas Gerais|3101201|\n",
            "|               6|Minas Gerais|3101300|\n",
            "|               4|Minas Gerais|3101409|\n",
            "|               3|Minas Gerais|3101508|\n",
            "|               4|Minas Gerais|3101607|\n",
            "|               2|Minas Gerais|3101631|\n",
            "|              19|Minas Gerais|3101706|\n",
            "|               1|Minas Gerais|3101805|\n",
            "|              25|Minas Gerais|3101904|\n",
            "+----------------+------------+-------+\n",
            "only showing top 20 rows\n",
            "\n"
          ]
        }
      ]
    },
    {
      "cell_type": "code",
      "source": [
        "spark.sql(f\"\"\"\n",
        "    SELECT\n",
        "        SUM(numero_pacientes) AS numero_pacientes, mm.municipio as cidade\n",
        "    FROM\n",
        "        cancer_mama.dados_municipios_mensal mm\n",
        "\n",
        "    LEFT JOIN ibge_silver.cadastro_municipios AS cadastro_cidades\n",
        "    ON int(mm.municipio) = int(cadastro_cidades.id / 10)\n",
        "    where data = '202501' and cadastro_cidades.nome_uf = 'Minas Gerais'\n",
        "\n",
        "    group by cidade\n",
        "    order by 2\n",
        "\n",
        "\"\"\").show()"
      ],
      "metadata": {
        "id": "GdZpLgtaRE9E",
        "outputId": "6a08a3ec-e6be-4b66-9c29-f3e39d40bb72",
        "colab": {
          "base_uri": "https://localhost:8080/"
        }
      },
      "execution_count": 57,
      "outputs": [
        {
          "output_type": "stream",
          "name": "stdout",
          "text": [
            "+----------------+------+\n",
            "|numero_pacientes|cidade|\n",
            "+----------------+------+\n",
            "|               7|310010|\n",
            "|              23|310020|\n",
            "|               2|310030|\n",
            "|               6|310040|\n",
            "|               6|310050|\n",
            "|               3|310060|\n",
            "|               1|310070|\n",
            "|               4|310080|\n",
            "|               9|310090|\n",
            "|               6|310100|\n",
            "|              13|310110|\n",
            "|               5|310120|\n",
            "|               6|310130|\n",
            "|               4|310140|\n",
            "|               3|310150|\n",
            "|               4|310160|\n",
            "|               2|310163|\n",
            "|              19|310170|\n",
            "|               1|310180|\n",
            "|              25|310190|\n",
            "+----------------+------+\n",
            "only showing top 20 rows\n",
            "\n"
          ]
        }
      ]
    },
    {
      "cell_type": "code",
      "source": [
        "spark.sql(f\"\"\"\n",
        "\n",
        "    SELECT sum(A.numero_pacientes), sum(B.numero_pacientes_b)\n",
        "    FROM\n",
        "\n",
        "    (SELECT\n",
        "        count(distinct(pp.paciente)) AS numero_pacientes, cadastro_cidades.nome_uf, int(cadastro_cidades.id / 10) as cidade\n",
        "    FROM\n",
        "        cancer_mama.procedimentos_e_pacientes pp\n",
        "    LEFT JOIN ibge_silver.cadastro_municipios AS cadastro_cidades\n",
        "    ON int(pp.municipio) = int(cadastro_cidades.id / 10)\n",
        "    where data = '202501' and cadastro_cidades.nome_uf = 'Minas Gerais'\n",
        "    group by nome_uf, cidade\n",
        "    order by 3) A\n",
        "\n",
        "    LEFT JOIN\n",
        "\n",
        "\n",
        "\n",
        "    (SELECT\n",
        "        SUM(numero_pacientes) AS numero_pacientes_b, mm.municipio as cidade_b\n",
        "    FROM\n",
        "        cancer_mama.dados_municipios_mensal mm\n",
        "\n",
        "    LEFT JOIN ibge_silver.cadastro_municipios AS cadastro_cidades\n",
        "    ON int(mm.municipio) = int(cadastro_cidades.id / 10)\n",
        "    where data = '202501' and cadastro_cidades.nome_uf = 'Minas Gerais'\n",
        "\n",
        "    group by cidade_b\n",
        "    order by 2) B\n",
        "\n",
        "    ON A.cidade = B.cidade_b\n",
        "\n",
        "\n",
        "\"\"\").show()"
      ],
      "metadata": {
        "id": "VA4rZuAseSIY",
        "outputId": "7ab742e8-4bf4-4876-8a68-a65769f755ce",
        "colab": {
          "base_uri": "https://localhost:8080/"
        }
      },
      "execution_count": 66,
      "outputs": [
        {
          "output_type": "stream",
          "name": "stdout",
          "text": [
            "+---------------------+-----------------------+\n",
            "|sum(numero_pacientes)|sum(numero_pacientes_b)|\n",
            "+---------------------+-----------------------+\n",
            "|                16548|                  16548|\n",
            "+---------------------+-----------------------+\n",
            "\n"
          ]
        }
      ]
    },
    {
      "cell_type": "code",
      "source": [
        "spark.sql(f\"\"\"\n",
        "\n",
        "  SELECT\n",
        "        *\n",
        "    FROM\n",
        "\n",
        "  (SELECT\n",
        "      c.*,\n",
        "      p.data_primeiro_estadiamento,\n",
        "      p.data_ultimo_estadiamento,\n",
        "      p.primeiro_estadiamento,\n",
        "      p.maior_estadiamento,\n",
        "      p.ultimo_estadiamento,\n",
        "      p.custo_total,\n",
        "      p.primeiro_municipio,\n",
        "      p.ultimo_municipio,\n",
        "      p.indicacao_obito\n",
        "  FROM (select pp.* from cancer_mama.procedimentos pp\n",
        "        LEFT JOIN ibge_silver.cadastro_municipios AS cadastro_cidades\n",
        "        ON int(pp.municipio) = int(cadastro_cidades.id / 10)\n",
        "       where data = '202501' and cadastro_cidades.nome_uf = 'Minas Gerais') AS c\n",
        "  RIGHT JOIN\n",
        "       (select pp.* from cancer_mama.pacientes pp\n",
        "          LEFT JOIN ibge_silver.cadastro_municipios AS cadastro_cidades\n",
        "        ON int(pp.primeiro_municipio) = int(cadastro_cidades.id / 10)\n",
        "       where cadastro_cidades.nome_uf = 'Minas Gerais' )AS p\n",
        "  ON c.paciente = p.paciente\n",
        "  where data is not null)\n",
        "\n",
        "\"\"\").createOrReplaceTempView(\"procedimentos_corrigido\")"
      ],
      "metadata": {
        "id": "3_leIgJbi6S8"
      },
      "execution_count": 91,
      "outputs": []
    },
    {
      "cell_type": "code",
      "source": [
        "spark.sql(f\"\"\"\n",
        "    SELECT\n",
        "        *\n",
        "    FROM\n",
        "        cancer_mama.procedimentos_e_pacientes pp\n",
        "    LEFT JOIN ibge_silver.cadastro_municipios AS cadastro_cidades\n",
        "    ON int(pp.municipio) = int(cadastro_cidades.id / 10)\n",
        "    where data = '202501' and cadastro_cidades.nome_uf = 'Minas Gerais' and paciente in\n",
        "\n",
        "\n",
        "    (SELECT paciente\n",
        "    from\n",
        "    (SELECT\n",
        "        count(distinct(id)) cidades, paciente\n",
        "    FROM\n",
        "        procedimentos_corrigido pp\n",
        "    LEFT JOIN ibge_silver.cadastro_municipios AS cadastro_cidades\n",
        "    ON int(pp.primeiro_municipio) = int(cadastro_cidades.id / 10)\n",
        "    where data = '202501' and cadastro_cidades.nome_uf = 'Minas Gerais'\n",
        "    group by paciente\n",
        "    order by 1 desc)\n",
        "    --where cidades >1\n",
        "    -- limit 1\n",
        "    )\n",
        "\n",
        "\"\"\").show()"
      ],
      "metadata": {
        "id": "Z0hndd41gqaH",
        "outputId": "23553a77-aa6f-4a69-90e7-8301898e90ae",
        "colab": {
          "base_uri": "https://localhost:8080/"
        }
      },
      "execution_count": 97,
      "outputs": [
        {
          "output_type": "stream",
          "name": "stdout",
          "text": [
            "+------+---------------+------------+------+-----+---------+--------------------------+------------------------+---------------------+------------------+-------------------+------------------+------------------+----------------+---------------+-------+----------------+-----+------------+\n",
            "|  data|       paciente|estadiamento| custo|obito|municipio|data_primeiro_estadiamento|data_ultimo_estadiamento|primeiro_estadiamento|maior_estadiamento|ultimo_estadiamento|       custo_total|primeiro_municipio|ultimo_municipio|indicacao_obito|     id|            nome|id_uf|     nome_uf|\n",
            "+------+---------------+------------+------+-----+---------+--------------------------+------------------------+---------------------+------------------+-------------------+------------------+------------------+----------------+---------------+-------+----------------+-----+------------+\n",
            "|202501||{|{~|~{{{||           3|2378.9|    0|   313380|                    201902|                  202502|                    3|                 3|                  3| 35568.50000000001|            313380|          313380|              0|3133808|          Itaúna|   31|Minas Gerais|\n",
            "|202501||{||}|{|{{{||           1| 79.75|    0|   311030|                    202306|                  202502|                    0|                 1|                  1|            1116.5|            311030|          311030|              0|3110301|          Caldas|   31|Minas Gerais|\n",
            "|202501||{}~~~~|{{{|           3| 301.5|    0|   313310|                    201212|                  202502|                    2|                 3|                  3|           28674.5|            313310|          313310|              0|3133105|       Itanhandu|   31|Minas Gerais|\n",
            "|202501||{}~}~~}{{{|           1| 79.75|    0|   310990|                    202002|                  202502|                    1|                 1|                  1|           4226.75|            310990|          310990|              0|3109907|    Caetanópolis|   31|Minas Gerais|\n",
            "|202501||{}|}{{{{{|           4| 79.75|    0|   316720|                    202402|                  202502|                    3|                 4|                  4|           8798.75|            316720|          316720|              0|3167202|     Sete Lagoas|   31|Minas Gerais|\n",
            "|202501||{~~|}{{{|           1| 79.75|    0|   310620|                    201606|                  202502|                    3|                 3|                  1|          21945.25|            310620|          310620|              0|3106200|  Belo Horizonte|   31|Minas Gerais|\n",
            "|202501||{|{{{~|           3| 79.75|    0|   312660|                    202201|                  202501|                    2|                 3|                  3|           14041.0|            312660|          312660|              0|3126604|Francisco Dumont|   31|Minas Gerais|\n",
            "|202501||{|}}{{{|           4| 79.75|    0|   310020|                    201703|                  202502|                    2|                 4|                  4|          24216.25|            310020|          310020|              0|3100203|          Abaeté|   31|Minas Gerais|\n",
            "|202501||{{|{{{|           3| 79.75|    0|   310620|                    201501|                  202502|                    3|                 3|                  3|          37390.75|            310620|          310620|              0|3106200|  Belo Horizonte|   31|Minas Gerais|\n",
            "|202501||{|}|{{{~|           1| 79.75|    0|   310620|                    202110|                  202502|                    1|                 1|                  1|            9094.0|            310620|          310620|              0|3106200|  Belo Horizonte|   31|Minas Gerais|\n",
            "|202501||{}{{{{{|           3| 79.75|    0|   315180|                    202108|                  202502|                    1|                 3|                  3|            3349.5|            315180|          315180|              0|3151800| Poços de Caldas|   31|Minas Gerais|\n",
            "|202501||{}{{{}|           0| 79.75|    0|   313310|                    201803|                  202502|                    0|                 3|                  0|          22270.25|            313310|          313310|              0|3133105|       Itanhandu|   31|Minas Gerais|\n",
            "|202501||{}}~{}{{{||           2|2828.4|    0|   315180|                    201407|                  202502|                    1|                 2|                  2| 65629.70000000001|            315180|          315180|              0|3151800| Poços de Caldas|   31|Minas Gerais|\n",
            "|202501||{|~{{{||           4| 79.75|    0|   311510|                    201005|                  202502|                    1|                 4|                  4|           6868.46|            311510|          311510|              0|3115102|          Cássia|   31|Minas Gerais|\n",
            "|202501||{|{{{{{|           2| 79.75|    0|   313380|                    201711|                  202501|                    3|                 3|                  2|           19810.0|            313380|          313380|              0|3133808|          Itaúna|   31|Minas Gerais|\n",
            "|202501||{~{}~}{{{|           1| 571.5|    0|   316860|                    202308|                  202501|                    1|                 1|                  1|           10287.0|            316860|          316860|              0|3168606|   Teófilo Otoni|   31|Minas Gerais|\n",
            "|202501||{~||{{{{|           1| 79.75|    0|   315670|                    201605|                  202502|                    1|                 1|                  1|14852.150000000003|            315670|          315670|              0|3156700|          Sabará|   31|Minas Gerais|\n",
            "|202501||{~{}}{{{{|           2|529.25|    0|   316720|                    201303|                  202502|                    2|                 2|                  2|          22839.25|            316720|          316720|              0|3167202|     Sete Lagoas|   31|Minas Gerais|\n",
            "|202501||{|}{{{|           1| 79.75|    0|   310620|                    201104|                  202502|                    2|                 2|                  1|           17350.0|            310620|          310620|              0|3106200|  Belo Horizonte|   31|Minas Gerais|\n",
            "|202501||}{}~|}~~{{||           1| 79.75|    0|   310620|                    201310|                  202502|                    1|                 1|                  1|           9968.75|            310620|          310620|              0|3106200|  Belo Horizonte|   31|Minas Gerais|\n",
            "+------+---------------+------------+------+-----+---------+--------------------------+------------------------+---------------------+------------------+-------------------+------------------+------------------+----------------+---------------+-------+----------------+-----+------------+\n",
            "only showing top 20 rows\n",
            "\n"
          ]
        }
      ]
    },
    {
      "cell_type": "code",
      "source": [
        "spark.sql(f\"\"\"\n",
        "\n",
        "select *\n",
        "from cancer_mama.pacientes\n",
        "where paciente in\n",
        "(\n",
        "SELECT paciente\n",
        "    from\n",
        "    (SELECT\n",
        "        count(distinct(id)) cidades, paciente\n",
        "    FROM\n",
        "        procedimentos_corrigido pp\n",
        "    LEFT JOIN ibge_silver.cadastro_municipios AS cadastro_cidades\n",
        "    ON int(pp.municipio) = int(cadastro_cidades.id / 10)\n",
        "    where data = '202501' and cadastro_cidades.nome_uf = 'Minas Gerais'\n",
        "    group by paciente\n",
        "    order by 1 desc)\n",
        "    where cidades >1\n",
        "    -- limit 1\n",
        "    )\n",
        "\"\"\").show()"
      ],
      "metadata": {
        "id": "4ANn7pYqFMei",
        "outputId": "498a70b0-20b5-429d-a0dc-806d0a379efe",
        "colab": {
          "base_uri": "https://localhost:8080/"
        }
      },
      "execution_count": 95,
      "outputs": [
        {
          "output_type": "stream",
          "name": "stdout",
          "text": [
            "+---------------+--------------------------+------------------------+--------------------+---------------------+-------------------+------------------+------------------+-----------+---------------+------------------+----------------+\n",
            "|       paciente|data_primeiro_estadiamento|data_ultimo_estadiamento|numero_procedimentos|primeiro_estadiamento|ultimo_estadiamento|maior_estadiamento|menor_estadiamento|custo_total|indicacao_obito|primeiro_municipio|ultimo_municipio|\n",
            "+---------------+--------------------------+------------------------+--------------------+---------------------+-------------------+------------------+------------------+-----------+---------------+------------------+----------------+\n",
            "|{{{}{}{|                    202411|                  202501|                   4|                    2|                  2|                 2|                 2|    6143.25|              0|            312800|          312800|\n",
            "|{{{|{|~}|                    202410|                  202502|                   6|                    4|                  4|                 4|                 1|    10391.0|              0|            316230|          316230|\n",
            "|{{~{|                    202001|                  202502|                  78|                    2|                  3|                 3|                 0|   20687.75|              0|            315690|          315690|\n",
            "+---------------+--------------------------+------------------------+--------------------+---------------------+-------------------+------------------+------------------+-----------+---------------+------------------+----------------+\n",
            "\n"
          ]
        }
      ]
    },
    {
      "cell_type": "code",
      "source": [
        "spark.sql(f\"\"\"\n",
        "    SELECT\n",
        "        SUM(numero_pacientes) AS numero_pacientes\n",
        "    FROM\n",
        "        cancer_mama.dados_municipios_mensal\n",
        "    where data = '202501'\n",
        "\n",
        "\"\"\").show()"
      ],
      "metadata": {
        "id": "UBItoi32DUfM",
        "outputId": "93f85520-7fc5-4b3f-a007-9f18a84069d8",
        "colab": {
          "base_uri": "https://localhost:8080/"
        }
      },
      "execution_count": null,
      "outputs": [
        {
          "output_type": "stream",
          "name": "stdout",
          "text": [
            "+----------------+\n",
            "|numero_pacientes|\n",
            "+----------------+\n",
            "|          145963|\n",
            "+----------------+\n",
            "\n"
          ]
        }
      ]
    },
    {
      "cell_type": "code",
      "source": [
        "spark.sql(f\"\"\"\n",
        "    SELECT\n",
        "        SUM(custo_estadiamento) AS custo_pacientes\n",
        "    FROM\n",
        "        cancer_mama.dados_estados_mensal\n",
        "    where data = '202501'\n",
        "\n",
        "\"\"\").show()"
      ],
      "metadata": {
        "id": "0xcEBZVT_rKf",
        "outputId": "a18c6fec-f42b-4e63-90b9-3792bfa2bb1e",
        "colab": {
          "base_uri": "https://localhost:8080/"
        }
      },
      "execution_count": null,
      "outputs": [
        {
          "output_type": "stream",
          "name": "stdout",
          "text": [
            "+-------------------+\n",
            "|    custo_pacientes|\n",
            "+-------------------+\n",
            "|7.746116284999998E7|\n",
            "+-------------------+\n",
            "\n"
          ]
        }
      ]
    },
    {
      "cell_type": "code",
      "source": [
        "spark.sql(f\"\"\"\n",
        "    SELECT\n",
        "        SUM(numero_pacientes) AS numero_pacientes\n",
        "    FROM\n",
        "        cancer_mama.dados_municipios_mensal\n",
        "    where data = '202501'\n",
        "\n",
        "\"\"\").show()"
      ],
      "metadata": {
        "id": "yrJFC0VnB9VC",
        "outputId": "0ed07309-f4a4-412a-cf49-49d0580f9bee",
        "colab": {
          "base_uri": "https://localhost:8080/"
        }
      },
      "execution_count": null,
      "outputs": [
        {
          "output_type": "stream",
          "name": "stdout",
          "text": [
            "+----------------+\n",
            "|numero_pacientes|\n",
            "+----------------+\n",
            "|          145963|\n",
            "+----------------+\n",
            "\n"
          ]
        }
      ]
    },
    {
      "cell_type": "code",
      "source": [
        "spark.sql(f\"\"\"\n",
        "    SELECT\n",
        "        *\n",
        "    FROM\n",
        "        cancer_mama.dados_estados_mensal\n",
        "\n",
        "\n",
        "\"\"\").show()"
      ],
      "metadata": {
        "id": "uPyTVio68KtA",
        "outputId": "fa7ef9ef-7176-45cc-afe1-2f8b7ba7ded5",
        "colab": {
          "base_uri": "https://localhost:8080/"
        }
      },
      "execution_count": null,
      "outputs": [
        {
          "output_type": "stream",
          "name": "stdout",
          "text": [
            "+--------+------+---------------------+------------------+----------------+-----------------+------+--------------+--------------------+-------------------+\n",
            "|  estado|  data|primeiro_estadiamento|custo_estadiamento|numero_pacientes|numero_municipios|obitos|obitos_futuros|numero_procedimentos|numero_diagnosticos|\n",
            "+--------+------+---------------------+------------------+----------------+-----------------+------+--------------+--------------------+-------------------+\n",
            "|Rondônia|200801|                    1|1437.6999999999998|              13|                7|     0|             0|                  13|                 13|\n",
            "|Rondônia|200801|                    2|17133.420000000002|              52|               19|     0|             2|                  53|                 52|\n",
            "|Rondônia|200801|                    3|           50399.3|              70|               25|     0|             2|                  71|                 70|\n",
            "|Rondônia|200801|                    4|          34021.97|              28|               12|     1|             2|                  30|                 28|\n",
            "|Rondônia|200801|                    0|           2105.58|               1|                1|     0|             0|                   1|                  1|\n",
            "|    Acre|200801|                    1|             319.0|               4|                2|     0|             0|                   4|                  4|\n",
            "|    Acre|200801|                    3|           6025.67|               8|                4|     0|             1|                   8|                  8|\n",
            "|    Acre|200801|                    2|           3189.65|               5|                2|     0|             0|                   5|                  5|\n",
            "|Amazonas|200801|                    3|          75513.23|             130|               13|     0|             1|                 130|                130|\n",
            "|Amazonas|200801|                    2| 83293.73999999998|             272|               15|     0|             2|                 278|                271|\n",
            "|Amazonas|200801|                    1|          17267.42|              79|                3|     0|             1|                  80|                 79|\n",
            "|Amazonas|200801|                    4|22305.570000000003|              32|                2|     0|             1|                  34|                 32|\n",
            "| Roraima|200801|                    1|             79.75|               1|                1|     0|             0|                   1|                  1|\n",
            "| Roraima|200801|                    2|            612.15|               6|                1|     0|             0|                   6|                  6|\n",
            "| Roraima|200801|                    3|            2839.9|               4|                1|     0|             0|                   4|                  4|\n",
            "|    Pará|200801|                    2|          46635.48|             295|               29|     0|             1|                 296|                294|\n",
            "|    Pará|200801|                    1|21271.570000000003|             117|               24|     0|             0|                 119|                117|\n",
            "|    Pará|200801|                    3| 78769.16999999998|             161|               30|     0|             1|                 162|                160|\n",
            "|    Pará|200801|                    4|          34286.41|              42|                7|     0|             0|                  42|                 41|\n",
            "|    Pará|200801|                    0|             277.2|               1|                1|     0|             0|                   1|                  1|\n",
            "+--------+------+---------------------+------------------+----------------+-----------------+------+--------------+--------------------+-------------------+\n",
            "only showing top 20 rows\n",
            "\n"
          ]
        }
      ]
    },
    {
      "cell_type": "code",
      "source": [
        "spark.sql(f\"\"\"\n",
        "    select sum(num_mun), count(1) from\n",
        "\n",
        "    (SELECT\n",
        "        count(distinct municipio) num_mun, paciente\n",
        "\n",
        "\n",
        "    FROM\n",
        "        cancer_mama.procedimentos_e_pacientes\n",
        "     where data = '202501'\n",
        "     group by paciente)\n",
        "\n",
        "     where num_mun > 1\n",
        "\n",
        "\"\"\").show()"
      ],
      "metadata": {
        "id": "VYoktluADMWT",
        "outputId": "f1dd1c8f-9420-4bf4-8958-8c2f8a047af2",
        "colab": {
          "base_uri": "https://localhost:8080/"
        }
      },
      "execution_count": null,
      "outputs": [
        {
          "output_type": "stream",
          "name": "stdout",
          "text": [
            "+------------+--------+\n",
            "|sum(num_mun)|count(1)|\n",
            "+------------+--------+\n",
            "|        2409|     117|\n",
            "+------------+--------+\n",
            "\n"
          ]
        }
      ]
    },
    {
      "cell_type": "code",
      "source": [
        "143671 - 145963"
      ],
      "metadata": {
        "id": "YQVzTr2xDfFJ",
        "outputId": "e642f4e7-4d33-4e3f-9368-6f8f714ec4c3",
        "colab": {
          "base_uri": "https://localhost:8080/"
        }
      },
      "execution_count": null,
      "outputs": [
        {
          "output_type": "execute_result",
          "data": {
            "text/plain": [
              "-2292"
            ]
          },
          "metadata": {},
          "execution_count": 44
        }
      ]
    },
    {
      "cell_type": "code",
      "source": [
        "2409 - 117"
      ],
      "metadata": {
        "id": "LQ4_01HvGR7k",
        "outputId": "df869f34-e7c1-413f-a79c-bff87b19354b",
        "colab": {
          "base_uri": "https://localhost:8080/"
        }
      },
      "execution_count": null,
      "outputs": [
        {
          "output_type": "execute_result",
          "data": {
            "text/plain": [
              "2292"
            ]
          },
          "metadata": {},
          "execution_count": 46
        }
      ]
    },
    {
      "cell_type": "code",
      "source": [
        "spark.sql(f\"\"\"\n",
        "    select * from\n",
        "\n",
        "    (SELECT\n",
        "        count(distinct municipio) num_mun, paciente\n",
        "\n",
        "\n",
        "    FROM\n",
        "        cancer_mama.procedimentos_e_pacientes\n",
        "     where data = '202501'\n",
        "     group by paciente)\n",
        "\n",
        "     where num_mun > 1\n",
        "\n",
        "\"\"\").show()"
      ],
      "metadata": {
        "id": "j6CyhV2BGZj8",
        "outputId": "30a5fc25-8925-46e2-ddf8-59d5a01601bb",
        "colab": {
          "base_uri": "https://localhost:8080/"
        }
      },
      "execution_count": null,
      "outputs": [
        {
          "output_type": "stream",
          "name": "stdout",
          "text": [
            "+-------+---------------+\n",
            "|num_mun|       paciente|\n",
            "+-------+---------------+\n",
            "|   1792|               |\n",
            "|    387|{{{{{{{{{{{{{{{|\n",
            "|      2||{~{{{{|\n",
            "|      2|}{||{{{{|\n",
            "|      2|}{}{{{{|\n",
            "|      2|}{|~~{{{|\n",
            "|      2|{{{{|{|\n",
            "|      2|{{{{}}}~{|\n",
            "|      2|{{{{~~{~{|\n",
            "|      2|{{{{~}{{~|\n",
            "|      2|{{{{~{{|\n",
            "|      2|{{{{~}||{}|\n",
            "|      2|{{{{}|{{|\n",
            "|      2|{{{{{|{|\n",
            "|      2|{{{{|~{|\n",
            "|      2|{{{{{}{~|\n",
            "|      2|{{{{{}~|{|\n",
            "|      2|{{{{}~}{|\n",
            "|      2|{{}{{}~|\n",
            "|      2|{{}{{}|\n",
            "+-------+---------------+\n",
            "only showing top 20 rows\n",
            "\n"
          ]
        }
      ]
    },
    {
      "cell_type": "code",
      "source": [
        "spark.sql(f\"\"\"\n",
        "    select *, length(paciente) from\n",
        "\n",
        "    (SELECT\n",
        "        count(distinct municipio) num_mun, paciente\n",
        "\n",
        "\n",
        "    FROM\n",
        "\n",
        "  (SELECT\n",
        "      c.*,\n",
        "      p.data_primeiro_estadiamento,\n",
        "      p.data_ultimo_estadiamento,\n",
        "      p.primeiro_estadiamento,\n",
        "      p.maior_estadiamento,\n",
        "      p.ultimo_estadiamento,\n",
        "      p.custo_total,\n",
        "      p.primeiro_municipio,\n",
        "      p.ultimo_municipio,\n",
        "      p.indicacao_obito\n",
        "  FROM cancer_mama.pacientes AS p\n",
        "  LEFT JOIN cancer_mama.procedimentos AS c\n",
        "  ON c.paciente = p.paciente)\n",
        "\n",
        "     where data = '202501'\n",
        "     group by paciente)\n",
        "\n",
        "     where num_mun > 1\n",
        "     order by num_mun desc\n",
        "     limit 2\n",
        "\n",
        "\"\"\").show()"
      ],
      "metadata": {
        "id": "_Tz8lTsXG0GO",
        "outputId": "ab8d56bc-c1e5-4893-afa3-477078eb5f72",
        "colab": {
          "base_uri": "https://localhost:8080/"
        }
      },
      "execution_count": null,
      "outputs": [
        {
          "output_type": "stream",
          "name": "stdout",
          "text": [
            "+-------+--------+----------------+\n",
            "|num_mun|paciente|length(paciente)|\n",
            "+-------+--------+----------------+\n",
            "|   1792|        |               0|\n",
            "+-------+--------+----------------+\n",
            "\n"
          ]
        }
      ]
    },
    {
      "cell_type": "code",
      "source": [
        "spark.sql(f\"\"\"\n",
        "select * from\n",
        "\n",
        "(    select *, length(paciente) from\n",
        "\n",
        "    (SELECT\n",
        "        count(distinct municipio) num_mun, paciente\n",
        "\n",
        "\n",
        "    FROM\n",
        "\n",
        "  (SELECT\n",
        "      c.*,\n",
        "      p.data_primeiro_estadiamento,\n",
        "      p.data_ultimo_estadiamento,\n",
        "      p.primeiro_estadiamento,\n",
        "      p.maior_estadiamento,\n",
        "      p.ultimo_estadiamento,\n",
        "      p.custo_total,\n",
        "      p.primeiro_municipio,\n",
        "      p.ultimo_municipio,\n",
        "      p.indicacao_obito\n",
        "  FROM cancer_mama.pacientes AS p\n",
        "  LEFT JOIN cancer_mama.procedimentos AS c\n",
        "  ON c.paciente = p.paciente)\n",
        "\n",
        "     where data = '202501'\n",
        "     group by paciente)\n",
        "\n",
        "     where num_mun > 1\n",
        "     order by num_mun desc\n",
        ") a\n",
        "left join cancer_mama.pacientes AS p\n",
        "on a.paciente = p.paciente\n",
        "\n",
        "\"\"\").show()"
      ],
      "metadata": {
        "id": "dnMFRspKHdn5",
        "outputId": "0c3ba821-3935-45ef-8922-ef16306c4b03",
        "colab": {
          "base_uri": "https://localhost:8080/"
        }
      },
      "execution_count": null,
      "outputs": [
        {
          "output_type": "stream",
          "name": "stdout",
          "text": [
            "+-------+---------------+----------------+---------------+--------------------------+------------------------+--------------------+---------------------+-------------------+------------------+------------------+--------------------+---------------+------------------+----------------+\n",
            "|num_mun|       paciente|length(paciente)|       paciente|data_primeiro_estadiamento|data_ultimo_estadiamento|numero_procedimentos|primeiro_estadiamento|ultimo_estadiamento|maior_estadiamento|menor_estadiamento|         custo_total|indicacao_obito|primeiro_municipio|ultimo_municipio|\n",
            "+-------+---------------+----------------+---------------+--------------------------+------------------------+--------------------+---------------------+-------------------+------------------+------------------+--------------------+---------------+------------------+----------------+\n",
            "|   1792|               |               0|               |                    202404|                  202502|               88593|                    3|                  4|                 4|                 0| 3.812679215000043E7|              1|            351930|          250130|\n",
            "|    387|{{{{{{{{{{{{{{{|              15|{{{{{{{{{{{{{{{|                    202404|                  202502|               44261|                    3|                  2|                 4|                 0|1.8914227799999904E7|              1|            230523|          240490|\n",
            "|      2||{~{{{{|              15||{~{{{{|                    202012|                  202501|                  54|                    1|                  1|                 2|                 1|             15013.0|              0|            350330|          350330|\n",
            "|      2|}{||{{{{|              15|}{||{{{{|                    202408|                  202501|                   7|                    4|                  4|                 4|                 3|               478.5|              0|            355030|          355030|\n",
            "|      2|{{{{}}}~{|              15|{{{{}}}~{|                    202112|                  202502|                  40|                    1|                  1|                 1|                 1|            15998.25|              0|            352590|          270430|\n",
            "|      2|{{{{~}{{~|              15|{{{{~}{{~|                    202411|                  202501|                   4|                    2|                  2|                 3|                 2|             6143.25|              0|            354390|          354390|\n",
            "|      2|{{{{~}||{}|              15|{{{{~}||{}|                    202209|                  202502|                  27|                    3|                  3|                 3|                 3|            14419.25|              0|            230440|          230440|\n",
            "|      2|{{~{{|~{|              15|{{~{{|~{|                    202311|                  202502|                  18|                    1|                  2|                 2|                 1|              1435.5|              0|            352940|          220180|\n",
            "|      2|{{{{}|              15|{{{{}|                    202212|                  202501|                  27|                    2|                  2|                 2|                 2|            12219.25|              0|            355280|          355280|\n",
            "|      2|{}{{~}~||              15|{}{{~}~||                    202108|                  202502|                  52|                    2|                  4|                 4|                 2|            28377.25|              0|            260880|          261020|\n",
            "|      2|{}{}~|              15|{}{}~|                    202304|                  202501|                  12|                    2|                  2|                 3|                 2|            13302.75|              0|            350950|          431162|\n",
            "|      2|{~{{|~~||              15|{~{{|~~||                    202405|                  202501|                   9|                    3|                  3|                 3|                 3|             6462.25|              0|            353710|          352470|\n",
            "|      2|{{}~{~}}{||              15|{{}~{~}}{||                    202312|                  202501|                  22|                    2|                  2|                 2|                 2|  11500.950000000003|              0|            354390|          354390|\n",
            "|      2|{{{~}{}}}|              15|{{{~}{}}}|                    202308|                  202501|                  19|                    4|                  4|                 4|                 4|            30679.75|              0|            350700|          350700|\n",
            "|      2|{~{~|{}|              15|{~{~|{}|                    202304|                  202501|                  20|                    1|                  2|                 2|                 1|             8402.75|              0|            330490|          330490|\n",
            "|      2|{{||              15|{{||                    202008|                  202501|                  38|                    2|                  2|                 3|                 0|             11656.0|              0|            350050|          350050|\n",
            "|      2|{{}{{|}{|              15|{{}{{|}{|                    202010|                  202501|                  60|                    1|                  0|                 1|                 0|             10529.5|              0|            350950|          330187|\n",
            "|      2|{{}}}|{~|              15|{{}}}|{~|                    202211|                  202501|                  28|                    2|                  2|                 4|                 2|   43877.40000000001|              0|            350950|          350950|\n",
            "|      2|{{{|}||              15|{{{|}||                    201805|                  202501|                  89|                    2|                  2|                 2|                 1|            36694.25|              0|            352590|          353340|\n",
            "|      2|{{}~||~|              15|{{}~||~|                    201712|                  202501|                  61|                    3|                  4|                 4|                 3|   61470.60000000001|              0|            510340|          510340|\n",
            "+-------+---------------+----------------+---------------+--------------------------+------------------------+--------------------+---------------------+-------------------+------------------+------------------+--------------------+---------------+------------------+----------------+\n",
            "only showing top 20 rows\n",
            "\n"
          ]
        }
      ]
    }
  ],
  "metadata": {
    "colab": {
      "provenance": []
    },
    "kernelspec": {
      "display_name": "Python 3",
      "name": "python3"
    },
    "language_info": {
      "name": "python"
    }
  },
  "nbformat": 4,
  "nbformat_minor": 0
}