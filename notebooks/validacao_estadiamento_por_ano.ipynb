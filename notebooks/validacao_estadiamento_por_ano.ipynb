{
  "cells": [
    {
      "cell_type": "markdown",
      "metadata": {
        "id": "view-in-github",
        "colab_type": "text"
      },
      "source": [
        "<a href=\"https://colab.research.google.com/github/heber-augusto/sus-kpis-analysis/blob/main/notebooks/validacao_estadiamento_por_ano.ipynb\" target=\"_parent\"><img src=\"https://colab.research.google.com/assets/colab-badge.svg\" alt=\"Open In Colab\"/></a>"
      ]
    },
    {
      "cell_type": "markdown",
      "metadata": {
        "id": "eNviCQI6IDqh"
      },
      "source": [
        "# Configuração do ambiente e carregamento do catálogo\n",
        "\n",
        "**Lembre-se de baixar o arquivo json que garante acesso ao google storage**\n",
        " - monitor-rosa-escrita.json: acesso para criação de tabelas;\n",
        " - monitor-rosa-leitura.json: acesso para analises e consultas.\n",
        "\n",
        "**Se o seu usuário possui acesso ao drive compartilhado, remova os comentários a seguir**"
      ]
    },
    {
      "cell_type": "code",
      "source": [
        "from google.colab import drive\n",
        "drive.mount('/content/drive')"
      ],
      "metadata": {
        "colab": {
          "base_uri": "https://localhost:8080/"
        },
        "id": "enmrocYf_raz",
        "outputId": "430c8664-a96f-4168-8822-883f6c27c968"
      },
      "execution_count": 1,
      "outputs": [
        {
          "output_type": "stream",
          "name": "stdout",
          "text": [
            "Mounted at /content/drive\n"
          ]
        }
      ]
    },
    {
      "cell_type": "markdown",
      "metadata": {
        "id": "TnBLAcn1ZEik"
      },
      "source": [
        "## Escolha do ambiente\n",
        "São disponibilizadas duas opções de execução (dependendo do arquivo de credencial utilizado)\n",
        " - gcp-leitura.json: disponível para analises e usuários que não possuem permissão de escrita;\n",
        " - gcp-escrita.json: disponível para atualização de bases (testes de desenvolvimento ou ambiente de produção)."
      ]
    },
    {
      "cell_type": "code",
      "execution_count": 2,
      "metadata": {
        "id": "Fj3xNzUzZD8W",
        "colab": {
          "base_uri": "https://localhost:8080/",
          "height": 70
        },
        "outputId": "69ab25d4-a574-49de-aefa-571548c94329"
      },
      "outputs": [
        {
          "output_type": "stream",
          "name": "stdout",
          "text": [
            "env: SERVICE_ACCOUNT_USER=''\n",
            "env: SERVICE_ACCOUNT_JSON=''\n"
          ]
        },
        {
          "output_type": "execute_result",
          "data": {
            "text/plain": [
              "'shared_drive'"
            ],
            "application/vnd.google.colaboratory.intrinsic+json": {
              "type": "string"
            }
          },
          "metadata": {},
          "execution_count": 2
        }
      ],
      "source": [
        "import os\n",
        "if os.path.isfile('/content/monitor-rosa-leitura.json'):\n",
        "    datalake_mode = 'leitura'\n",
        "    %env SERVICE_ACCOUNT_USER=acesso-leitura@monitor-rosa.iam.gserviceaccount.com\n",
        "    %env SERVICE_ACCOUNT_JSON=/content/monitor-rosa-leitura.json\n",
        "elif os.path.isfile('/content/monitor-rosa-escrita.json'):\n",
        "    datalake_mode = 'escrita'\n",
        "    %env SERVICE_ACCOUNT_USER=acesso-escrita@monitor-rosa.iam.gserviceaccount.com\n",
        "    %env SERVICE_ACCOUNT_JSON=/content/monitor-rosa-escrita.json\n",
        "else:\n",
        "    assert(os.path.isdir('/content/drive/Shareddrives/monitor-rosa-gold') == True)\n",
        "    datalake_mode = 'shared_drive'\n",
        "    %env SERVICE_ACCOUNT_USER=''\n",
        "    %env SERVICE_ACCOUNT_JSON=''\n",
        "datalake_mode"
      ]
    },
    {
      "cell_type": "code",
      "execution_count": 3,
      "metadata": {
        "colab": {
          "base_uri": "https://localhost:8080/"
        },
        "id": "qxl5dgNHuCsK",
        "outputId": "00312263-71bf-4a45-896c-b9028c3c71d6"
      },
      "outputs": [
        {
          "output_type": "stream",
          "name": "stdout",
          "text": [
            "rm: cannot remove 'sus-kpis-analysis': No such file or directory\n",
            "Cloning into 'sus-kpis-analysis'...\n",
            "remote: Enumerating objects: 1934, done.\u001b[K\n",
            "remote: Counting objects: 100% (194/194), done.\u001b[K\n",
            "remote: Compressing objects: 100% (178/178), done.\u001b[K\n",
            "remote: Total 1934 (delta 124), reused 12 (delta 12), pack-reused 1740 (from 3)\u001b[K\n",
            "Receiving objects: 100% (1934/1934), 4.85 MiB | 13.14 MiB/s, done.\n",
            "Resolving deltas: 100% (924/924), done.\n"
          ]
        }
      ],
      "source": [
        "!rm -r sus-kpis-analysis\n",
        "!git clone https://github.com/heber-augusto/sus-kpis-analysis.git"
      ]
    },
    {
      "cell_type": "markdown",
      "metadata": {
        "id": "9NYsSZynDK9K"
      },
      "source": [
        "## Instalação de libs Python, inicialização de variáveis de ambiente e configuração/instalação do Spark"
      ]
    },
    {
      "cell_type": "code",
      "execution_count": 4,
      "metadata": {
        "colab": {
          "base_uri": "https://localhost:8080/"
        },
        "id": "6v3Wqjxhu4Gq",
        "outputId": "ed62a06e-35dc-432b-eb01-a37707b86afc"
      },
      "outputs": [
        {
          "output_type": "stream",
          "name": "stdout",
          "text": [
            "Collecting findspark (from -r /content/sus-kpis-analysis/sia/etls/requirements.txt (line 1))\n",
            "  Downloading findspark-2.0.1-py2.py3-none-any.whl.metadata (352 bytes)\n",
            "Requirement already satisfied: pyspark in /usr/local/lib/python3.11/dist-packages (from -r /content/sus-kpis-analysis/sia/etls/requirements.txt (line 2)) (3.5.5)\n",
            "Collecting imagehash (from -r /content/sus-kpis-analysis/sia/etls/requirements.txt (line 3))\n",
            "  Downloading ImageHash-4.3.2-py2.py3-none-any.whl.metadata (8.4 kB)\n",
            "Collecting delta-spark==2.4.0 (from -r /content/sus-kpis-analysis/sia/etls/requirements.txt (line 4))\n",
            "  Downloading delta_spark-2.4.0-py3-none-any.whl.metadata (1.9 kB)\n",
            "Requirement already satisfied: google-cloud-storage in /usr/local/lib/python3.11/dist-packages (from -r /content/sus-kpis-analysis/sia/etls/requirements.txt (line 5)) (2.19.0)\n",
            "Requirement already satisfied: pytz in /usr/local/lib/python3.11/dist-packages (from -r /content/sus-kpis-analysis/sia/etls/requirements.txt (line 6)) (2025.2)\n",
            "Requirement already satisfied: psutil in /usr/local/lib/python3.11/dist-packages (from -r /content/sus-kpis-analysis/sia/etls/requirements.txt (line 7)) (5.9.5)\n",
            "Requirement already satisfied: google-api-python-client in /usr/local/lib/python3.11/dist-packages (from -r /content/sus-kpis-analysis/sia/etls/requirements.txt (line 8)) (2.164.0)\n",
            "Collecting pyspark (from -r /content/sus-kpis-analysis/sia/etls/requirements.txt (line 2))\n",
            "  Downloading pyspark-3.4.4.tar.gz (311.4 MB)\n",
            "\u001b[2K     \u001b[90m━━━━━━━━━━━━━━━━━━━━━━━━━━━━━━━━━━━━━━━\u001b[0m \u001b[32m311.4/311.4 MB\u001b[0m \u001b[31m4.9 MB/s\u001b[0m eta \u001b[36m0:00:00\u001b[0m\n",
            "\u001b[?25h  Preparing metadata (setup.py) ... \u001b[?25l\u001b[?25hdone\n",
            "Requirement already satisfied: importlib-metadata>=1.0.0 in /usr/local/lib/python3.11/dist-packages (from delta-spark==2.4.0->-r /content/sus-kpis-analysis/sia/etls/requirements.txt (line 4)) (8.6.1)\n",
            "Requirement already satisfied: py4j==0.10.9.7 in /usr/local/lib/python3.11/dist-packages (from pyspark->-r /content/sus-kpis-analysis/sia/etls/requirements.txt (line 2)) (0.10.9.7)\n",
            "Collecting PyWavelets (from imagehash->-r /content/sus-kpis-analysis/sia/etls/requirements.txt (line 3))\n",
            "  Downloading pywavelets-1.8.0-cp311-cp311-manylinux_2_17_x86_64.manylinux2014_x86_64.whl.metadata (9.0 kB)\n",
            "Requirement already satisfied: numpy in /usr/local/lib/python3.11/dist-packages (from imagehash->-r /content/sus-kpis-analysis/sia/etls/requirements.txt (line 3)) (2.0.2)\n",
            "Requirement already satisfied: pillow in /usr/local/lib/python3.11/dist-packages (from imagehash->-r /content/sus-kpis-analysis/sia/etls/requirements.txt (line 3)) (11.1.0)\n",
            "Requirement already satisfied: scipy in /usr/local/lib/python3.11/dist-packages (from imagehash->-r /content/sus-kpis-analysis/sia/etls/requirements.txt (line 3)) (1.14.1)\n",
            "Requirement already satisfied: google-auth<3.0dev,>=2.26.1 in /usr/local/lib/python3.11/dist-packages (from google-cloud-storage->-r /content/sus-kpis-analysis/sia/etls/requirements.txt (line 5)) (2.38.0)\n",
            "Requirement already satisfied: google-api-core<3.0.0dev,>=2.15.0 in /usr/local/lib/python3.11/dist-packages (from google-cloud-storage->-r /content/sus-kpis-analysis/sia/etls/requirements.txt (line 5)) (2.24.2)\n",
            "Requirement already satisfied: google-cloud-core<3.0dev,>=2.3.0 in /usr/local/lib/python3.11/dist-packages (from google-cloud-storage->-r /content/sus-kpis-analysis/sia/etls/requirements.txt (line 5)) (2.4.3)\n",
            "Requirement already satisfied: google-resumable-media>=2.7.2 in /usr/local/lib/python3.11/dist-packages (from google-cloud-storage->-r /content/sus-kpis-analysis/sia/etls/requirements.txt (line 5)) (2.7.2)\n",
            "Requirement already satisfied: requests<3.0.0dev,>=2.18.0 in /usr/local/lib/python3.11/dist-packages (from google-cloud-storage->-r /content/sus-kpis-analysis/sia/etls/requirements.txt (line 5)) (2.32.3)\n",
            "Requirement already satisfied: google-crc32c<2.0dev,>=1.0 in /usr/local/lib/python3.11/dist-packages (from google-cloud-storage->-r /content/sus-kpis-analysis/sia/etls/requirements.txt (line 5)) (1.7.1)\n",
            "Requirement already satisfied: httplib2<1.dev0,>=0.19.0 in /usr/local/lib/python3.11/dist-packages (from google-api-python-client->-r /content/sus-kpis-analysis/sia/etls/requirements.txt (line 8)) (0.22.0)\n",
            "Requirement already satisfied: google-auth-httplib2<1.0.0,>=0.2.0 in /usr/local/lib/python3.11/dist-packages (from google-api-python-client->-r /content/sus-kpis-analysis/sia/etls/requirements.txt (line 8)) (0.2.0)\n",
            "Requirement already satisfied: uritemplate<5,>=3.0.1 in /usr/local/lib/python3.11/dist-packages (from google-api-python-client->-r /content/sus-kpis-analysis/sia/etls/requirements.txt (line 8)) (4.1.1)\n",
            "Requirement already satisfied: googleapis-common-protos<2.0.0,>=1.56.2 in /usr/local/lib/python3.11/dist-packages (from google-api-core<3.0.0dev,>=2.15.0->google-cloud-storage->-r /content/sus-kpis-analysis/sia/etls/requirements.txt (line 5)) (1.69.2)\n",
            "Requirement already satisfied: protobuf!=3.20.0,!=3.20.1,!=4.21.0,!=4.21.1,!=4.21.2,!=4.21.3,!=4.21.4,!=4.21.5,<7.0.0,>=3.19.5 in /usr/local/lib/python3.11/dist-packages (from google-api-core<3.0.0dev,>=2.15.0->google-cloud-storage->-r /content/sus-kpis-analysis/sia/etls/requirements.txt (line 5)) (5.29.4)\n",
            "Requirement already satisfied: proto-plus<2.0.0,>=1.22.3 in /usr/local/lib/python3.11/dist-packages (from google-api-core<3.0.0dev,>=2.15.0->google-cloud-storage->-r /content/sus-kpis-analysis/sia/etls/requirements.txt (line 5)) (1.26.1)\n",
            "Requirement already satisfied: cachetools<6.0,>=2.0.0 in /usr/local/lib/python3.11/dist-packages (from google-auth<3.0dev,>=2.26.1->google-cloud-storage->-r /content/sus-kpis-analysis/sia/etls/requirements.txt (line 5)) (5.5.2)\n",
            "Requirement already satisfied: pyasn1-modules>=0.2.1 in /usr/local/lib/python3.11/dist-packages (from google-auth<3.0dev,>=2.26.1->google-cloud-storage->-r /content/sus-kpis-analysis/sia/etls/requirements.txt (line 5)) (0.4.2)\n",
            "Requirement already satisfied: rsa<5,>=3.1.4 in /usr/local/lib/python3.11/dist-packages (from google-auth<3.0dev,>=2.26.1->google-cloud-storage->-r /content/sus-kpis-analysis/sia/etls/requirements.txt (line 5)) (4.9)\n",
            "Requirement already satisfied: pyparsing!=3.0.0,!=3.0.1,!=3.0.2,!=3.0.3,<4,>=2.4.2 in /usr/local/lib/python3.11/dist-packages (from httplib2<1.dev0,>=0.19.0->google-api-python-client->-r /content/sus-kpis-analysis/sia/etls/requirements.txt (line 8)) (3.2.3)\n",
            "Requirement already satisfied: zipp>=3.20 in /usr/local/lib/python3.11/dist-packages (from importlib-metadata>=1.0.0->delta-spark==2.4.0->-r /content/sus-kpis-analysis/sia/etls/requirements.txt (line 4)) (3.21.0)\n",
            "Requirement already satisfied: charset-normalizer<4,>=2 in /usr/local/lib/python3.11/dist-packages (from requests<3.0.0dev,>=2.18.0->google-cloud-storage->-r /content/sus-kpis-analysis/sia/etls/requirements.txt (line 5)) (3.4.1)\n",
            "Requirement already satisfied: idna<4,>=2.5 in /usr/local/lib/python3.11/dist-packages (from requests<3.0.0dev,>=2.18.0->google-cloud-storage->-r /content/sus-kpis-analysis/sia/etls/requirements.txt (line 5)) (3.10)\n",
            "Requirement already satisfied: urllib3<3,>=1.21.1 in /usr/local/lib/python3.11/dist-packages (from requests<3.0.0dev,>=2.18.0->google-cloud-storage->-r /content/sus-kpis-analysis/sia/etls/requirements.txt (line 5)) (2.3.0)\n",
            "Requirement already satisfied: certifi>=2017.4.17 in /usr/local/lib/python3.11/dist-packages (from requests<3.0.0dev,>=2.18.0->google-cloud-storage->-r /content/sus-kpis-analysis/sia/etls/requirements.txt (line 5)) (2025.1.31)\n",
            "Requirement already satisfied: pyasn1<0.7.0,>=0.6.1 in /usr/local/lib/python3.11/dist-packages (from pyasn1-modules>=0.2.1->google-auth<3.0dev,>=2.26.1->google-cloud-storage->-r /content/sus-kpis-analysis/sia/etls/requirements.txt (line 5)) (0.6.1)\n",
            "Downloading delta_spark-2.4.0-py3-none-any.whl (20 kB)\n",
            "Downloading findspark-2.0.1-py2.py3-none-any.whl (4.4 kB)\n",
            "Downloading ImageHash-4.3.2-py2.py3-none-any.whl (296 kB)\n",
            "\u001b[2K   \u001b[90m━━━━━━━━━━━━━━━━━━━━━━━━━━━━━━━━━━━━━━━━\u001b[0m \u001b[32m296.7/296.7 kB\u001b[0m \u001b[31m20.9 MB/s\u001b[0m eta \u001b[36m0:00:00\u001b[0m\n",
            "\u001b[?25hDownloading pywavelets-1.8.0-cp311-cp311-manylinux_2_17_x86_64.manylinux2014_x86_64.whl (4.5 MB)\n",
            "\u001b[2K   \u001b[90m━━━━━━━━━━━━━━━━━━━━━━━━━━━━━━━━━━━━━━━━\u001b[0m \u001b[32m4.5/4.5 MB\u001b[0m \u001b[31m70.0 MB/s\u001b[0m eta \u001b[36m0:00:00\u001b[0m\n",
            "\u001b[?25hBuilding wheels for collected packages: pyspark\n",
            "  Building wheel for pyspark (setup.py) ... \u001b[?25l\u001b[?25hdone\n",
            "  Created wheel for pyspark: filename=pyspark-3.4.4-py2.py3-none-any.whl size=311905464 sha256=f9667f7441fbc2199eb387aff62e09ad4cad9e10290344ae1b539d3c1afb636d\n",
            "  Stored in directory: /root/.cache/pip/wheels/6b/0a/a1/2b8f5f192c7df9fdceb8e5a62873d64e46b101f980519bcf55\n",
            "Successfully built pyspark\n",
            "Installing collected packages: findspark, PyWavelets, pyspark, imagehash, delta-spark\n",
            "  Attempting uninstall: pyspark\n",
            "    Found existing installation: pyspark 3.5.5\n",
            "    Uninstalling pyspark-3.5.5:\n",
            "      Successfully uninstalled pyspark-3.5.5\n",
            "\u001b[31mERROR: pip's dependency resolver does not currently take into account all the packages that are installed. This behaviour is the source of the following dependency conflicts.\n",
            "google-spark-connect 0.5.2 requires pyspark>=3.5, but you have pyspark 3.4.4 which is incompatible.\u001b[0m\u001b[31m\n",
            "\u001b[0mSuccessfully installed PyWavelets-1.8.0 delta-spark-2.4.0 findspark-2.0.1 imagehash-4.3.2 pyspark-3.4.4\n",
            "env: PYTHONHASHSEED=1234\n",
            "env: JAVA_HOME=/usr/lib/jvm/java-8-openjdk-amd64\n",
            "env: SPARK_HOME=/content/spark-3.4.4-bin-hadoop3\n",
            "env: SPARK_VERSION=3.4.4\n",
            "starting spark env setup \n",
            "installing and downloading packages\n",
            "W: Skipping acquire of configured file 'main/source/Sources' as repository 'https://r2u.stat.illinois.edu/ubuntu jammy InRelease' does not seem to provide it (sources.list entry misspelt?)\n",
            "setting enviroment variables\n",
            "spark env setup completed with success\n"
          ]
        }
      ],
      "source": [
        "!pip install -r /content/sus-kpis-analysis/sia/etls/requirements.txt\n",
        "\n",
        "%env PYTHONHASHSEED=1234\n",
        "%env JAVA_HOME=/usr/lib/jvm/java-8-openjdk-amd64\n",
        "%env SPARK_HOME=/content/spark-3.4.4-bin-hadoop3\n",
        "%env SPARK_VERSION=3.4.4\n",
        "\n",
        "!source /content/sus-kpis-analysis/sia/etls/bin/setup_spark_env.sh '/content/'"
      ]
    },
    {
      "cell_type": "code",
      "source": [
        "if datalake_mode != 'shared_drive':\n",
        "    %env XDG_CONFIG_HOME=/content/datalake\n",
        "    !source /content/sus-kpis-analysis/sia/etls/bin/install-google-drive-ocamlfuse.sh\n",
        "    !source /content/sus-kpis-analysis/sia/etls/bin/mount_google_drive_v2.sh '/content/datalake' $SERVICE_ACCOUNT_USER '0ABIY-a4qrdY9Uk9PVA' 'monitor-rosa-bronze' $SERVICE_ACCOUNT_JSON '/content'\n",
        "    !source /content/sus-kpis-analysis/sia/etls/bin/mount_google_drive_v2.sh '/content/datalake' $SERVICE_ACCOUNT_USER '0ALl0owLNr53oUk9PVA' 'monitor-rosa-silver' $SERVICE_ACCOUNT_JSON '/content'\n",
        "    !source /content/sus-kpis-analysis/sia/etls/bin/mount_google_drive_v2.sh '/content/datalake' $SERVICE_ACCOUNT_USER '0AMHp9pBeLvZiUk9PVA' 'monitor-rosa-gold' $SERVICE_ACCOUNT_JSON '/content'\n"
      ],
      "metadata": {
        "id": "-_O3K75fMh7K"
      },
      "execution_count": 5,
      "outputs": []
    },
    {
      "cell_type": "markdown",
      "metadata": {
        "id": "TT00Lo1mTJwu"
      },
      "source": [
        "## Inicializa variáveis de acesso ao delta lake criado no google storage\n",
        "\n",
        "- Local do arquivo de credencial do storage, diretorio do warehouse e path do spark:\n",
        "\n",
        "> O arquivo json_file_name deve ser enviado para o ambiente e deve ser utilizado um com as devidas permissões (em caso de escrita)\n",
        "\n",
        "> O caminho do warehouse pode ser alterado em caso de testes de escritas locais.\n",
        "\n",
        "> O caminho do spark é setado pelo script de configuração"
      ]
    },
    {
      "cell_type": "code",
      "execution_count": 6,
      "metadata": {
        "colab": {
          "base_uri": "https://localhost:8080/",
          "height": 35
        },
        "id": "LLT8gGOcekpW",
        "outputId": "31be0447-2d69-4596-84a5-d0daa1d04548"
      },
      "outputs": [
        {
          "output_type": "execute_result",
          "data": {
            "text/plain": [
              "'/content/spark-3.4.4-bin-hadoop3'"
            ],
            "application/vnd.google.colaboratory.intrinsic+json": {
              "type": "string"
            }
          },
          "metadata": {},
          "execution_count": 6
        }
      ],
      "source": [
        "import os\n",
        "\n",
        "lake_prefix = \"temp-output\"\n",
        "\n",
        "if datalake_mode in ('leitura','shared_drive',):\n",
        "    warehouse_dir = f\"/content/datalake/{lake_prefix}/\"\n",
        "\n",
        "if datalake_mode == 'escrita':\n",
        "    warehouse_dir = f\"/content/datalake/\"\n",
        "\n",
        "spark_path = os.getenv('SPARK_HOME')\n",
        "spark_path"
      ]
    },
    {
      "cell_type": "markdown",
      "metadata": {
        "id": "SpzMUcNg3k8d"
      },
      "source": [
        "## Inclusão da pasta do repositório no python path\n",
        "\n",
        "Procedimento permite que funções e classes presentes no repositório sejam utilizadas"
      ]
    },
    {
      "cell_type": "code",
      "execution_count": 7,
      "metadata": {
        "colab": {
          "base_uri": "https://localhost:8080/"
        },
        "id": "a-dOrv8t0IMZ",
        "outputId": "f149069c-1126-4efe-8587-c636c7ad3d16"
      },
      "outputs": [
        {
          "output_type": "execute_result",
          "data": {
            "text/plain": [
              "['/content',\n",
              " '/env/python',\n",
              " '/usr/lib/python311.zip',\n",
              " '/usr/lib/python3.11',\n",
              " '/usr/lib/python3.11/lib-dynload',\n",
              " '',\n",
              " '/usr/local/lib/python3.11/dist-packages',\n",
              " '/usr/lib/python3/dist-packages',\n",
              " '/usr/local/lib/python3.11/dist-packages/IPython/extensions',\n",
              " '/root/.ipython',\n",
              " '/content/sus-kpis-analysis']"
            ]
          },
          "metadata": {},
          "execution_count": 7
        }
      ],
      "source": [
        "import sys\n",
        "sys.path.append('/content/sus-kpis-analysis')\n",
        "sys.path"
      ]
    },
    {
      "cell_type": "markdown",
      "metadata": {
        "id": "ptGWtMYSIXtw"
      },
      "source": [
        "## Importação de funções utilizadas pelo código"
      ]
    },
    {
      "cell_type": "code",
      "execution_count": 8,
      "metadata": {
        "id": "GYbxgrEQz3Sn"
      },
      "outputs": [],
      "source": [
        "from sia.etls.lib.catalog_loader import DeltaLakeDatabaseFsCreator, load_entire_catalog_fs, load_entire_catalog_fs_v2\n",
        "from sia.etls.lib.table_utilities import vacuum_tables_from_database, table_exists\n",
        "from sia.etls.lib.fs_spark_session import create_fs_spark_session\n",
        "from sia.etls.lib.bronze_files_utilities import get_pending_files_from_bronze\n",
        "from sia.etls.lib.delta_table_creators import ParquetToDelta"
      ]
    },
    {
      "cell_type": "markdown",
      "metadata": {
        "id": "9LWOtjtk33d6"
      },
      "source": [
        "## Cria Sessão Spark conectada ao Delta Lake presente no Google Storage"
      ]
    },
    {
      "cell_type": "code",
      "execution_count": 9,
      "metadata": {
        "id": "ETM5T_gkDvAP"
      },
      "outputs": [],
      "source": [
        "spark = create_fs_spark_session(\n",
        "    warehouse_dir=warehouse_dir,\n",
        "    spark_path=spark_path\n",
        ")\n"
      ]
    },
    {
      "cell_type": "markdown",
      "metadata": {
        "id": "t8lBJqvC4Cak"
      },
      "source": [
        "## Refresh do catálogo para utilizar consultas"
      ]
    },
    {
      "cell_type": "code",
      "source": [
        "zone_names = ['monitor-rosa-bronze', 'monitor-rosa-silver', 'monitor-rosa-gold']\n",
        "zone_names = ['monitor-rosa-silver', 'monitor-rosa-gold']\n",
        "if datalake_mode in ('leitura', 'escrita'):\n",
        "    zone_paths = [f'/content/datalake/{zone_name}/databases' for zone_name in zone_names]\n",
        "else:\n",
        "    zone_paths = [f'/content/drive/Shareddrives/{zone_name}/databases' for zone_name in zone_names]\n",
        "\n",
        "\n",
        "# carrega catalogo de banco de dados, na zona bronze\n",
        "database_filter = None #['cnes_bronze.db',]\n",
        "table_filter = None #['cnes_bronze.sr',]\n",
        "\n",
        "for databases_path in zone_paths:\n",
        "    load_entire_catalog_fs_v2(\n",
        "        spark_session = spark,\n",
        "        databases_path = databases_path,\n",
        "        use_db_folder_path=(datalake_mode == 'escrita'),\n",
        "        database_filter=database_filter,\n",
        "        table_filter=table_filter\n",
        "    )"
      ],
      "metadata": {
        "colab": {
          "base_uri": "https://localhost:8080/"
        },
        "id": "nvYjAMOAyNmj",
        "outputId": "aa0ee0bc-a0f2-4265-91c7-00814771114d"
      },
      "execution_count": 10,
      "outputs": [
        {
          "output_type": "stream",
          "name": "stdout",
          "text": [
            "['cancer_data.db', 'ibge_silver.db', 'cancer_mama_silver.db']\n",
            "Banco de dados cancer_data criado.\n",
            "listando conteúdos do caminho /content/drive/Shareddrives/monitor-rosa-silver/databases e database cancer_data\n",
            "prefix: /content/drive/Shareddrives/monitor-rosa-silver/databases/cancer_data.db/\n",
            "table_list: ['aq_filtered', 'ar_filtered', 'dados_estados_mensal', 'dados_municipios_mensal', 'pacientes', 'procedimentos', 'procedimentos_e_pacientes', 'demografia_municipios', 'cadastro_municipios']\n",
            "Tabela aq_filtered criada\n",
            "Tabela aq_filtered criada com comando CREATE TABLE IF NOT EXISTS cancer_data.aq_filtered USING delta LOCATION '/content/drive/Shareddrives/monitor-rosa-silver/databases/cancer_data.db/aq_filtered'\n",
            "Tabela ar_filtered criada\n",
            "Tabela ar_filtered criada com comando CREATE TABLE IF NOT EXISTS cancer_data.ar_filtered USING delta LOCATION '/content/drive/Shareddrives/monitor-rosa-silver/databases/cancer_data.db/ar_filtered'\n",
            "Tabela dados_estados_mensal criada\n",
            "Tabela dados_estados_mensal criada com comando CREATE TABLE IF NOT EXISTS cancer_data.dados_estados_mensal USING delta LOCATION '/content/drive/Shareddrives/monitor-rosa-silver/databases/cancer_data.db/dados_estados_mensal'\n",
            "Tabela dados_municipios_mensal criada\n",
            "Tabela dados_municipios_mensal criada com comando CREATE TABLE IF NOT EXISTS cancer_data.dados_municipios_mensal USING delta LOCATION '/content/drive/Shareddrives/monitor-rosa-silver/databases/cancer_data.db/dados_municipios_mensal'\n",
            "Tabela pacientes criada\n",
            "Tabela pacientes criada com comando CREATE TABLE IF NOT EXISTS cancer_data.pacientes USING delta LOCATION '/content/drive/Shareddrives/monitor-rosa-silver/databases/cancer_data.db/pacientes'\n",
            "Tabela procedimentos criada\n",
            "Tabela procedimentos criada com comando CREATE TABLE IF NOT EXISTS cancer_data.procedimentos USING delta LOCATION '/content/drive/Shareddrives/monitor-rosa-silver/databases/cancer_data.db/procedimentos'\n",
            "Tabela procedimentos_e_pacientes criada\n",
            "Tabela procedimentos_e_pacientes criada com comando CREATE TABLE IF NOT EXISTS cancer_data.procedimentos_e_pacientes USING delta LOCATION '/content/drive/Shareddrives/monitor-rosa-silver/databases/cancer_data.db/procedimentos_e_pacientes'\n",
            "Tabela demografia_municipios criada\n",
            "Tabela demografia_municipios criada com comando CREATE TABLE IF NOT EXISTS cancer_data.demografia_municipios USING delta LOCATION '/content/drive/Shareddrives/monitor-rosa-silver/databases/cancer_data.db/demografia_municipios'\n",
            "Tabela cadastro_municipios criada\n",
            "Tabela cadastro_municipios criada com comando CREATE TABLE IF NOT EXISTS cancer_data.cadastro_municipios USING delta LOCATION '/content/drive/Shareddrives/monitor-rosa-silver/databases/cancer_data.db/cadastro_municipios'\n",
            "Recriação das tabelas concluída.\n",
            "Banco de dados ibge_silver criado.\n",
            "listando conteúdos do caminho /content/drive/Shareddrives/monitor-rosa-silver/databases e database ibge_silver\n",
            "prefix: /content/drive/Shareddrives/monitor-rosa-silver/databases/ibge_silver.db/\n",
            "table_list: ['cadastro_municipios', 'demografia_municipios']\n",
            "Tabela cadastro_municipios criada\n",
            "Tabela cadastro_municipios criada com comando CREATE TABLE IF NOT EXISTS ibge_silver.cadastro_municipios USING delta LOCATION '/content/drive/Shareddrives/monitor-rosa-silver/databases/ibge_silver.db/cadastro_municipios'\n",
            "Tabela demografia_municipios criada\n",
            "Tabela demografia_municipios criada com comando CREATE TABLE IF NOT EXISTS ibge_silver.demografia_municipios USING delta LOCATION '/content/drive/Shareddrives/monitor-rosa-silver/databases/ibge_silver.db/demografia_municipios'\n",
            "Recriação das tabelas concluída.\n",
            "Banco de dados cancer_mama_silver criado.\n",
            "listando conteúdos do caminho /content/drive/Shareddrives/monitor-rosa-silver/databases e database cancer_mama_silver\n",
            "prefix: /content/drive/Shareddrives/monitor-rosa-silver/databases/cancer_mama_silver.db/\n",
            "table_list: ['ar_filtered', 'aq_filtered']\n",
            "Tabela ar_filtered criada\n",
            "Tabela ar_filtered criada com comando CREATE TABLE IF NOT EXISTS cancer_mama_silver.ar_filtered USING delta LOCATION '/content/drive/Shareddrives/monitor-rosa-silver/databases/cancer_mama_silver.db/ar_filtered'\n",
            "Tabela aq_filtered criada\n",
            "Tabela aq_filtered criada com comando CREATE TABLE IF NOT EXISTS cancer_mama_silver.aq_filtered USING delta LOCATION '/content/drive/Shareddrives/monitor-rosa-silver/databases/cancer_mama_silver.db/aq_filtered'\n",
            "Recriação das tabelas concluída.\n",
            "['cancer_mama.db']\n",
            "Banco de dados cancer_mama criado.\n",
            "listando conteúdos do caminho /content/drive/Shareddrives/monitor-rosa-gold/databases e database cancer_mama\n",
            "prefix: /content/drive/Shareddrives/monitor-rosa-gold/databases/cancer_mama.db/\n",
            "table_list: ['procedimentos', 'pacientes', 'procedimentos_e_pacientes', 'dados_municipios_mensal', 'dados_estados_mensal']\n",
            "Tabela procedimentos criada\n",
            "Tabela procedimentos criada com comando CREATE TABLE IF NOT EXISTS cancer_mama.procedimentos USING delta LOCATION '/content/drive/Shareddrives/monitor-rosa-gold/databases/cancer_mama.db/procedimentos'\n",
            "Tabela pacientes criada\n",
            "Tabela pacientes criada com comando CREATE TABLE IF NOT EXISTS cancer_mama.pacientes USING delta LOCATION '/content/drive/Shareddrives/monitor-rosa-gold/databases/cancer_mama.db/pacientes'\n",
            "Tabela procedimentos_e_pacientes criada\n",
            "Tabela procedimentos_e_pacientes criada com comando CREATE TABLE IF NOT EXISTS cancer_mama.procedimentos_e_pacientes USING delta LOCATION '/content/drive/Shareddrives/monitor-rosa-gold/databases/cancer_mama.db/procedimentos_e_pacientes'\n",
            "Tabela dados_municipios_mensal criada\n",
            "Tabela dados_municipios_mensal criada com comando CREATE TABLE IF NOT EXISTS cancer_mama.dados_municipios_mensal USING delta LOCATION '/content/drive/Shareddrives/monitor-rosa-gold/databases/cancer_mama.db/dados_municipios_mensal'\n",
            "Tabela dados_estados_mensal criada\n",
            "Tabela dados_estados_mensal criada com comando CREATE TABLE IF NOT EXISTS cancer_mama.dados_estados_mensal USING delta LOCATION '/content/drive/Shareddrives/monitor-rosa-gold/databases/cancer_mama.db/dados_estados_mensal'\n",
            "Recriação das tabelas concluída.\n"
          ]
        }
      ]
    },
    {
      "cell_type": "markdown",
      "metadata": {
        "id": "xj_tPdPNIj7o"
      },
      "source": [
        "# Exemplos de consultas"
      ]
    },
    {
      "cell_type": "markdown",
      "metadata": {
        "id": "PeQru0rTIfct"
      },
      "source": [
        "## Listagem de bancos e tabelas"
      ]
    },
    {
      "cell_type": "code",
      "execution_count": 11,
      "metadata": {
        "colab": {
          "base_uri": "https://localhost:8080/"
        },
        "id": "qJybgzFHU5as",
        "outputId": "2174289e-6f94-4cce-a021-a0d3358ba246"
      },
      "outputs": [
        {
          "output_type": "stream",
          "name": "stdout",
          "text": [
            "+------------------+\n",
            "|         namespace|\n",
            "+------------------+\n",
            "|       cancer_data|\n",
            "|       cancer_mama|\n",
            "|cancer_mama_silver|\n",
            "|           default|\n",
            "|       ibge_silver|\n",
            "+------------------+\n",
            "\n"
          ]
        }
      ],
      "source": [
        "databases = spark.sql(f\"SHOW DATABASES;\")\n",
        "databases.show()"
      ]
    },
    {
      "cell_type": "code",
      "execution_count": 12,
      "metadata": {
        "colab": {
          "base_uri": "https://localhost:8080/"
        },
        "id": "BYbmd2NNH3iZ",
        "outputId": "e21031f2-91dd-4b4e-baa4-7a728d65ea29"
      },
      "outputs": [
        {
          "output_type": "stream",
          "name": "stdout",
          "text": [
            "+-----------+-------------------------+-----------+\n",
            "|namespace  |tableName                |isTemporary|\n",
            "+-----------+-------------------------+-----------+\n",
            "|cancer_data|aq_filtered              |false      |\n",
            "|cancer_data|ar_filtered              |false      |\n",
            "|cancer_data|cadastro_municipios      |false      |\n",
            "|cancer_data|dados_estados_mensal     |false      |\n",
            "|cancer_data|dados_municipios_mensal  |false      |\n",
            "|cancer_data|demografia_municipios    |false      |\n",
            "|cancer_data|pacientes                |false      |\n",
            "|cancer_data|procedimentos            |false      |\n",
            "|cancer_data|procedimentos_e_pacientes|false      |\n",
            "+-----------+-------------------------+-----------+\n",
            "\n",
            "+-----------+-------------------------+-----------+\n",
            "|namespace  |tableName                |isTemporary|\n",
            "+-----------+-------------------------+-----------+\n",
            "|cancer_mama|dados_estados_mensal     |false      |\n",
            "|cancer_mama|dados_municipios_mensal  |false      |\n",
            "|cancer_mama|pacientes                |false      |\n",
            "|cancer_mama|procedimentos            |false      |\n",
            "|cancer_mama|procedimentos_e_pacientes|false      |\n",
            "+-----------+-------------------------+-----------+\n",
            "\n",
            "+------------------+-----------+-----------+\n",
            "|namespace         |tableName  |isTemporary|\n",
            "+------------------+-----------+-----------+\n",
            "|cancer_mama_silver|aq_filtered|false      |\n",
            "|cancer_mama_silver|ar_filtered|false      |\n",
            "+------------------+-----------+-----------+\n",
            "\n",
            "+---------+---------+-----------+\n",
            "|namespace|tableName|isTemporary|\n",
            "+---------+---------+-----------+\n",
            "+---------+---------+-----------+\n",
            "\n",
            "+-----------+---------------------+-----------+\n",
            "|namespace  |tableName            |isTemporary|\n",
            "+-----------+---------------------+-----------+\n",
            "|ibge_silver|cadastro_municipios  |false      |\n",
            "|ibge_silver|demografia_municipios|false      |\n",
            "+-----------+---------------------+-----------+\n",
            "\n"
          ]
        }
      ],
      "source": [
        "for row in databases.collect():\n",
        "    spark.sql(f\"SHOW TABLES FROM {row['namespace']};\").show(truncate=False)"
      ]
    },
    {
      "cell_type": "code",
      "source": [
        "dados_estad_mensal_df = spark.sql(f\"\"\"\n",
        "    SELECT\n",
        "        year(to_date(data, 'yyyyMM')) AS ano\n",
        "        ,primeiro_estadiamento\n",
        "        --SUM(custo) AS custo_estadiamento\n",
        "        ,COUNT(DISTINCT(paciente)) AS numero_pacientes\n",
        "        --,SUM(DISTINCT(obito)) AS obitos\n",
        "        --,SUM(DISTINCT(indicacao_obito)) AS obito_futuro\n",
        "        --,COUNT(1) AS numero_procedimentos\n",
        "    FROM\n",
        "        (SELECT * FROM cancer_mama.procedimentos_e_pacientes ORDER BY data)\n",
        "    GROUP BY ano, primeiro_estadiamento\n",
        "\"\"\")\n"
      ],
      "metadata": {
        "id": "yQBZRW1oRWYl"
      },
      "execution_count": 13,
      "outputs": []
    },
    {
      "cell_type": "code",
      "source": [
        "df = dados_estad_mensal_df.toPandas()"
      ],
      "metadata": {
        "id": "8g3VEuI8UphS"
      },
      "execution_count": 14,
      "outputs": []
    },
    {
      "cell_type": "code",
      "source": [
        "# prompt: Usando o DataFrame df: stacked percentage of numero_pacientes by ano and estadiamento, using 0 in the bottom, and 1, 2, 3, 4 ordered to the top\n",
        "\n",
        "import pandas as pd\n",
        "import altair as alt\n",
        "\n",
        "# Create a DataFrame (replace with your actual data)\n",
        "# Assuming your DataFrame is named 'df'\n",
        "\n",
        "# Convert 'primeiro_estadiamento' to numeric, handling errors\n",
        "df['primeiro_estadiamento'] = pd.to_numeric(df['primeiro_estadiamento'], errors='coerce')\n",
        "\n",
        "# Group by 'ano' and 'primeiro_estadiamento'\n",
        "grouped_data = df.groupby(['ano', 'primeiro_estadiamento'])['numero_pacientes'].sum().reset_index()\n",
        "\n",
        "# Calculate the total number of patients for each year\n",
        "total_patients = grouped_data.groupby('ano')['numero_pacientes'].sum()\n",
        "\n",
        "# Calculate the percentage for each group within each year\n",
        "grouped_data['percentage'] = grouped_data.apply(lambda x: (x['numero_pacientes'] / total_patients[x['ano']]) * 100, axis=1)\n",
        "\n",
        "# Create the stacked percentage chart using Altair\n",
        "chart = alt.Chart(grouped_data).mark_bar().encode(\n",
        "    x='ano:N',  # Categorical x-axis for years\n",
        "    y=alt.Y('percentage:Q', stack='normalize', axis=alt.Axis(format='%')), # Stacked percentage with percentage formatting\n",
        "    color=alt.Color('primeiro_estadiamento:N', sort='ascending'),  # Color by stage\n",
        "    order=alt.Order('primeiro_estadiamento:N', sort='ascending')  # Order bars by stage\n",
        ").properties(\n",
        "    title='Stacked Percentage of Patients by Year and Stage'\n",
        ")\n",
        "chart\n"
      ],
      "metadata": {
        "id": "hwhuFiPRWIib",
        "outputId": "c916e037-66b8-4e0a-f798-159b0e901794",
        "colab": {
          "base_uri": "https://localhost:8080/",
          "height": 398
        }
      },
      "execution_count": 15,
      "outputs": [
        {
          "output_type": "execute_result",
          "data": {
            "text/html": [
              "\n",
              "<style>\n",
              "  #altair-viz-a01bc7106b1f43b3baa3236f662fe222.vega-embed {\n",
              "    width: 100%;\n",
              "    display: flex;\n",
              "  }\n",
              "\n",
              "  #altair-viz-a01bc7106b1f43b3baa3236f662fe222.vega-embed details,\n",
              "  #altair-viz-a01bc7106b1f43b3baa3236f662fe222.vega-embed details summary {\n",
              "    position: relative;\n",
              "  }\n",
              "</style>\n",
              "<div id=\"altair-viz-a01bc7106b1f43b3baa3236f662fe222\"></div>\n",
              "<script type=\"text/javascript\">\n",
              "  var VEGA_DEBUG = (typeof VEGA_DEBUG == \"undefined\") ? {} : VEGA_DEBUG;\n",
              "  (function(spec, embedOpt){\n",
              "    let outputDiv = document.currentScript.previousElementSibling;\n",
              "    if (outputDiv.id !== \"altair-viz-a01bc7106b1f43b3baa3236f662fe222\") {\n",
              "      outputDiv = document.getElementById(\"altair-viz-a01bc7106b1f43b3baa3236f662fe222\");\n",
              "    }\n",
              "\n",
              "    const paths = {\n",
              "      \"vega\": \"https://cdn.jsdelivr.net/npm/vega@5?noext\",\n",
              "      \"vega-lib\": \"https://cdn.jsdelivr.net/npm/vega-lib?noext\",\n",
              "      \"vega-lite\": \"https://cdn.jsdelivr.net/npm/vega-lite@5.20.1?noext\",\n",
              "      \"vega-embed\": \"https://cdn.jsdelivr.net/npm/vega-embed@6?noext\",\n",
              "    };\n",
              "\n",
              "    function maybeLoadScript(lib, version) {\n",
              "      var key = `${lib.replace(\"-\", \"\")}_version`;\n",
              "      return (VEGA_DEBUG[key] == version) ?\n",
              "        Promise.resolve(paths[lib]) :\n",
              "        new Promise(function(resolve, reject) {\n",
              "          var s = document.createElement('script');\n",
              "          document.getElementsByTagName(\"head\")[0].appendChild(s);\n",
              "          s.async = true;\n",
              "          s.onload = () => {\n",
              "            VEGA_DEBUG[key] = version;\n",
              "            return resolve(paths[lib]);\n",
              "          };\n",
              "          s.onerror = () => reject(`Error loading script: ${paths[lib]}`);\n",
              "          s.src = paths[lib];\n",
              "        });\n",
              "    }\n",
              "\n",
              "    function showError(err) {\n",
              "      outputDiv.innerHTML = `<div class=\"error\" style=\"color:red;\">${err}</div>`;\n",
              "      throw err;\n",
              "    }\n",
              "\n",
              "    function displayChart(vegaEmbed) {\n",
              "      vegaEmbed(outputDiv, spec, embedOpt)\n",
              "        .catch(err => showError(`Javascript Error: ${err.message}<br>This usually means there's a typo in your chart specification. See the javascript console for the full traceback.`));\n",
              "    }\n",
              "\n",
              "    if(typeof define === \"function\" && define.amd) {\n",
              "      requirejs.config({paths});\n",
              "      let deps = [\"vega-embed\"];\n",
              "      require(deps, displayChart, err => showError(`Error loading script: ${err.message}`));\n",
              "    } else {\n",
              "      maybeLoadScript(\"vega\", \"5\")\n",
              "        .then(() => maybeLoadScript(\"vega-lite\", \"5.20.1\"))\n",
              "        .then(() => maybeLoadScript(\"vega-embed\", \"6\"))\n",
              "        .catch(showError)\n",
              "        .then(() => displayChart(vegaEmbed));\n",
              "    }\n",
              "  })({\"config\": {\"view\": {\"continuousWidth\": 300, \"continuousHeight\": 300}}, \"data\": {\"name\": \"data-d688afa8175f5cdd13c7094394b91679\"}, \"mark\": {\"type\": \"bar\"}, \"encoding\": {\"color\": {\"field\": \"primeiro_estadiamento\", \"sort\": \"ascending\", \"type\": \"nominal\"}, \"order\": {\"field\": \"primeiro_estadiamento\", \"sort\": \"ascending\", \"type\": \"nominal\"}, \"x\": {\"field\": \"ano\", \"type\": \"nominal\"}, \"y\": {\"axis\": {\"format\": \"%\"}, \"field\": \"percentage\", \"stack\": \"normalize\", \"type\": \"quantitative\"}}, \"title\": \"Stacked Percentage of Patients by Year and Stage\", \"$schema\": \"https://vega.github.io/schema/vega-lite/v5.20.1.json\", \"datasets\": {\"data-d688afa8175f5cdd13c7094394b91679\": [{\"ano\": 2008, \"primeiro_estadiamento\": 0.0, \"numero_pacientes\": 4558, \"percentage\": 3.816269801399913}, {\"ano\": 2008, \"primeiro_estadiamento\": 1.0, \"numero_pacientes\": 23209, \"percentage\": 19.43216450651395}, {\"ano\": 2008, \"primeiro_estadiamento\": 2.0, \"numero_pacientes\": 46113, \"percentage\": 38.60896212197327}, {\"ano\": 2008, \"primeiro_estadiamento\": 3.0, \"numero_pacientes\": 32729, \"percentage\": 27.402960581399245}, {\"ano\": 2008, \"primeiro_estadiamento\": 4.0, \"numero_pacientes\": 12827, \"percentage\": 10.739642988713621}, {\"ano\": 2009, \"primeiro_estadiamento\": 0.0, \"numero_pacientes\": 4758, \"percentage\": 3.7836677243123313}, {\"ano\": 2009, \"primeiro_estadiamento\": 1.0, \"numero_pacientes\": 24907, \"percentage\": 19.806601935571088}, {\"ano\": 2009, \"primeiro_estadiamento\": 2.0, \"numero_pacientes\": 47657, \"percentage\": 37.89790936056174}, {\"ano\": 2009, \"primeiro_estadiamento\": 3.0, \"numero_pacientes\": 36430, \"percentage\": 28.969948549116904}, {\"ano\": 2009, \"primeiro_estadiamento\": 4.0, \"numero_pacientes\": 11999, \"percentage\": 9.54187243043793}, {\"ano\": 2010, \"primeiro_estadiamento\": 0.0, \"numero_pacientes\": 5049, \"percentage\": 3.80087023291528}, {\"ano\": 2010, \"primeiro_estadiamento\": 1.0, \"numero_pacientes\": 26813, \"percentage\": 20.184736295337178}, {\"ano\": 2010, \"primeiro_estadiamento\": 2.0, \"numero_pacientes\": 49214, \"percentage\": 37.04813381713064}, {\"ano\": 2010, \"primeiro_estadiamento\": 3.0, \"numero_pacientes\": 40051, \"percentage\": 30.150258209247355}, {\"ano\": 2010, \"primeiro_estadiamento\": 4.0, \"numero_pacientes\": 11711, \"percentage\": 8.816001445369547}, {\"ano\": 2011, \"primeiro_estadiamento\": 0.0, \"numero_pacientes\": 5234, \"percentage\": 3.734570103460578}, {\"ano\": 2011, \"primeiro_estadiamento\": 1.0, \"numero_pacientes\": 29103, \"percentage\": 20.765608276846237}, {\"ano\": 2011, \"primeiro_estadiamento\": 2.0, \"numero_pacientes\": 51056, \"percentage\": 36.42953977880842}, {\"ano\": 2011, \"primeiro_estadiamento\": 3.0, \"numero_pacientes\": 43126, \"percentage\": 30.771316446664287}, {\"ano\": 2011, \"primeiro_estadiamento\": 4.0, \"numero_pacientes\": 11631, \"percentage\": 8.298965394220478}, {\"ano\": 2012, \"primeiro_estadiamento\": 0.0, \"numero_pacientes\": 5960, \"percentage\": 3.9573982098749036}, {\"ano\": 2012, \"primeiro_estadiamento\": 1.0, \"numero_pacientes\": 32046, \"percentage\": 21.27831930094818}, {\"ano\": 2012, \"primeiro_estadiamento\": 2.0, \"numero_pacientes\": 54215, \"percentage\": 35.99837985710871}, {\"ano\": 2012, \"primeiro_estadiamento\": 3.0, \"numero_pacientes\": 46232, \"percentage\": 30.697723832036335}, {\"ano\": 2012, \"primeiro_estadiamento\": 4.0, \"numero_pacientes\": 12151, \"percentage\": 8.068178800031871}, {\"ano\": 2013, \"primeiro_estadiamento\": 0.0, \"numero_pacientes\": 6438, \"percentage\": 4.017623124734779}, {\"ano\": 2013, \"primeiro_estadiamento\": 1.0, \"numero_pacientes\": 34599, \"percentage\": 21.591448041736353}, {\"ano\": 2013, \"primeiro_estadiamento\": 2.0, \"numero_pacientes\": 56773, \"percentage\": 35.42909562916552}, {\"ano\": 2013, \"primeiro_estadiamento\": 3.0, \"numero_pacientes\": 49708, \"percentage\": 31.020194203839146}, {\"ano\": 2013, \"primeiro_estadiamento\": 4.0, \"numero_pacientes\": 12726, \"percentage\": 7.941639000524201}, {\"ano\": 2014, \"primeiro_estadiamento\": 0.0, \"numero_pacientes\": 6168, \"percentage\": 3.614945054945055}, {\"ano\": 2014, \"primeiro_estadiamento\": 1.0, \"numero_pacientes\": 37033, \"percentage\": 21.704322344322343}, {\"ano\": 2014, \"primeiro_estadiamento\": 2.0, \"numero_pacientes\": 60196, \"percentage\": 35.27970695970696}, {\"ano\": 2014, \"primeiro_estadiamento\": 3.0, \"numero_pacientes\": 53362, \"percentage\": 31.274432234432236}, {\"ano\": 2014, \"primeiro_estadiamento\": 4.0, \"numero_pacientes\": 13866, \"percentage\": 8.126593406593406}, {\"ano\": 2015, \"primeiro_estadiamento\": 0.0, \"numero_pacientes\": 5988, \"percentage\": 3.458812520577855}, {\"ano\": 2015, \"primeiro_estadiamento\": 1.0, \"numero_pacientes\": 37008, \"percentage\": 21.376709045014238}, {\"ano\": 2015, \"primeiro_estadiamento\": 2.0, \"numero_pacientes\": 60020, \"percentage\": 34.6689925659791}, {\"ano\": 2015, \"primeiro_estadiamento\": 3.0, \"numero_pacientes\": 55537, \"percentage\": 32.07950416755717}, {\"ano\": 2015, \"primeiro_estadiamento\": 4.0, \"numero_pacientes\": 14570, \"percentage\": 8.415981700871635}, {\"ano\": 2016, \"primeiro_estadiamento\": 0.0, \"numero_pacientes\": 6215, \"percentage\": 3.521465927054944}, {\"ano\": 2016, \"primeiro_estadiamento\": 1.0, \"numero_pacientes\": 37477, \"percentage\": 21.234751174294146}, {\"ano\": 2016, \"primeiro_estadiamento\": 2.0, \"numero_pacientes\": 60381, \"percentage\": 34.21233051351643}, {\"ano\": 2016, \"primeiro_estadiamento\": 3.0, \"numero_pacientes\": 57123, \"percentage\": 32.36632311362182}, {\"ano\": 2016, \"primeiro_estadiamento\": 4.0, \"numero_pacientes\": 15293, \"percentage\": 8.665129271512672}, {\"ano\": 2017, \"primeiro_estadiamento\": 0.0, \"numero_pacientes\": 6679, \"percentage\": 3.5843082537297413}, {\"ano\": 2017, \"primeiro_estadiamento\": 1.0, \"numero_pacientes\": 39288, \"percentage\": 21.084039927015134}, {\"ano\": 2017, \"primeiro_estadiamento\": 2.0, \"numero_pacientes\": 63446, \"percentage\": 34.048513470001076}, {\"ano\": 2017, \"primeiro_estadiamento\": 3.0, \"numero_pacientes\": 60971, \"percentage\": 32.720296232692924}, {\"ano\": 2017, \"primeiro_estadiamento\": 4.0, \"numero_pacientes\": 15956, \"percentage\": 8.562842116561125}, {\"ano\": 2018, \"primeiro_estadiamento\": 0.0, \"numero_pacientes\": 6793, \"percentage\": 3.4746803069053707}, {\"ano\": 2018, \"primeiro_estadiamento\": 1.0, \"numero_pacientes\": 40907, \"percentage\": 20.924296675191815}, {\"ano\": 2018, \"primeiro_estadiamento\": 2.0, \"numero_pacientes\": 65783, \"percentage\": 33.648593350383635}, {\"ano\": 2018, \"primeiro_estadiamento\": 3.0, \"numero_pacientes\": 64754, \"percentage\": 33.122250639386195}, {\"ano\": 2018, \"primeiro_estadiamento\": 4.0, \"numero_pacientes\": 17263, \"percentage\": 8.830179028132992}, {\"ano\": 2019, \"primeiro_estadiamento\": 0.0, \"numero_pacientes\": 6959, \"percentage\": 3.380534842486216}, {\"ano\": 2019, \"primeiro_estadiamento\": 1.0, \"numero_pacientes\": 42547, \"percentage\": 20.668431663063807}, {\"ano\": 2019, \"primeiro_estadiamento\": 2.0, \"numero_pacientes\": 68816, \"percentage\": 33.42935561438877}, {\"ano\": 2019, \"primeiro_estadiamento\": 3.0, \"numero_pacientes\": 69058, \"percentage\": 33.546914090014816}, {\"ano\": 2019, \"primeiro_estadiamento\": 4.0, \"numero_pacientes\": 18475, \"percentage\": 8.974763790046392}, {\"ano\": 2020, \"primeiro_estadiamento\": 0.0, \"numero_pacientes\": 6976, \"percentage\": 3.304594978683088}, {\"ano\": 2020, \"primeiro_estadiamento\": 1.0, \"numero_pacientes\": 42626, \"percentage\": 20.192325911890098}, {\"ano\": 2020, \"primeiro_estadiamento\": 2.0, \"numero_pacientes\": 70333, \"percentage\": 33.31738512553292}, {\"ano\": 2020, \"primeiro_estadiamento\": 3.0, \"numero_pacientes\": 71843, \"percentage\": 34.03268593083846}, {\"ano\": 2020, \"primeiro_estadiamento\": 4.0, \"numero_pacientes\": 19322, \"percentage\": 9.153008053055425}, {\"ano\": 2021, \"primeiro_estadiamento\": 0.0, \"numero_pacientes\": 7014, \"percentage\": 3.219823905838284}, {\"ano\": 2021, \"primeiro_estadiamento\": 1.0, \"numero_pacientes\": 42439, \"percentage\": 19.48190857426161}, {\"ano\": 2021, \"primeiro_estadiamento\": 2.0, \"numero_pacientes\": 71697, \"percentage\": 32.91299038735207}, {\"ano\": 2021, \"primeiro_estadiamento\": 3.0, \"numero_pacientes\": 75333, \"percentage\": 34.58212065847097}, {\"ano\": 2021, \"primeiro_estadiamento\": 4.0, \"numero_pacientes\": 21355, \"percentage\": 9.803156474077067}, {\"ano\": 2022, \"primeiro_estadiamento\": 0.0, \"numero_pacientes\": 6834, \"percentage\": 3.0162730446526695}, {\"ano\": 2022, \"primeiro_estadiamento\": 1.0, \"numero_pacientes\": 43370, \"percentage\": 19.141902538277183}, {\"ano\": 2022, \"primeiro_estadiamento\": 2.0, \"numero_pacientes\": 73113, \"percentage\": 32.26935486006594}, {\"ano\": 2022, \"primeiro_estadiamento\": 3.0, \"numero_pacientes\": 78859, \"percentage\": 34.80542523094306}, {\"ano\": 2022, \"primeiro_estadiamento\": 4.0, \"numero_pacientes\": 24395, \"percentage\": 10.767044326061146}, {\"ano\": 2023, \"primeiro_estadiamento\": 0.0, \"numero_pacientes\": 7172, \"percentage\": 2.981723845475862}, {\"ano\": 2023, \"primeiro_estadiamento\": 1.0, \"numero_pacientes\": 45785, \"percentage\": 19.034889328654817}, {\"ano\": 2023, \"primeiro_estadiamento\": 2.0, \"numero_pacientes\": 75686, \"percentage\": 31.466083514875358}, {\"ano\": 2023, \"primeiro_estadiamento\": 3.0, \"numero_pacientes\": 84281, \"percentage\": 35.03941263532503}, {\"ano\": 2023, \"primeiro_estadiamento\": 4.0, \"numero_pacientes\": 27608, \"percentage\": 11.477890675668935}, {\"ano\": 2024, \"primeiro_estadiamento\": 0.0, \"numero_pacientes\": 8292, \"percentage\": 3.2145764683078113}, {\"ano\": 2024, \"primeiro_estadiamento\": 1.0, \"numero_pacientes\": 49397, \"percentage\": 19.14983523938748}, {\"ano\": 2024, \"primeiro_estadiamento\": 2.0, \"numero_pacientes\": 80044, \"percentage\": 31.03081992634231}, {\"ano\": 2024, \"primeiro_estadiamento\": 3.0, \"numero_pacientes\": 88324, \"percentage\": 34.24074433029657}, {\"ano\": 2024, \"primeiro_estadiamento\": 4.0, \"numero_pacientes\": 31893, \"percentage\": 12.364024035665826}, {\"ano\": 2025, \"primeiro_estadiamento\": 0.0, \"numero_pacientes\": 3364, \"percentage\": 2.304204282367768}, {\"ano\": 2025, \"primeiro_estadiamento\": 1.0, \"numero_pacientes\": 28660, \"percentage\": 19.630943737413865}, {\"ano\": 2025, \"primeiro_estadiamento\": 2.0, \"numero_pacientes\": 47374, \"percentage\": 32.44927873748236}, {\"ano\": 2025, \"primeiro_estadiamento\": 3.0, \"numero_pacientes\": 48990, \"percentage\": 33.55617354137841}, {\"ano\": 2025, \"primeiro_estadiamento\": 4.0, \"numero_pacientes\": 17606, \"percentage\": 12.05939970135759}]}}, {\"mode\": \"vega-lite\"});\n",
              "</script>"
            ],
            "text/plain": [
              "alt.Chart(...)"
            ]
          },
          "metadata": {},
          "execution_count": 15
        }
      ]
    },
    {
      "cell_type": "code",
      "source": [
        "# prompt: # prompt: Usando o DataFrame df crie uma tabela com o percentual de numero_pacientes por ano e estadiamento, coloque os valores percentuais em colunas, seguindo a sequencia 0, 1, 2 , 3 e 4. Cada ano deve ser uma linha.\n",
        "\n",
        "import pandas as pd\n",
        "# Pivot the table to have stages as columns and years as rows\n",
        "pivot_df = pd.pivot_table(grouped_data, values='percentage', index='ano', columns='primeiro_estadiamento', aggfunc='sum', fill_value=0)\n",
        "\n",
        "# Rename columns for clarity (optional)\n",
        "pivot_df = pivot_df.rename(columns={0: '0%', 1: '1%', 2: '2%', 3: '3%', 4: '4%'})\n",
        "\n",
        "# Display the resulting table\n",
        "pivot_df\n"
      ],
      "metadata": {
        "id": "_nN6rKkvZDNr",
        "outputId": "b7c7c55f-be5f-42a8-f3f5-bff0234fb7ee",
        "colab": {
          "base_uri": "https://localhost:8080/",
          "height": 645
        }
      },
      "execution_count": 16,
      "outputs": [
        {
          "output_type": "execute_result",
          "data": {
            "text/plain": [
              "primeiro_estadiamento        0%         1%         2%         3%         4%\n",
              "ano                                                                        \n",
              "2008                   3.816270  19.432165  38.608962  27.402961  10.739643\n",
              "2009                   3.783668  19.806602  37.897909  28.969949   9.541872\n",
              "2010                   3.800870  20.184736  37.048134  30.150258   8.816001\n",
              "2011                   3.734570  20.765608  36.429540  30.771316   8.298965\n",
              "2012                   3.957398  21.278319  35.998380  30.697724   8.068179\n",
              "2013                   4.017623  21.591448  35.429096  31.020194   7.941639\n",
              "2014                   3.614945  21.704322  35.279707  31.274432   8.126593\n",
              "2015                   3.458813  21.376709  34.668993  32.079504   8.415982\n",
              "2016                   3.521466  21.234751  34.212331  32.366323   8.665129\n",
              "2017                   3.584308  21.084040  34.048513  32.720296   8.562842\n",
              "2018                   3.474680  20.924297  33.648593  33.122251   8.830179\n",
              "2019                   3.380535  20.668432  33.429356  33.546914   8.974764\n",
              "2020                   3.304595  20.192326  33.317385  34.032686   9.153008\n",
              "2021                   3.219824  19.481909  32.912990  34.582121   9.803156\n",
              "2022                   3.016273  19.141903  32.269355  34.805425  10.767044\n",
              "2023                   2.981724  19.034889  31.466084  35.039413  11.477891\n",
              "2024                   3.214576  19.149835  31.030820  34.240744  12.364024\n",
              "2025                   2.304204  19.630944  32.449279  33.556174  12.059400"
            ],
            "text/html": [
              "\n",
              "  <div id=\"df-331e3318-6e38-48c1-9b7a-ad5a5bf578b7\" class=\"colab-df-container\">\n",
              "    <div>\n",
              "<style scoped>\n",
              "    .dataframe tbody tr th:only-of-type {\n",
              "        vertical-align: middle;\n",
              "    }\n",
              "\n",
              "    .dataframe tbody tr th {\n",
              "        vertical-align: top;\n",
              "    }\n",
              "\n",
              "    .dataframe thead th {\n",
              "        text-align: right;\n",
              "    }\n",
              "</style>\n",
              "<table border=\"1\" class=\"dataframe\">\n",
              "  <thead>\n",
              "    <tr style=\"text-align: right;\">\n",
              "      <th>primeiro_estadiamento</th>\n",
              "      <th>0%</th>\n",
              "      <th>1%</th>\n",
              "      <th>2%</th>\n",
              "      <th>3%</th>\n",
              "      <th>4%</th>\n",
              "    </tr>\n",
              "    <tr>\n",
              "      <th>ano</th>\n",
              "      <th></th>\n",
              "      <th></th>\n",
              "      <th></th>\n",
              "      <th></th>\n",
              "      <th></th>\n",
              "    </tr>\n",
              "  </thead>\n",
              "  <tbody>\n",
              "    <tr>\n",
              "      <th>2008</th>\n",
              "      <td>3.816270</td>\n",
              "      <td>19.432165</td>\n",
              "      <td>38.608962</td>\n",
              "      <td>27.402961</td>\n",
              "      <td>10.739643</td>\n",
              "    </tr>\n",
              "    <tr>\n",
              "      <th>2009</th>\n",
              "      <td>3.783668</td>\n",
              "      <td>19.806602</td>\n",
              "      <td>37.897909</td>\n",
              "      <td>28.969949</td>\n",
              "      <td>9.541872</td>\n",
              "    </tr>\n",
              "    <tr>\n",
              "      <th>2010</th>\n",
              "      <td>3.800870</td>\n",
              "      <td>20.184736</td>\n",
              "      <td>37.048134</td>\n",
              "      <td>30.150258</td>\n",
              "      <td>8.816001</td>\n",
              "    </tr>\n",
              "    <tr>\n",
              "      <th>2011</th>\n",
              "      <td>3.734570</td>\n",
              "      <td>20.765608</td>\n",
              "      <td>36.429540</td>\n",
              "      <td>30.771316</td>\n",
              "      <td>8.298965</td>\n",
              "    </tr>\n",
              "    <tr>\n",
              "      <th>2012</th>\n",
              "      <td>3.957398</td>\n",
              "      <td>21.278319</td>\n",
              "      <td>35.998380</td>\n",
              "      <td>30.697724</td>\n",
              "      <td>8.068179</td>\n",
              "    </tr>\n",
              "    <tr>\n",
              "      <th>2013</th>\n",
              "      <td>4.017623</td>\n",
              "      <td>21.591448</td>\n",
              "      <td>35.429096</td>\n",
              "      <td>31.020194</td>\n",
              "      <td>7.941639</td>\n",
              "    </tr>\n",
              "    <tr>\n",
              "      <th>2014</th>\n",
              "      <td>3.614945</td>\n",
              "      <td>21.704322</td>\n",
              "      <td>35.279707</td>\n",
              "      <td>31.274432</td>\n",
              "      <td>8.126593</td>\n",
              "    </tr>\n",
              "    <tr>\n",
              "      <th>2015</th>\n",
              "      <td>3.458813</td>\n",
              "      <td>21.376709</td>\n",
              "      <td>34.668993</td>\n",
              "      <td>32.079504</td>\n",
              "      <td>8.415982</td>\n",
              "    </tr>\n",
              "    <tr>\n",
              "      <th>2016</th>\n",
              "      <td>3.521466</td>\n",
              "      <td>21.234751</td>\n",
              "      <td>34.212331</td>\n",
              "      <td>32.366323</td>\n",
              "      <td>8.665129</td>\n",
              "    </tr>\n",
              "    <tr>\n",
              "      <th>2017</th>\n",
              "      <td>3.584308</td>\n",
              "      <td>21.084040</td>\n",
              "      <td>34.048513</td>\n",
              "      <td>32.720296</td>\n",
              "      <td>8.562842</td>\n",
              "    </tr>\n",
              "    <tr>\n",
              "      <th>2018</th>\n",
              "      <td>3.474680</td>\n",
              "      <td>20.924297</td>\n",
              "      <td>33.648593</td>\n",
              "      <td>33.122251</td>\n",
              "      <td>8.830179</td>\n",
              "    </tr>\n",
              "    <tr>\n",
              "      <th>2019</th>\n",
              "      <td>3.380535</td>\n",
              "      <td>20.668432</td>\n",
              "      <td>33.429356</td>\n",
              "      <td>33.546914</td>\n",
              "      <td>8.974764</td>\n",
              "    </tr>\n",
              "    <tr>\n",
              "      <th>2020</th>\n",
              "      <td>3.304595</td>\n",
              "      <td>20.192326</td>\n",
              "      <td>33.317385</td>\n",
              "      <td>34.032686</td>\n",
              "      <td>9.153008</td>\n",
              "    </tr>\n",
              "    <tr>\n",
              "      <th>2021</th>\n",
              "      <td>3.219824</td>\n",
              "      <td>19.481909</td>\n",
              "      <td>32.912990</td>\n",
              "      <td>34.582121</td>\n",
              "      <td>9.803156</td>\n",
              "    </tr>\n",
              "    <tr>\n",
              "      <th>2022</th>\n",
              "      <td>3.016273</td>\n",
              "      <td>19.141903</td>\n",
              "      <td>32.269355</td>\n",
              "      <td>34.805425</td>\n",
              "      <td>10.767044</td>\n",
              "    </tr>\n",
              "    <tr>\n",
              "      <th>2023</th>\n",
              "      <td>2.981724</td>\n",
              "      <td>19.034889</td>\n",
              "      <td>31.466084</td>\n",
              "      <td>35.039413</td>\n",
              "      <td>11.477891</td>\n",
              "    </tr>\n",
              "    <tr>\n",
              "      <th>2024</th>\n",
              "      <td>3.214576</td>\n",
              "      <td>19.149835</td>\n",
              "      <td>31.030820</td>\n",
              "      <td>34.240744</td>\n",
              "      <td>12.364024</td>\n",
              "    </tr>\n",
              "    <tr>\n",
              "      <th>2025</th>\n",
              "      <td>2.304204</td>\n",
              "      <td>19.630944</td>\n",
              "      <td>32.449279</td>\n",
              "      <td>33.556174</td>\n",
              "      <td>12.059400</td>\n",
              "    </tr>\n",
              "  </tbody>\n",
              "</table>\n",
              "</div>\n",
              "    <div class=\"colab-df-buttons\">\n",
              "\n",
              "  <div class=\"colab-df-container\">\n",
              "    <button class=\"colab-df-convert\" onclick=\"convertToInteractive('df-331e3318-6e38-48c1-9b7a-ad5a5bf578b7')\"\n",
              "            title=\"Convert this dataframe to an interactive table.\"\n",
              "            style=\"display:none;\">\n",
              "\n",
              "  <svg xmlns=\"http://www.w3.org/2000/svg\" height=\"24px\" viewBox=\"0 -960 960 960\">\n",
              "    <path d=\"M120-120v-720h720v720H120Zm60-500h600v-160H180v160Zm220 220h160v-160H400v160Zm0 220h160v-160H400v160ZM180-400h160v-160H180v160Zm440 0h160v-160H620v160ZM180-180h160v-160H180v160Zm440 0h160v-160H620v160Z\"/>\n",
              "  </svg>\n",
              "    </button>\n",
              "\n",
              "  <style>\n",
              "    .colab-df-container {\n",
              "      display:flex;\n",
              "      gap: 12px;\n",
              "    }\n",
              "\n",
              "    .colab-df-convert {\n",
              "      background-color: #E8F0FE;\n",
              "      border: none;\n",
              "      border-radius: 50%;\n",
              "      cursor: pointer;\n",
              "      display: none;\n",
              "      fill: #1967D2;\n",
              "      height: 32px;\n",
              "      padding: 0 0 0 0;\n",
              "      width: 32px;\n",
              "    }\n",
              "\n",
              "    .colab-df-convert:hover {\n",
              "      background-color: #E2EBFA;\n",
              "      box-shadow: 0px 1px 2px rgba(60, 64, 67, 0.3), 0px 1px 3px 1px rgba(60, 64, 67, 0.15);\n",
              "      fill: #174EA6;\n",
              "    }\n",
              "\n",
              "    .colab-df-buttons div {\n",
              "      margin-bottom: 4px;\n",
              "    }\n",
              "\n",
              "    [theme=dark] .colab-df-convert {\n",
              "      background-color: #3B4455;\n",
              "      fill: #D2E3FC;\n",
              "    }\n",
              "\n",
              "    [theme=dark] .colab-df-convert:hover {\n",
              "      background-color: #434B5C;\n",
              "      box-shadow: 0px 1px 3px 1px rgba(0, 0, 0, 0.15);\n",
              "      filter: drop-shadow(0px 1px 2px rgba(0, 0, 0, 0.3));\n",
              "      fill: #FFFFFF;\n",
              "    }\n",
              "  </style>\n",
              "\n",
              "    <script>\n",
              "      const buttonEl =\n",
              "        document.querySelector('#df-331e3318-6e38-48c1-9b7a-ad5a5bf578b7 button.colab-df-convert');\n",
              "      buttonEl.style.display =\n",
              "        google.colab.kernel.accessAllowed ? 'block' : 'none';\n",
              "\n",
              "      async function convertToInteractive(key) {\n",
              "        const element = document.querySelector('#df-331e3318-6e38-48c1-9b7a-ad5a5bf578b7');\n",
              "        const dataTable =\n",
              "          await google.colab.kernel.invokeFunction('convertToInteractive',\n",
              "                                                    [key], {});\n",
              "        if (!dataTable) return;\n",
              "\n",
              "        const docLinkHtml = 'Like what you see? Visit the ' +\n",
              "          '<a target=\"_blank\" href=https://colab.research.google.com/notebooks/data_table.ipynb>data table notebook</a>'\n",
              "          + ' to learn more about interactive tables.';\n",
              "        element.innerHTML = '';\n",
              "        dataTable['output_type'] = 'display_data';\n",
              "        await google.colab.output.renderOutput(dataTable, element);\n",
              "        const docLink = document.createElement('div');\n",
              "        docLink.innerHTML = docLinkHtml;\n",
              "        element.appendChild(docLink);\n",
              "      }\n",
              "    </script>\n",
              "  </div>\n",
              "\n",
              "\n",
              "<div id=\"df-26de8dbf-e85e-4c50-b24e-d57617bc66ed\">\n",
              "  <button class=\"colab-df-quickchart\" onclick=\"quickchart('df-26de8dbf-e85e-4c50-b24e-d57617bc66ed')\"\n",
              "            title=\"Suggest charts\"\n",
              "            style=\"display:none;\">\n",
              "\n",
              "<svg xmlns=\"http://www.w3.org/2000/svg\" height=\"24px\"viewBox=\"0 0 24 24\"\n",
              "     width=\"24px\">\n",
              "    <g>\n",
              "        <path d=\"M19 3H5c-1.1 0-2 .9-2 2v14c0 1.1.9 2 2 2h14c1.1 0 2-.9 2-2V5c0-1.1-.9-2-2-2zM9 17H7v-7h2v7zm4 0h-2V7h2v10zm4 0h-2v-4h2v4z\"/>\n",
              "    </g>\n",
              "</svg>\n",
              "  </button>\n",
              "\n",
              "<style>\n",
              "  .colab-df-quickchart {\n",
              "      --bg-color: #E8F0FE;\n",
              "      --fill-color: #1967D2;\n",
              "      --hover-bg-color: #E2EBFA;\n",
              "      --hover-fill-color: #174EA6;\n",
              "      --disabled-fill-color: #AAA;\n",
              "      --disabled-bg-color: #DDD;\n",
              "  }\n",
              "\n",
              "  [theme=dark] .colab-df-quickchart {\n",
              "      --bg-color: #3B4455;\n",
              "      --fill-color: #D2E3FC;\n",
              "      --hover-bg-color: #434B5C;\n",
              "      --hover-fill-color: #FFFFFF;\n",
              "      --disabled-bg-color: #3B4455;\n",
              "      --disabled-fill-color: #666;\n",
              "  }\n",
              "\n",
              "  .colab-df-quickchart {\n",
              "    background-color: var(--bg-color);\n",
              "    border: none;\n",
              "    border-radius: 50%;\n",
              "    cursor: pointer;\n",
              "    display: none;\n",
              "    fill: var(--fill-color);\n",
              "    height: 32px;\n",
              "    padding: 0;\n",
              "    width: 32px;\n",
              "  }\n",
              "\n",
              "  .colab-df-quickchart:hover {\n",
              "    background-color: var(--hover-bg-color);\n",
              "    box-shadow: 0 1px 2px rgba(60, 64, 67, 0.3), 0 1px 3px 1px rgba(60, 64, 67, 0.15);\n",
              "    fill: var(--button-hover-fill-color);\n",
              "  }\n",
              "\n",
              "  .colab-df-quickchart-complete:disabled,\n",
              "  .colab-df-quickchart-complete:disabled:hover {\n",
              "    background-color: var(--disabled-bg-color);\n",
              "    fill: var(--disabled-fill-color);\n",
              "    box-shadow: none;\n",
              "  }\n",
              "\n",
              "  .colab-df-spinner {\n",
              "    border: 2px solid var(--fill-color);\n",
              "    border-color: transparent;\n",
              "    border-bottom-color: var(--fill-color);\n",
              "    animation:\n",
              "      spin 1s steps(1) infinite;\n",
              "  }\n",
              "\n",
              "  @keyframes spin {\n",
              "    0% {\n",
              "      border-color: transparent;\n",
              "      border-bottom-color: var(--fill-color);\n",
              "      border-left-color: var(--fill-color);\n",
              "    }\n",
              "    20% {\n",
              "      border-color: transparent;\n",
              "      border-left-color: var(--fill-color);\n",
              "      border-top-color: var(--fill-color);\n",
              "    }\n",
              "    30% {\n",
              "      border-color: transparent;\n",
              "      border-left-color: var(--fill-color);\n",
              "      border-top-color: var(--fill-color);\n",
              "      border-right-color: var(--fill-color);\n",
              "    }\n",
              "    40% {\n",
              "      border-color: transparent;\n",
              "      border-right-color: var(--fill-color);\n",
              "      border-top-color: var(--fill-color);\n",
              "    }\n",
              "    60% {\n",
              "      border-color: transparent;\n",
              "      border-right-color: var(--fill-color);\n",
              "    }\n",
              "    80% {\n",
              "      border-color: transparent;\n",
              "      border-right-color: var(--fill-color);\n",
              "      border-bottom-color: var(--fill-color);\n",
              "    }\n",
              "    90% {\n",
              "      border-color: transparent;\n",
              "      border-bottom-color: var(--fill-color);\n",
              "    }\n",
              "  }\n",
              "</style>\n",
              "\n",
              "  <script>\n",
              "    async function quickchart(key) {\n",
              "      const quickchartButtonEl =\n",
              "        document.querySelector('#' + key + ' button');\n",
              "      quickchartButtonEl.disabled = true;  // To prevent multiple clicks.\n",
              "      quickchartButtonEl.classList.add('colab-df-spinner');\n",
              "      try {\n",
              "        const charts = await google.colab.kernel.invokeFunction(\n",
              "            'suggestCharts', [key], {});\n",
              "      } catch (error) {\n",
              "        console.error('Error during call to suggestCharts:', error);\n",
              "      }\n",
              "      quickchartButtonEl.classList.remove('colab-df-spinner');\n",
              "      quickchartButtonEl.classList.add('colab-df-quickchart-complete');\n",
              "    }\n",
              "    (() => {\n",
              "      let quickchartButtonEl =\n",
              "        document.querySelector('#df-26de8dbf-e85e-4c50-b24e-d57617bc66ed button');\n",
              "      quickchartButtonEl.style.display =\n",
              "        google.colab.kernel.accessAllowed ? 'block' : 'none';\n",
              "    })();\n",
              "  </script>\n",
              "</div>\n",
              "\n",
              "  <div id=\"id_6348ca39-bbb9-4842-9847-7cae043fea0d\">\n",
              "    <style>\n",
              "      .colab-df-generate {\n",
              "        background-color: #E8F0FE;\n",
              "        border: none;\n",
              "        border-radius: 50%;\n",
              "        cursor: pointer;\n",
              "        display: none;\n",
              "        fill: #1967D2;\n",
              "        height: 32px;\n",
              "        padding: 0 0 0 0;\n",
              "        width: 32px;\n",
              "      }\n",
              "\n",
              "      .colab-df-generate:hover {\n",
              "        background-color: #E2EBFA;\n",
              "        box-shadow: 0px 1px 2px rgba(60, 64, 67, 0.3), 0px 1px 3px 1px rgba(60, 64, 67, 0.15);\n",
              "        fill: #174EA6;\n",
              "      }\n",
              "\n",
              "      [theme=dark] .colab-df-generate {\n",
              "        background-color: #3B4455;\n",
              "        fill: #D2E3FC;\n",
              "      }\n",
              "\n",
              "      [theme=dark] .colab-df-generate:hover {\n",
              "        background-color: #434B5C;\n",
              "        box-shadow: 0px 1px 3px 1px rgba(0, 0, 0, 0.15);\n",
              "        filter: drop-shadow(0px 1px 2px rgba(0, 0, 0, 0.3));\n",
              "        fill: #FFFFFF;\n",
              "      }\n",
              "    </style>\n",
              "    <button class=\"colab-df-generate\" onclick=\"generateWithVariable('pivot_df')\"\n",
              "            title=\"Generate code using this dataframe.\"\n",
              "            style=\"display:none;\">\n",
              "\n",
              "  <svg xmlns=\"http://www.w3.org/2000/svg\" height=\"24px\"viewBox=\"0 0 24 24\"\n",
              "       width=\"24px\">\n",
              "    <path d=\"M7,19H8.4L18.45,9,17,7.55,7,17.6ZM5,21V16.75L18.45,3.32a2,2,0,0,1,2.83,0l1.4,1.43a1.91,1.91,0,0,1,.58,1.4,1.91,1.91,0,0,1-.58,1.4L9.25,21ZM18.45,9,17,7.55Zm-12,3A5.31,5.31,0,0,0,4.9,8.1,5.31,5.31,0,0,0,1,6.5,5.31,5.31,0,0,0,4.9,4.9,5.31,5.31,0,0,0,6.5,1,5.31,5.31,0,0,0,8.1,4.9,5.31,5.31,0,0,0,12,6.5,5.46,5.46,0,0,0,6.5,12Z\"/>\n",
              "  </svg>\n",
              "    </button>\n",
              "    <script>\n",
              "      (() => {\n",
              "      const buttonEl =\n",
              "        document.querySelector('#id_6348ca39-bbb9-4842-9847-7cae043fea0d button.colab-df-generate');\n",
              "      buttonEl.style.display =\n",
              "        google.colab.kernel.accessAllowed ? 'block' : 'none';\n",
              "\n",
              "      buttonEl.onclick = () => {\n",
              "        google.colab.notebook.generateWithVariable('pivot_df');\n",
              "      }\n",
              "      })();\n",
              "    </script>\n",
              "  </div>\n",
              "\n",
              "    </div>\n",
              "  </div>\n"
            ],
            "application/vnd.google.colaboratory.intrinsic+json": {
              "type": "dataframe",
              "variable_name": "pivot_df",
              "summary": "{\n  \"name\": \"pivot_df\",\n  \"rows\": 18,\n  \"fields\": [\n    {\n      \"column\": \"ano\",\n      \"properties\": {\n        \"dtype\": \"int32\",\n        \"num_unique_values\": 18,\n        \"samples\": [\n          2008,\n          2009,\n          2016\n        ],\n        \"semantic_type\": \"\",\n        \"description\": \"\"\n      }\n    },\n    {\n      \"column\": \"0%\",\n      \"properties\": {\n        \"dtype\": \"number\",\n        \"std\": 0.4154710338624154,\n        \"min\": 2.304204282367768,\n        \"max\": 4.017623124734779,\n        \"num_unique_values\": 18,\n        \"samples\": [\n          3.816269801399913,\n          3.7836677243123313,\n          3.521465927054944\n        ],\n        \"semantic_type\": \"\",\n        \"description\": \"\"\n      }\n    },\n    {\n      \"column\": \"1%\",\n      \"properties\": {\n        \"dtype\": \"number\",\n        \"std\": 0.9171114582856862,\n        \"min\": 19.034889328654817,\n        \"max\": 21.704322344322343,\n        \"num_unique_values\": 18,\n        \"samples\": [\n          19.43216450651395,\n          19.806601935571088,\n          21.234751174294146\n        ],\n        \"semantic_type\": \"\",\n        \"description\": \"\"\n      }\n    },\n    {\n      \"column\": \"2%\",\n      \"properties\": {\n        \"dtype\": \"number\",\n        \"std\": 2.1535988580101293,\n        \"min\": 31.03081992634231,\n        \"max\": 38.60896212197327,\n        \"num_unique_values\": 18,\n        \"samples\": [\n          38.60896212197327,\n          37.89790936056174,\n          34.21233051351643\n        ],\n        \"semantic_type\": \"\",\n        \"description\": \"\"\n      }\n    },\n    {\n      \"column\": \"3%\",\n      \"properties\": {\n        \"dtype\": \"number\",\n        \"std\": 2.1285781315205257,\n        \"min\": 27.402960581399245,\n        \"max\": 35.03941263532503,\n        \"num_unique_values\": 18,\n        \"samples\": [\n          27.402960581399245,\n          28.969948549116904,\n          32.36632311362182\n        ],\n        \"semantic_type\": \"\",\n        \"description\": \"\"\n      }\n    },\n    {\n      \"column\": \"4%\",\n      \"properties\": {\n        \"dtype\": \"number\",\n        \"std\": 1.4092731919347066,\n        \"min\": 7.941639000524201,\n        \"max\": 12.364024035665826,\n        \"num_unique_values\": 18,\n        \"samples\": [\n          10.739642988713621,\n          9.54187243043793,\n          8.665129271512672\n        ],\n        \"semantic_type\": \"\",\n        \"description\": \"\"\n      }\n    }\n  ]\n}"
            }
          },
          "metadata": {},
          "execution_count": 16
        }
      ]
    },
    {
      "cell_type": "code",
      "source": [
        "spark.sql(f\"\"\"\n",
        "    SELECT\n",
        "        COUNT(DISTINCT(paciente)) AS numero_pacientes\n",
        "    FROM\n",
        "        cancer_mama.procedimentos_e_pacientes\n",
        "    where data = '202501'\n",
        "\n",
        "\"\"\").show()"
      ],
      "metadata": {
        "id": "QGxIaJlabKTt",
        "outputId": "a9b6622c-d4d3-4af6-8c73-1a7c3c9b95c9",
        "colab": {
          "base_uri": "https://localhost:8080/"
        }
      },
      "execution_count": 20,
      "outputs": [
        {
          "output_type": "stream",
          "name": "stdout",
          "text": [
            "+----------------+\n",
            "|numero_pacientes|\n",
            "+----------------+\n",
            "|          143671|\n",
            "+----------------+\n",
            "\n"
          ]
        }
      ]
    },
    {
      "cell_type": "code",
      "source": [
        "spark.sql(f\"\"\"\n",
        "    SELECT\n",
        "        COUNT(DISTINCT(paciente)) AS numero_pacientes\n",
        "    FROM\n",
        "        cancer_mama.procedimentos_e_pacientes\n",
        "\n",
        "\"\"\").show()"
      ],
      "metadata": {
        "id": "bRZ3VOCI7j6c",
        "outputId": "732e3b13-b360-44ce-f550-c42d30b2e2ca",
        "colab": {
          "base_uri": "https://localhost:8080/"
        }
      },
      "execution_count": 19,
      "outputs": [
        {
          "output_type": "stream",
          "name": "stdout",
          "text": [
            "+------+--------+------------+------+-----+---------+--------------------------+------------------------+---------------------+------------------+-------------------+-------------------+------------------+----------------+---------------+\n",
            "|  data|paciente|estadiamento| custo|obito|municipio|data_primeiro_estadiamento|data_ultimo_estadiamento|primeiro_estadiamento|maior_estadiamento|ultimo_estadiamento|        custo_total|primeiro_municipio|ultimo_municipio|indicacao_obito|\n",
            "+------+--------+------------+------+-----+---------+--------------------------+------------------------+---------------------+------------------+-------------------+-------------------+------------------+----------------+---------------+\n",
            "|202405|        |           1| 79.75|    0|   354890|                    202404|                  202502|                    3|                 4|                  4|3.812679215000043E7|            351930|          250130|              1|\n",
            "|202412|        |           4|  34.1|    0|   520140|                    202404|                  202502|                    3|                 4|                  4|3.812679215000043E7|            351930|          250130|              1|\n",
            "|202405|        |           2| 79.75|    0|   354890|                    202404|                  202502|                    3|                 4|                  4|3.812679215000043E7|            351930|          250130|              1|\n",
            "|202412|        |           4|  34.1|    0|   520870|                    202404|                  202502|                    3|                 4|                  4|3.812679215000043E7|            351930|          250130|              1|\n",
            "|202405|        |           2| 79.75|    0|   354890|                    202404|                  202502|                    3|                 4|                  4|3.812679215000043E7|            351930|          250130|              1|\n",
            "|202411|        |           4|1400.0|    0|   520140|                    202404|                  202502|                    3|                 4|                  4|3.812679215000043E7|            351930|          250130|              1|\n",
            "|202405|        |           3|2828.4|    0|   354890|                    202404|                  202502|                    3|                 4|                  4|3.812679215000043E7|            351930|          250130|              1|\n",
            "|202411|        |           4|1400.0|    0|   521770|                    202404|                  202502|                    3|                 4|                  4|3.812679215000043E7|            351930|          250130|              1|\n",
            "|202405|        |           2| 79.75|    0|   354890|                    202404|                  202502|                    3|                 4|                  4|3.812679215000043E7|            351930|          250130|              1|\n",
            "|202412|        |           4| 800.0|    0|   522045|                    202404|                  202502|                    3|                 4|                  4|3.812679215000043E7|            351930|          250130|              1|\n",
            "|202405|        |           2|  34.1|    0|   354890|                    202404|                  202502|                    3|                 4|                  4|3.812679215000043E7|            351930|          250130|              1|\n",
            "|202412|        |           4| 79.75|    0|   520110|                    202404|                  202502|                    3|                 4|                  4|3.812679215000043E7|            351930|          250130|              1|\n",
            "|202405|        |           2|1700.0|    0|   354890|                    202404|                  202502|                    3|                 4|                  4|3.812679215000043E7|            351930|          250130|              1|\n",
            "|202412|        |           4| 79.75|    0|   521180|                    202404|                  202502|                    3|                 4|                  4|3.812679215000043E7|            351930|          250130|              1|\n",
            "|202405|        |           1| 79.75|    0|   354890|                    202404|                  202502|                    3|                 4|                  4|3.812679215000043E7|            351930|          250130|              1|\n",
            "|202412|        |           4| 79.75|    0|   520110|                    202404|                  202502|                    3|                 4|                  4|3.812679215000043E7|            351930|          250130|              1|\n",
            "|202405|        |           3| 79.75|    0|   354890|                    202404|                  202502|                    3|                 4|                  4|3.812679215000043E7|            351930|          250130|              1|\n",
            "|202412|        |           4| 79.75|    0|   520110|                    202404|                  202502|                    3|                 4|                  4|3.812679215000043E7|            351930|          250130|              1|\n",
            "|202405|        |           1| 79.75|    0|   354890|                    202404|                  202502|                    3|                 4|                  4|3.812679215000043E7|            351930|          250130|              1|\n",
            "|202412|        |           4| 79.75|    0|   520110|                    202404|                  202502|                    3|                 4|                  4|3.812679215000043E7|            351930|          250130|              1|\n",
            "+------+--------+------------+------+-----+---------+--------------------------+------------------------+---------------------+------------------+-------------------+-------------------+------------------+----------------+---------------+\n",
            "only showing top 20 rows\n",
            "\n"
          ]
        }
      ]
    },
    {
      "cell_type": "code",
      "source": [
        "spark.sql(f\"\"\"\n",
        "    SELECT\n",
        "        sum(custo) AS custo_pacientes\n",
        "    FROM\n",
        "        cancer_mama.procedimentos_e_pacientes\n",
        "        where data = '202501'\n",
        "\n",
        "\"\"\").show()"
      ],
      "metadata": {
        "id": "5TLwyvUyAAJ_",
        "outputId": "d78ad67c-9d68-4b43-9556-3000149fb774",
        "colab": {
          "base_uri": "https://localhost:8080/"
        }
      },
      "execution_count": 27,
      "outputs": [
        {
          "output_type": "stream",
          "name": "stdout",
          "text": [
            "+-------------------+\n",
            "|    custo_pacientes|\n",
            "+-------------------+\n",
            "|7.746116285000196E7|\n",
            "+-------------------+\n",
            "\n"
          ]
        }
      ]
    },
    {
      "cell_type": "code",
      "source": [
        "spark.sql(f\"\"\"\n",
        "    SELECT\n",
        "        SUM(custo_estadiamento) AS custo_pacientes\n",
        "    FROM\n",
        "        cancer_mama.dados_estados_mensal\n",
        "    where data = '202501'\n",
        "\n",
        "\"\"\").show()"
      ],
      "metadata": {
        "id": "0xcEBZVT_rKf",
        "outputId": "7c4636bb-3e85-4817-d529-04ea0bd945fe",
        "colab": {
          "base_uri": "https://localhost:8080/"
        }
      },
      "execution_count": 25,
      "outputs": [
        {
          "output_type": "stream",
          "name": "stdout",
          "text": [
            "+-------------------+\n",
            "|    custo_pacientes|\n",
            "+-------------------+\n",
            "|7.746116284999998E7|\n",
            "+-------------------+\n",
            "\n"
          ]
        }
      ]
    },
    {
      "cell_type": "code",
      "source": [
        "spark.sql(f\"\"\"\n",
        "    SELECT\n",
        "        SUM(numero_pacientes) AS numero_pacientes\n",
        "    FROM\n",
        "        cancer_mama.dados_estados_mensal\n",
        "    where data = '202501'\n",
        "\n",
        "\"\"\").show()"
      ],
      "metadata": {
        "id": "8eaaGyxr7I4n",
        "outputId": "ad6eddfc-be62-42bb-8a9b-60d14e51e687",
        "colab": {
          "base_uri": "https://localhost:8080/"
        }
      },
      "execution_count": 22,
      "outputs": [
        {
          "output_type": "stream",
          "name": "stdout",
          "text": [
            "+----------------+\n",
            "|numero_pacientes|\n",
            "+----------------+\n",
            "|          145963|\n",
            "+----------------+\n",
            "\n"
          ]
        }
      ]
    },
    {
      "cell_type": "code",
      "source": [
        "spark.sql(f\"\"\"\n",
        "    SELECT\n",
        "        SUM(numero_pacientes) AS numero_pacientes\n",
        "    FROM\n",
        "        cancer_mama.dados_municipios_mensal\n",
        "    where data = '202501'\n",
        "\n",
        "\"\"\").show()"
      ],
      "metadata": {
        "id": "yrJFC0VnB9VC",
        "outputId": "57323b38-8d23-4f4c-85ba-9e81dcf2e95f",
        "colab": {
          "base_uri": "https://localhost:8080/"
        }
      },
      "execution_count": 28,
      "outputs": [
        {
          "output_type": "stream",
          "name": "stdout",
          "text": [
            "+----------------+\n",
            "|numero_pacientes|\n",
            "+----------------+\n",
            "|          145963|\n",
            "+----------------+\n",
            "\n"
          ]
        }
      ]
    },
    {
      "cell_type": "code",
      "source": [
        "spark.sql(f\"\"\"\n",
        "    SELECT\n",
        "        *\n",
        "    FROM\n",
        "        cancer_mama.dados_estados_mensal\n",
        "\n",
        "\n",
        "\"\"\").show()"
      ],
      "metadata": {
        "id": "uPyTVio68KtA",
        "outputId": "ebae23e3-a61c-4068-ad69-c442a3cabd25",
        "colab": {
          "base_uri": "https://localhost:8080/"
        }
      },
      "execution_count": 23,
      "outputs": [
        {
          "output_type": "stream",
          "name": "stdout",
          "text": [
            "+--------+------+---------------------+------------------+----------------+-----------------+------+--------------+--------------------+-------------------+\n",
            "|  estado|  data|primeiro_estadiamento|custo_estadiamento|numero_pacientes|numero_municipios|obitos|obitos_futuros|numero_procedimentos|numero_diagnosticos|\n",
            "+--------+------+---------------------+------------------+----------------+-----------------+------+--------------+--------------------+-------------------+\n",
            "|Rondônia|200801|                    1|1437.6999999999998|              13|                7|     0|             0|                  13|                 13|\n",
            "|Rondônia|200801|                    2|17133.420000000002|              52|               19|     0|             2|                  53|                 52|\n",
            "|Rondônia|200801|                    3|           50399.3|              70|               25|     0|             2|                  71|                 70|\n",
            "|Rondônia|200801|                    4|          34021.97|              28|               12|     1|             2|                  30|                 28|\n",
            "|Rondônia|200801|                    0|           2105.58|               1|                1|     0|             0|                   1|                  1|\n",
            "|    Acre|200801|                    1|             319.0|               4|                2|     0|             0|                   4|                  4|\n",
            "|    Acre|200801|                    3|           6025.67|               8|                4|     0|             1|                   8|                  8|\n",
            "|    Acre|200801|                    2|           3189.65|               5|                2|     0|             0|                   5|                  5|\n",
            "|Amazonas|200801|                    3|          75513.23|             130|               13|     0|             1|                 130|                130|\n",
            "|Amazonas|200801|                    2| 83293.73999999998|             272|               15|     0|             2|                 278|                271|\n",
            "|Amazonas|200801|                    1|          17267.42|              79|                3|     0|             1|                  80|                 79|\n",
            "|Amazonas|200801|                    4|22305.570000000003|              32|                2|     0|             1|                  34|                 32|\n",
            "| Roraima|200801|                    1|             79.75|               1|                1|     0|             0|                   1|                  1|\n",
            "| Roraima|200801|                    2|            612.15|               6|                1|     0|             0|                   6|                  6|\n",
            "| Roraima|200801|                    3|            2839.9|               4|                1|     0|             0|                   4|                  4|\n",
            "|    Pará|200801|                    2|          46635.48|             295|               29|     0|             1|                 296|                294|\n",
            "|    Pará|200801|                    1|21271.570000000003|             117|               24|     0|             0|                 119|                117|\n",
            "|    Pará|200801|                    3| 78769.16999999998|             161|               30|     0|             1|                 162|                160|\n",
            "|    Pará|200801|                    4|          34286.41|              42|                7|     0|             0|                  42|                 41|\n",
            "|    Pará|200801|                    0|             277.2|               1|                1|     0|             0|                   1|                  1|\n",
            "+--------+------+---------------------+------------------+----------------+-----------------+------+--------------+--------------------+-------------------+\n",
            "only showing top 20 rows\n",
            "\n"
          ]
        }
      ]
    },
    {
      "cell_type": "code",
      "source": [
        "spark.sql(f\"\"\"\n",
        "    select sum(num_mun), count(1) from\n",
        "\n",
        "    (SELECT\n",
        "        count(distinct municipio) num_mun, paciente\n",
        "\n",
        "\n",
        "    FROM\n",
        "        cancer_mama.procedimentos_e_pacientes\n",
        "     where data = '202501'\n",
        "     group by paciente)\n",
        "\n",
        "     where num_mun > 1\n",
        "\n",
        "\"\"\").show()"
      ],
      "metadata": {
        "id": "VYoktluADMWT",
        "outputId": "f1c17a69-b421-4e0e-e90b-e45cbc505eb8",
        "colab": {
          "base_uri": "https://localhost:8080/"
        }
      },
      "execution_count": 45,
      "outputs": [
        {
          "output_type": "stream",
          "name": "stdout",
          "text": [
            "+------------+--------+\n",
            "|sum(num_mun)|count(1)|\n",
            "+------------+--------+\n",
            "|        2409|     117|\n",
            "+------------+--------+\n",
            "\n"
          ]
        }
      ]
    },
    {
      "cell_type": "code",
      "source": [
        "143671 - 145963"
      ],
      "metadata": {
        "id": "YQVzTr2xDfFJ",
        "outputId": "e642f4e7-4d33-4e3f-9368-6f8f714ec4c3",
        "colab": {
          "base_uri": "https://localhost:8080/"
        }
      },
      "execution_count": 44,
      "outputs": [
        {
          "output_type": "execute_result",
          "data": {
            "text/plain": [
              "-2292"
            ]
          },
          "metadata": {},
          "execution_count": 44
        }
      ]
    },
    {
      "cell_type": "code",
      "source": [
        "2409 - 117"
      ],
      "metadata": {
        "id": "LQ4_01HvGR7k",
        "outputId": "df869f34-e7c1-413f-a79c-bff87b19354b",
        "colab": {
          "base_uri": "https://localhost:8080/"
        }
      },
      "execution_count": 46,
      "outputs": [
        {
          "output_type": "execute_result",
          "data": {
            "text/plain": [
              "2292"
            ]
          },
          "metadata": {},
          "execution_count": 46
        }
      ]
    },
    {
      "cell_type": "code",
      "source": [
        "spark.sql(f\"\"\"\n",
        "    select * from\n",
        "\n",
        "    (SELECT\n",
        "        count(distinct municipio) num_mun, paciente\n",
        "\n",
        "\n",
        "    FROM\n",
        "        cancer_mama.procedimentos_e_pacientes\n",
        "     where data = '202501'\n",
        "     group by paciente)\n",
        "\n",
        "     where num_mun > 1\n",
        "\n",
        "\"\"\").show()"
      ],
      "metadata": {
        "id": "j6CyhV2BGZj8",
        "outputId": "0ee7b203-cdc7-4f29-8fb2-466073e1d318",
        "colab": {
          "base_uri": "https://localhost:8080/"
        }
      },
      "execution_count": 47,
      "outputs": [
        {
          "output_type": "stream",
          "name": "stdout",
          "text": [
            "+-------+---------------+\n",
            "|num_mun|       paciente|\n",
            "+-------+---------------+\n",
            "|   1792|               |\n",
            "|    387|{{{{{{{{{{{{{{{|\n",
            "|      2||{~{{{{|\n",
            "|      2|}{||{{{{|\n",
            "|      2|}{}{{{{|\n",
            "|      2|}{|~~{{{|\n",
            "|      2|{{{{|{|\n",
            "|      2|{{{{}}}~{|\n",
            "|      2|{{{{~~{~{|\n",
            "|      2|{{{{~}{{~|\n",
            "|      2|{{{{~{{|\n",
            "|      2|{{{{~}||{}|\n",
            "|      2|{{{{}|{{|\n",
            "|      2|{{{{{|{|\n",
            "|      2|{{{{|~{|\n",
            "|      2|{{{{{}{~|\n",
            "|      2|{{{{{}~|{|\n",
            "|      2|{{{{}~}{|\n",
            "|      2|{{}{{}~|\n",
            "|      2|{{}{{}|\n",
            "+-------+---------------+\n",
            "only showing top 20 rows\n",
            "\n"
          ]
        }
      ]
    },
    {
      "cell_type": "code",
      "source": [
        "spark.sql(f\"\"\"\n",
        "    select * from\n",
        "\n",
        "    (SELECT\n",
        "        count(distinct municipio) num_mun, paciente\n",
        "\n",
        "\n",
        "    FROM\n",
        "\n",
        "  (SELECT\n",
        "      c.*,\n",
        "      p.data_primeiro_estadiamento,\n",
        "      p.data_ultimo_estadiamento,\n",
        "      p.primeiro_estadiamento,\n",
        "      p.maior_estadiamento,\n",
        "      p.ultimo_estadiamento,\n",
        "      p.custo_total,\n",
        "      p.primeiro_municipio,\n",
        "      p.ultimo_municipio,\n",
        "      p.indicacao_obito\n",
        "  FROM cancer_mama.pacientes AS p\n",
        "  LEFT JOIN cancer_mama.procedimentos AS c\n",
        "  ON c.paciente = p.paciente)\n",
        "\n",
        "     where data = '202501'\n",
        "     group by paciente)\n",
        "\n",
        "     where num_mun > 1\n",
        "\n",
        "\"\"\").show()"
      ],
      "metadata": {
        "id": "_Tz8lTsXG0GO",
        "outputId": "d3aa42bb-0840-4911-f5f9-54c30e54223a",
        "colab": {
          "base_uri": "https://localhost:8080/"
        }
      },
      "execution_count": 49,
      "outputs": [
        {
          "output_type": "stream",
          "name": "stdout",
          "text": [
            "+-------+---------------+\n",
            "|num_mun|       paciente|\n",
            "+-------+---------------+\n",
            "|    387|{{{{{{{{{{{{{{{|\n",
            "|   1792|               |\n",
            "|      2|{{}~{~}}{||\n",
            "|      2|{~{{|~~||\n",
            "|      2|{{~{{|~{|\n",
            "|      2|}{||{{{{|\n",
            "|      2|{{||\n",
            "|      2|{{}}}|{~|\n",
            "|      2||{~{{{{|\n",
            "|      2|{{{~}{}}}|\n",
            "|      2|{}{{~}~||\n",
            "|      2|{}{}~|\n",
            "|      2|{~{~|{}|\n",
            "|      2|{{}{{|}{|\n",
            "|      2|{{{{}|\n",
            "|      2|{{{{~}||{}|\n",
            "|      2|{{{{}}}~{|\n",
            "|      2|{{{{~}{{~|\n",
            "|      2|{{}|{}|{||\n",
            "|      2|{{}~||~|\n",
            "+-------+---------------+\n",
            "only showing top 20 rows\n",
            "\n"
          ]
        }
      ]
    },
    {
      "cell_type": "code",
      "source": [],
      "metadata": {
        "id": "dnMFRspKHdn5"
      },
      "execution_count": null,
      "outputs": []
    }
  ],
  "metadata": {
    "colab": {
      "provenance": [],
      "include_colab_link": true
    },
    "kernelspec": {
      "display_name": "Python 3",
      "name": "python3"
    },
    "language_info": {
      "name": "python"
    }
  },
  "nbformat": 4,
  "nbformat_minor": 0
}